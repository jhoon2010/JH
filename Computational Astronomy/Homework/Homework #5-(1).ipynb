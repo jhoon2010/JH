{
 "cells": [
  {
   "cell_type": "markdown",
   "metadata": {},
   "source": [
    "# Problem 1"
   ]
  },
  {
   "cell_type": "code",
   "execution_count": 1,
   "metadata": {},
   "outputs": [],
   "source": [
    "import numpy as np\n",
    "import matplotlib.pyplot as plt"
   ]
  },
  {
   "cell_type": "code",
   "execution_count": 2,
   "metadata": {},
   "outputs": [],
   "source": [
    "cnt = 0\n",
    "A   = []\n",
    "B   = []\n",
    "while(cnt < 256): # 계수 행렬을 만들어 줌\n",
    "    i   = 0\n",
    "    row = []\n",
    "    if(cnt == 0): # 첫 번째 행에 대해서\n",
    "        row.append(-2)\n",
    "        row.append(1)\n",
    "        while (i < 254):\n",
    "            row.append(0)\n",
    "            i = i + 1\n",
    "    elif(cnt == 255): # 마지막 행에 대해서\n",
    "        while(i < 254):\n",
    "            row.append(0)\n",
    "            i = i + 1\n",
    "        row.append(1)\n",
    "        row.append(-2)\n",
    "    else: # 나머지 경우에 대해서\n",
    "        while (i < 256):\n",
    "            if(i ==  (cnt-1)):\n",
    "                row.append(1)\n",
    "                row.append(-2)\n",
    "                row.append(1)\n",
    "                i = i + 3\n",
    "            else:\n",
    "                row.append(0)\n",
    "                i = i + 1\n",
    "    A.append(row)\n",
    "    cnt = cnt + 1\n",
    "\n",
    "i = 0\n",
    "while(i < 256): # b 벡터를 만들어 줌\n",
    "    a = (-1) * (2 * np.pi / 256)**2 * np.cos(2 * np.pi * i / 256)\n",
    "    B.append(a)\n",
    "    i = i + 1"
   ]
  },
  {
   "cell_type": "code",
   "execution_count": 3,
   "metadata": {},
   "outputs": [],
   "source": [
    "# Gauss - Jordan elimination method\n",
    "N = len(A)\n",
    "x = np.zeros(N)\n",
    "\n",
    "for j in range(N):\n",
    "    for i in range(j+1, N):\n",
    "        coef = A[i][j]/A[j][j]\n",
    "        for k in range(N):\n",
    "            A[i][k] -= coef * A[j][k]\n",
    "        B[i] -= coef * B[j]\n",
    "\n",
    "x[N-1] = B[N-1]/A[N-1][N-1]\n",
    "for k in range(N-1, -1, -1):\n",
    "    sum = np.dot(A[k][k+1:],x[k+1:])\n",
    "    x[k] = (B[k] - sum)/A[k][k]"
   ]
  },
  {
   "cell_type": "code",
   "execution_count": 4,
   "metadata": {},
   "outputs": [],
   "source": [
    "# 위와 동일한 방식으로 행렬을 만들어줌.\n",
    "cnt = 0\n",
    "A   = []\n",
    "B   = []\n",
    "while(cnt < 256):\n",
    "    i   = 0\n",
    "    row = []\n",
    "    if(cnt == 0):\n",
    "        row.append(-2)\n",
    "        row.append(1)\n",
    "        while (i < 254):\n",
    "            row.append(0)\n",
    "            i = i + 1\n",
    "    elif(cnt == 255):\n",
    "        while(i < 254):\n",
    "            row.append(0)\n",
    "            i = i + 1\n",
    "        row.append(1)\n",
    "        row.append(-2)\n",
    "    else:\n",
    "        while (i < 256):\n",
    "            if(i ==  (cnt-1)):\n",
    "                row.append(1)\n",
    "                row.append(-2)\n",
    "                row.append(1)\n",
    "                i = i + 3\n",
    "            else:\n",
    "                row.append(0)\n",
    "                i = i + 1\n",
    "    A.append(row)\n",
    "    cnt = cnt + 1\n",
    "    \n",
    "i = 0\n",
    "while(i < 256):\n",
    "    a = (-1) * (2 * np.pi / 256)**2 * np.cos(2 * np.pi * i / 256)\n",
    "    B.append(a)\n",
    "    i = i + 1\n",
    "\n",
    "# forward and backward substitutions method\n",
    "a = []\n",
    "b = []\n",
    "c = []\n",
    "i , j , k = 0 , 0 , 0\n",
    "while (i < 256):\n",
    "    if(i == 0):\n",
    "        a.append(0)\n",
    "    else:\n",
    "        a.append(1)\n",
    "    i = i + 1\n",
    "while(j < 256):\n",
    "    b.append(-2)\n",
    "    j = j + 1\n",
    "while(k < 256):\n",
    "    if(k == 255):\n",
    "        c.append(0)\n",
    "    else:\n",
    "        c.append(1)\n",
    "    k = k + 1\n",
    "\n",
    "n = len(A)\n",
    "r   = B\n",
    "rho = np.zeros(n)\n",
    "gam = np.zeros(n)\n",
    "bet = b[0]\n",
    "rho[0] = r[0] / bet\n",
    "for i in range(1,n):\n",
    "    gam[i-1] = c[i-1] / bet\n",
    "    bet      = b[i] - a[i] * gam[i-1]\n",
    "    rho[i]   = (r[i] - a[i] * rho[i-1]) / bet\n",
    "\n",
    "y = np.zeros(n)\n",
    "y[n-1] = rho[n-1]\n",
    "for j in range(n-2,-1,-1):\n",
    "    y[j] = rho[j] - gam[j] * y[j+1]"
   ]
  },
  {
   "cell_type": "code",
   "execution_count": 5,
   "metadata": {
    "scrolled": true
   },
   "outputs": [
    {
     "data": {
      "text/plain": [
       "[<matplotlib.lines.Line2D at 0x1f087f24b70>]"
      ]
     },
     "execution_count": 5,
     "metadata": {},
     "output_type": "execute_result"
    },
    {
     "data": {
      "image/png": "[encoded data removed]",
      "text/plain": [
       "<Figure size 432x288 with 1 Axes>"
      ]
     },
     "metadata": {
      "needs_background": "light"
     },
     "output_type": "display_data"
    }
   ],
   "source": [
    "t = np.linspace(0,2*np.pi,256)\n",
    "plt.plot(t,x,'b')\n",
    "plt.plot(t,y,'r')\n",
    "plt.plot(t,np.cos(t)-1,'g')\n",
    "\n",
    "# constant 가 거의 -1 이라는 사실을 대략적으로 확인할 수 있음."
   ]
  },
  {
   "cell_type": "code",
   "execution_count": 6,
   "metadata": {},
   "outputs": [
    {
     "data": {
      "text/plain": [
       "[<matplotlib.lines.Line2D at 0x1f087fed278>]"
      ]
     },
     "execution_count": 6,
     "metadata": {},
     "output_type": "execute_result"
    },
    {
     "data": {
      "image/png": "[encoded data removed]",
      "text/plain": [
       "<Figure size 432x288 with 2 Axes>"
      ]
     },
     "metadata": {
      "needs_background": "light"
     },
     "output_type": "display_data"
    }
   ],
   "source": [
    "t = np.linspace(0,2*np.pi,256)\n",
    "plt.subplot(2,1,1)\n",
    "plt.semilogy(t,np.abs(x-np.cos(t)+1),'b')\n",
    "plt.subplot(2,1,2)\n",
    "plt.semilogy(t,np.abs(y-np.cos(t)+1),'r')\n",
    "# 각 method의 해와 (cos(x)-1) 사이의 차를 log scale로 그려보았다.\n",
    "# 참값과 차이가 0.01 이내로 나타남을 확인할 수 있다."
   ]
  }
 ],
 "metadata": {
  "kernelspec": {
   "display_name": "Python 3",
   "language": "python",
   "name": "python3"
  },
  "language_info": {
   "codemirror_mode": {
    "name": "ipython",
    "version": 3
   },
   "file_extension": ".py",
   "mimetype": "text/x-python",
   "name": "python",
   "nbconvert_exporter": "python",
   "pygments_lexer": "ipython3",
   "version": "3.7.2"
  }
 },
 "nbformat": 4,
 "nbformat_minor": 2
}
