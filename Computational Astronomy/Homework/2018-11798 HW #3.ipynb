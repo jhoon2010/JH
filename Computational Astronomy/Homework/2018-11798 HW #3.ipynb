{
 "cells": [
  {
   "cell_type": "code",
   "execution_count": 1,
   "metadata": {},
   "outputs": [],
   "source": [
    "import numpy as np\n",
    "import matplotlib.pyplot as plt\n",
    "from scipy.odr import *"
   ]
  },
  {
   "cell_type": "markdown",
   "metadata": {},
   "source": [
    "# 2018-11798 박정훈"
   ]
  },
  {
   "cell_type": "markdown",
   "metadata": {},
   "source": [
    "# Problem 1"
   ]
  },
  {
   "cell_type": "code",
   "execution_count": 2,
   "metadata": {},
   "outputs": [
    {
     "data": {
      "text/plain": [
       "0.34703207263641306"
      ]
     },
     "execution_count": 2,
     "metadata": {},
     "output_type": "execute_result"
    }
   ],
   "source": [
    "# (a) using the composite trapezoidal rule\n",
    "def f(x): # 적분할 함수 정의\n",
    "    return np.sin(x**4) \n",
    "\n",
    "x=0\n",
    "h=0.00005 # 한 step 의 크기\n",
    "I=0 \n",
    "while (x<(4-h)): # x의 범위 지정\n",
    "    I+=f(x)+f(x+h) # composite trapezoidal rule\n",
    "    x+=h # x 값 이동\n",
    "\n",
    "I*h*0.5"
   ]
  },
  {
   "cell_type": "code",
   "execution_count": 3,
   "metadata": {},
   "outputs": [
    {
     "data": {
      "text/plain": [
       "0.3470320793346333"
      ]
     },
     "execution_count": 3,
     "metadata": {},
     "output_type": "execute_result"
    }
   ],
   "source": [
    "# (b) usnig the composite Simpson's rule\n",
    "\n",
    "x=0\n",
    "h=0.001\n",
    "I=0\n",
    "while(x<(4-4*h)): # composite Simpson's rule 에 맞는 범위 설정\n",
    "    I+=4*f(x+h)+2*f(x+2*h) # composite trapezoidal rule\n",
    "    x+=2*h\n",
    "    if(x>(4-3*h)): # 마지막 step 에 대해서\n",
    "        I+=4*f(x+h)\n",
    "\n",
    "(I+f(0)+f(4))*h/3"
   ]
  },
  {
   "cell_type": "code",
   "execution_count": 4,
   "metadata": {},
   "outputs": [],
   "source": [
    "# (c) using the Gaussian quadrature\n",
    "def f(x):\n",
    "    return np.sin(x**4)\n",
    "a=0\n",
    "b=4\n",
    "def GQ(n):\n",
    "    x,w=np.polynomial.legendre.leggauss(n)\n",
    "    gauss=0\n",
    "    for i in range(0,n):\n",
    "        gauss+=w[i]*f(((b+a)+x[i]*(b-a))*0.5) # 가중치를 계산한 legendre polynomial 의 0 점에서의 함숫값을 이용\n",
    "              \n",
    "    return gauss*(b-a)*0.5"
   ]
  },
  {
   "cell_type": "code",
   "execution_count": 5,
   "metadata": {
    "scrolled": false
   },
   "outputs": [
    {
     "data": {
      "text/plain": [
       "0.3470320747563967"
      ]
     },
     "execution_count": 5,
     "metadata": {},
     "output_type": "execute_result"
    }
   ],
   "source": [
    "GQ(200)"
   ]
  },
  {
   "cell_type": "markdown",
   "metadata": {},
   "source": [
    "# Problem (2)"
   ]
  },
  {
   "cell_type": "code",
   "execution_count": 6,
   "metadata": {},
   "outputs": [],
   "source": [
    "def f(u,x): # 적분 기호 안의 함수\n",
    "    if(x==0): # 0으로 갈 때 극한값이 3u 이기 때문에 구간을 나눴음 / 분모에 0이 갈 수 없기 때문\n",
    "        return 3*u\n",
    "    else: # 그 외의 경우는 함숫 값을 반환하도록 함\n",
    "        return x*np.arctan(u*np.tan(x))/(1-x/np.tan(x))"
   ]
  },
  {
   "cell_type": "code",
   "execution_count": 7,
   "metadata": {},
   "outputs": [],
   "source": [
    "def Simpson(u,n): # composite Simpson's rule 을 이용한 적분\n",
    "    x=0\n",
    "    I=0\n",
    "    p=np.pi*0.5 # 구간의 끝\n",
    "    h=np.pi*0.5/n # step 의 크기\n",
    "    while (x<=(p-4*h)):\n",
    "        I+=4*f(u,x+h)+2*f(u,x+2*h)\n",
    "        x+=2*h\n",
    "        if(x>(p-3*h)):\n",
    "            I+=f(u,x+h)\n",
    "    return (I+f(u,0)+f(u,p))*h/3"
   ]
  },
  {
   "cell_type": "code",
   "execution_count": 8,
   "metadata": {},
   "outputs": [],
   "source": [
    "def H(u,n): # H(u) 를 구현\n",
    "    return 1/(1+u)*np.exp(1/np.pi*Simpson(u,n))"
   ]
  },
  {
   "cell_type": "code",
   "execution_count": 9,
   "metadata": {},
   "outputs": [
    {
     "data": {
      "text/plain": [
       "[<matplotlib.lines.Line2D at 0x18b4616bbe0>]"
      ]
     },
     "execution_count": 9,
     "metadata": {},
     "output_type": "execute_result"
    },
    {
     "data": {
      "image/png": "[encoded data removed]",
      "text/plain": [
       "<Figure size 432x288 with 1 Axes>"
      ]
     },
     "metadata": {
      "needs_background": "light"
     },
     "output_type": "display_data"
    }
   ],
   "source": [
    "t=np.arange(0,1,0.001)\n",
    "plt.plot(t,H(t,10000),'k') # 각 적분을 '구간을 10000 등분 하여' 수행한 결과 값"
   ]
  },
  {
   "cell_type": "code",
   "execution_count": 10,
   "metadata": {},
   "outputs": [
    {
     "data": {
      "text/plain": [
       "[<matplotlib.lines.Line2D at 0x18b462060f0>]"
      ]
     },
     "execution_count": 10,
     "metadata": {},
     "output_type": "execute_result"
    },
    {
     "data": {
      "image/png": "[encoded data removed]",
      "text/plain": [
       "<Figure size 432x288 with 1 Axes>"
      ]
     },
     "metadata": {
      "needs_background": "light"
     },
     "output_type": "display_data"
    }
   ],
   "source": [
    "t=np.arange(0,1,0.001)\n",
    "plt.plot(t,Simpson(t,1000),'k') # 각 적분을 '구간을 1000 등분 하여' 수행한 결과 값"
   ]
  },
  {
   "cell_type": "markdown",
   "metadata": {},
   "source": [
    "# Problem 3"
   ]
  },
  {
   "cell_type": "code",
   "execution_count": 11,
   "metadata": {},
   "outputs": [],
   "source": [
    "# (a) interpolating linearly the data\n",
    "x=[-2.1,-1.45,-1.3,-0.2,0.1,0.15,0.8,1.1,1.5,2.8,3.8]\n",
    "y=[0.012155,0.122151,0.184520,0.960789,0.990050,0.977751,0.527292,0.298197,0.105399,3.936690*10**-4,5.355348*10**-7]\n",
    "def lin(a): \n",
    "    i=0\n",
    "    while(a>=x[i]): # a가 x[i]  보다 클 때 까지 index 를 찾음\n",
    "        i+=1\n",
    "    return y[i-1]+(y[i]-y[i-1])/(x[i]-x[i-1])*(a-x[i-1]) # linear interpolate\n",
    "    "
   ]
  },
  {
   "cell_type": "code",
   "execution_count": 12,
   "metadata": {},
   "outputs": [
    {
     "name": "stdout",
     "output_type": "stream",
     "text": [
      "0.00023641561391999987\n",
      "0.8044975384615385\n",
      "0.96781164\n",
      "0.02907746153846155\n"
     ]
    }
   ],
   "source": [
    "print(lin(3.2)) # x=3.2 에서의 예상되는 값\n",
    "print(lin(0.4)) # x=0.4 에서 ~\n",
    "print(lin(-0.128)) # x=-0.128 에서 ~\n",
    "print(lin(-2)) # x=-2 에서"
   ]
  },
  {
   "cell_type": "code",
   "execution_count": 13,
   "metadata": {},
   "outputs": [
    {
     "name": "stdout",
     "output_type": "stream",
     "text": [
      "1.0971847795998644\n",
      "0.8525647942462673\n",
      "0.983892518001133\n",
      "-0.047536863737138946\n"
     ]
    }
   ],
   "source": [
    "# (b) interpolating using 10-th order polynomials\n",
    "p=np.polyfit(x,y,10) # 10차 다항식으로 근사\n",
    "poly=np.poly1d(p)\n",
    "print(poly(3.2)) # x=3.2 에서의 예상 값\n",
    "print(poly(0.4))\n",
    "print(poly(-0.128))\n",
    "print(poly(-2))"
   ]
  },
  {
   "cell_type": "code",
   "execution_count": 14,
   "metadata": {},
   "outputs": [
    {
     "data": {
      "text/plain": [
       "[<matplotlib.lines.Line2D at 0x18b46220518>]"
      ]
     },
     "execution_count": 14,
     "metadata": {},
     "output_type": "execute_result"
    },
    {
     "data": {
      "image/png": "[encoded data removed]",
      "text/plain": [
       "<Figure size 432x288 with 1 Axes>"
      ]
     },
     "metadata": {
      "needs_background": "light"
     },
     "output_type": "display_data"
    }
   ],
   "source": [
    "# (c) interpolating using cubic splines\n",
    "from scipy import interpolate\n",
    "result=interpolate.CubicSpline(x,y,bc_type='not-a-knot')\n",
    "\n",
    "t=np.arange(-2.5,4.0,0.001)\n",
    "plt.plot(t,result(t),'k') # plot\n",
    "plt.plot(x,y,'ro')"
   ]
  },
  {
   "cell_type": "markdown",
   "metadata": {},
   "source": [
    "# Problem 4"
   ]
  },
  {
   "cell_type": "code",
   "execution_count": 15,
   "metadata": {},
   "outputs": [],
   "source": [
    "fn ='BlackHall.txt'\n",
    "m,merr,v,verr=np.loadtxt(fn,unpack=True,usecols=[0,1,2,3])\n",
    "logm=[]\n",
    "logv=[]\n",
    "logmerr=[]\n",
    "logverr=[]\n",
    "for i in range(0,67):\n",
    "    logm.append(np.log10(m[i])) # log m\n",
    "    logv.append(np.log10(v[i])) # log v (sigma)\n",
    "    logmerr.append(merr[i]/m[i]/np.log(10)) # log merr\n",
    "    logverr.append(verr[i]/v[i]/np.log(10)) # log verr"
   ]
  },
  {
   "cell_type": "code",
   "execution_count": 16,
   "metadata": {},
   "outputs": [
    {
     "name": "stdout",
     "output_type": "stream",
     "text": [
      "Beta: [-3.95085214  5.36449513]\n",
      "Beta Std Error: [1.189307   0.53193129]\n",
      "Beta Covariance: [[105.91316862 -47.27139176]\n",
      " [-47.27139176  21.18717664]]\n",
      "Residual Variance: 0.013354818479491772\n",
      "Inverse Condition #: 0.002781196346207664\n",
      "Reason(s) for Halting:\n",
      "  Sum of squares convergence\n",
      "-3.9508521392409395 5.364495134829999\n",
      "1.1893070005060484 0.5319312907299126\n"
     ]
    }
   ],
   "source": [
    "# (a)\n",
    "def lin_func(p,x):\n",
    "    return p[0]+p[1]*x\n",
    "\n",
    "lin_model=Model(lin_func)\n",
    "\n",
    "data=RealData(logv,logm)\n",
    "\n",
    "odr=ODR(data,lin_model,beta0=[0.,1.0])\n",
    "\n",
    "out=odr.run()\n",
    "out.pprint()\n",
    "out.beta\n",
    "out.sd_beta\n",
    "out.sum_square\n",
    "\n",
    "print(out.beta[0], out.beta[1]) # a 값과 b 값 출력\n",
    "print(out.sd_beta[0], out.sd_beta[1]) # a 값의 error 와 b 값의 error 출력"
   ]
  },
  {
   "cell_type": "code",
   "execution_count": 17,
   "metadata": {
    "scrolled": false
   },
   "outputs": [
    {
     "name": "stdout",
     "output_type": "stream",
     "text": [
      "Beta: [-2.33972617  4.70367147]\n",
      "Beta Std Error: [0.98627017 0.45017167]\n",
      "Beta Covariance: [[ 0.04820321 -0.02193871]\n",
      " [-0.02193871  0.01004247]]\n",
      "Residual Variance: 20.179753150369265\n",
      "Inverse Condition #: 0.0033146515946676173\n",
      "Reason(s) for Halting:\n",
      "  Sum of squares convergence\n",
      "-2.339726173867876 4.703671471807549\n",
      "0.9862701736081938 0.4501716711932508\n"
     ]
    }
   ],
   "source": [
    "# (b)\n",
    "def lin_func(p,x):\n",
    "    return p[0]+p[1]*x\n",
    "\n",
    "lin_model=Model(lin_func)\n",
    "\n",
    "data=RealData(logv,logm,sx=logverr,sy=logmerr)\n",
    "\n",
    "odr=ODR(data,lin_model,beta0=[0.,1.0])\n",
    "\n",
    "out=odr.run()\n",
    "out.pprint()\n",
    "out.beta\n",
    "out.sd_beta\n",
    "out.sum_square\n",
    "\n",
    "print(out.beta[0], out.beta[1]) # a 값과 b 값 출력\n",
    "print(out.sd_beta[0], out.sd_beta[1]) # a 값의 error 와 b 값의 error 출력"
   ]
  },
  {
   "cell_type": "code",
   "execution_count": 18,
   "metadata": {},
   "outputs": [
    {
     "data": {
      "text/plain": [
       "(1.5, 3)"
      ]
     },
     "execution_count": 18,
     "metadata": {},
     "output_type": "execute_result"
    },
    {
     "data": {
      "image/png": "[encoded data removed]",
      "text/plain": [
       "<Figure size 432x288 with 1 Axes>"
      ]
     },
     "metadata": {
      "needs_background": "light"
     },
     "output_type": "display_data"
    }
   ],
   "source": [
    "# (c)\n",
    "t=np.arange(1.5,3,0.001)\n",
    "plt.plot(t,-3.95085214+5.36449513*t,'r') # error 무시한 fitting\n",
    "plt.plot(t,-2.33972617+4.70367147*t,'k') # error 고려한 fitting\n",
    "plt.errorbar(logv,logm,xerr=logverr,yerr=logmerr,alpha=0.7,capsize=2) # errorbar\n",
    "plt.plot(logv,logm,'ko') # plot data point\n",
    "plt.xlim(1.5,3)"
   ]
  },
  {
   "cell_type": "code",
   "execution_count": 19,
   "metadata": {},
   "outputs": [
    {
     "name": "stdout",
     "output_type": "stream",
     "text": [
      "Beta: [0.49738684 0.2126048 ]\n",
      "Beta Std Error: [0.16225368 0.02034758]\n",
      "Beta Covariance: [[ 1.30458770e-03 -1.62818794e-04]\n",
      " [-1.62818794e-04  2.05167926e-05]]\n",
      "Residual Variance: 20.179753136996137\n",
      "Inverse Condition #: 0.0012127783467175601\n",
      "Reason(s) for Halting:\n",
      "  Sum of squares convergence\n",
      "0.49738684014874684 0.21260479751927525\n",
      "0.16225368353893027 0.020347575026708666\n"
     ]
    }
   ],
   "source": [
    "# (d)\n",
    "def lin_func(p,x):\n",
    "    return p[0]+p[1]*x\n",
    "\n",
    "lin_model=Model(lin_func)\n",
    "\n",
    "data=RealData(logm,logv,sx=logmerr,sy=logverr)\n",
    "\n",
    "odr=ODR(data,lin_model,beta0=[0.,1.0])\n",
    "\n",
    "out=odr.run()\n",
    "out.pprint()\n",
    "out.beta\n",
    "out.sd_beta\n",
    "out.sum_square\n",
    "\n",
    "print(out.beta[0], out.beta[1]) # c 값과 d 값 출력\n",
    "print(out.sd_beta[0], out.sd_beta[1]) # c 값의 error 와 d 값의 error 출력"
   ]
  },
  {
   "cell_type": "markdown",
   "metadata": {},
   "source": [
    "#### logM=a+blogv <=> logv=(-a/b)+(1/b)logM 이므로 c=-a/b 이고 d=1/b 이어야 한다. 실제로 값을 대입해서 계산해보면 예측되는 c = (-2.33972617)/4.70367147 = 0.497 이고, logm , log  v 로 fitting 한 결과 값과 일치함을 확인할 수 있다.\n",
    "\n",
    "#### 또한 예측되는 d = 1/4.70367147 = 0.2126 으로, 실제로 fitting 한 결과 값인 0.2126 과 같음을 확인할 수 있다."
   ]
  },
  {
   "cell_type": "markdown",
   "metadata": {},
   "source": [
    "# Problem 5"
   ]
  },
  {
   "cell_type": "code",
   "execution_count": 20,
   "metadata": {},
   "outputs": [],
   "source": [
    "# (a)\n",
    "fn='hw3p5.dat'\n",
    "x,y=np.loadtxt(fn,unpack=True,usecols=[0,1])"
   ]
  },
  {
   "cell_type": "code",
   "execution_count": 21,
   "metadata": {
    "scrolled": true
   },
   "outputs": [
    {
     "name": "stdout",
     "output_type": "stream",
     "text": [
      "Beta: [2.2459671  1.21002556 9.85323613 3.26831463]\n",
      "Beta Std Error: [0.03225696 0.04023563 0.10167473 0.15084068]\n",
      "Beta Covariance: [[ 2.65108338e-02 -2.05546476e-02  3.25071205e-05 -9.17732835e-02]\n",
      " [-2.05546476e-02  4.12475473e-02  6.12187167e-03  2.47641414e-02]\n",
      " [ 3.25071205e-05  6.12187167e-03  2.63392035e-01 -1.94035544e-02]\n",
      " [-9.17732835e-02  2.47641414e-02 -1.94035544e-02  5.79713691e-01]]\n",
      "Residual Variance: 0.03924853139162934\n",
      "Inverse Condition #: 0.025682681307379933\n",
      "Reason(s) for Halting:\n",
      "  Sum of squares convergence\n",
      "chi square : 7.692712152759351\n"
     ]
    }
   ],
   "source": [
    "def gauss_func(p,x): # gauss function\n",
    "    xc=x-p[2]\n",
    "    sig2=p[3]**2\n",
    "    return p[0]+p[1]*np.exp(-0.5*xc**2/sig2)\n",
    "\n",
    "model=Model(gauss_func)\n",
    "\n",
    "data=RealData(x,y)\n",
    "\n",
    "odr=ODR(data,model,beta0=[0,-10,10,3]) # guessing initial value\n",
    "out=odr.run()\n",
    "out.pprint()\n",
    "print(\"chi square : {}\".format(out.sum_square))"
   ]
  },
  {
   "cell_type": "code",
   "execution_count": 22,
   "metadata": {
    "scrolled": true
   },
   "outputs": [
    {
     "data": {
      "text/plain": [
       "[<matplotlib.lines.Line2D at 0x18b44118860>]"
      ]
     },
     "execution_count": 22,
     "metadata": {},
     "output_type": "execute_result"
    },
    {
     "data": {
      "image/png": "[encoded data removed]",
      "text/plain": [
       "<Figure size 432x288 with 1 Axes>"
      ]
     },
     "metadata": {
      "needs_background": "light"
     },
     "output_type": "display_data"
    }
   ],
   "source": [
    "plt.scatter(x,y)\n",
    "t=np.arange(-5,25,0.01)\n",
    "plt.plot(t,out.beta[0]+out.beta[1]*np.exp(-0.5*(t-out.beta[2])**2/(out.beta[3]**2)))"
   ]
  },
  {
   "cell_type": "code",
   "execution_count": 23,
   "metadata": {},
   "outputs": [
    {
     "name": "stdout",
     "output_type": "stream",
     "text": [
      "Beta: [ 1.98483327 28.60658162 19.05777467  9.8159789 ]\n",
      "Beta Std Error: [0.05842335 4.7672396  2.74738769 0.10289001]\n",
      "Beta Covariance: [[ 8.68751083e-02 -6.64901132e+00 -3.55654573e+00 -2.23459157e-03]\n",
      " [-6.64901132e+00  5.78437442e+02  3.26805925e+02  1.17689627e-02]\n",
      " [-3.55654573e+00  3.26805925e+02  1.92115468e+02 -8.16363075e-02]\n",
      " [-2.23459157e-03  1.17689627e-02 -8.16363075e-02  2.69444226e-01]]\n",
      "Residual Variance: 0.03928959599097544\n",
      "Inverse Condition #: 0.014724065884690813\n",
      "Reason(s) for Halting:\n",
      "  Sum of squares convergence\n",
      "chi square : 7.700760814231185\n"
     ]
    }
   ],
   "source": [
    "# (b)\n",
    "def Lorentz_func(p,x): # Lorentz function\n",
    "    xc=x-p[3]\n",
    "    return p[0]+p[1]/(p[2]+xc**2)\n",
    "\n",
    "model=Model(Lorentz_func)\n",
    "\n",
    "data=RealData(x,y)\n",
    "\n",
    "odr=ODR(data,model,beta0=[2,100,10,10]) # guessing initial value\n",
    "out=odr.run()\n",
    "out.pprint()\n",
    "out.sum_square\n",
    "print(\"chi square : {}\".format(out.sum_square))"
   ]
  },
  {
   "cell_type": "markdown",
   "metadata": {},
   "source": [
    "#### (c) gauss function 의 chi square 값이 lorentz function 의 chi square 값이 조금 작다. 따라서 gaussian fitting 이 더 낫다고 할 수 있다."
   ]
  },
  {
   "cell_type": "code",
   "execution_count": 24,
   "metadata": {},
   "outputs": [
    {
     "data": {
      "text/plain": [
       "[<matplotlib.lines.Line2D at 0x18b4694d9b0>]"
      ]
     },
     "execution_count": 24,
     "metadata": {},
     "output_type": "execute_result"
    },
    {
     "data": {
      "image/png": "[encoded data removed]",
      "text/plain": [
       "<Figure size 432x288 with 1 Axes>"
      ]
     },
     "metadata": {
      "needs_background": "light"
     },
     "output_type": "display_data"
    }
   ],
   "source": [
    "t=np.arange(-5,25,0.001)\n",
    "gauss=[2.2459671,  1.21002556, 9.85323613, 3.26831463]\n",
    "lorentz=[1.98483327, 28.60658162, 19.05777467,  9.8159789]\n",
    "plt.scatter(x,y,alpha=0.9,s=0.9)\n",
    "plt.plot(t,gauss[0]+gauss[1]*np.exp(-0.5*(t-gauss[2])**2/(gauss[3]**2)),'r') # gauss fitting\n",
    "plt.plot(t,lorentz[0]+lorentz[1]/(lorentz[2]+(t-lorentz[3])**2),'k') # Lorentz fitting\n",
    "\n",
    "# 빨간색 Gaussian fitting\n",
    "# 검은색 lorentzian fitting"
   ]
  }
 ],
 "metadata": {
  "kernelspec": {
   "display_name": "Python 3",
   "language": "python",
   "name": "python3"
  },
  "language_info": {
   "codemirror_mode": {
    "name": "ipython",
    "version": 3
   },
   "file_extension": ".py",
   "mimetype": "text/x-python",
   "name": "python",
   "nbconvert_exporter": "python",
   "pygments_lexer": "ipython3",
   "version": "3.7.2"
  }
 },
 "nbformat": 4,
 "nbformat_minor": 2
}
