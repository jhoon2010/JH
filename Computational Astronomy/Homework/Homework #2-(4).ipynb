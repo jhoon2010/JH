{
 "cells": [
  {
   "cell_type": "code",
   "execution_count": 1,
   "metadata": {},
   "outputs": [],
   "source": [
    "import numpy as np"
   ]
  },
  {
   "cell_type": "markdown",
   "metadata": {},
   "source": [
    "# Problem 4"
   ]
  },
  {
   "cell_type": "markdown",
   "metadata": {},
   "source": [
    "## bisection method"
   ]
  },
  {
   "cell_type": "code",
   "execution_count": 2,
   "metadata": {},
   "outputs": [],
   "source": [
    "def ea(x,t,e): # eccentric anomaly function, E, t, 이심률을 받음\n",
    "    return x-2*np.pi*t/365.25635-e*np.sin(x)\n",
    "\n",
    "def dea(x,e): # ea 를 미분한 함수\n",
    "    return 1-e*np.cos(x)"
   ]
  },
  {
   "cell_type": "code",
   "execution_count": 3,
   "metadata": {},
   "outputs": [],
   "source": [
    "def find_bisec(t,e): # bisection method, t와 이심률을 받음.\n",
    "    err=1\n",
    "    TOL=10**(-10) # 용인가능한 오차\n",
    "    a=0 # 이분법의 첫 구간\n",
    "    b=2*np.pi # 이분법읯 ㅓㅅ 구간\n",
    "    loop=0 # 반복 횟수\n",
    "    while(err>TOL):\n",
    "        c=(a+b)*0.5 # 구간 중앙\n",
    "        err=np.abs(b-c) # 오차\n",
    "        if(ea(a,t,e)*ea(c,t,e)>0): # 상황별로\n",
    "            a=c\n",
    "        else:\n",
    "            b=c\n",
    "        if(err<TOL):\n",
    "            print('E = {}'.format(c)) # 오차가 용인 가능하면 c 값 print\n",
    "        \n",
    "        loop+=1\n",
    "    print('x = {},y = {},{}'.format(1.496*10**8*np.cos(c),1.496*10**8*np.sqrt(1-e**2)*np.sin(c),loop))"
   ]
  },
  {
   "cell_type": "markdown",
   "metadata": {},
   "source": [
    "장반경과 단반경을 이심률 정의에 따라 계산하여 마지막 줄에 출력하도록 하였다."
   ]
  },
  {
   "cell_type": "code",
   "execution_count": 4,
   "metadata": {},
   "outputs": [
    {
     "name": "stdout",
     "output_type": "stream",
     "text": [
      "E = 3.130964200723498\n",
      "x = -149591550.3715697,y = 1589764.8820485529,36\n"
     ]
    }
   ],
   "source": [
    "find_bisec(182,0.0167) # t=182days, e=0.0167 일 때"
   ]
  },
  {
   "cell_type": "code",
   "execution_count": 5,
   "metadata": {},
   "outputs": [
    {
     "name": "stdout",
     "output_type": "stream",
     "text": [
      "E = 4.6794891005326384\n",
      "x = -4920934.175507396,y = -149498192.48908895,36\n"
     ]
    }
   ],
   "source": [
    "find_bisec(273,0.0167) # t=273days, e=0.0167 일 때"
   ]
  },
  {
   "cell_type": "code",
   "execution_count": 6,
   "metadata": {},
   "outputs": [
    {
     "name": "stdout",
     "output_type": "stream",
     "text": [
      "E = 3.1361896411497807\n",
      "x = -149597816.40306374,y = 3614.759102884351,36\n"
     ]
    }
   ],
   "source": [
    "find_bisec(182,0.99999) # t=182days, e=0.99999 일 때"
   ]
  },
  {
   "cell_type": "code",
   "execution_count": 7,
   "metadata": {
    "scrolled": false
   },
   "outputs": [
    {
     "name": "stdout",
     "output_type": "stream",
     "text": [
      "E = 3.963643777695891\n",
      "x = -101835727.32104047,y = -490093.5541855629,36\n"
     ]
    }
   ],
   "source": [
    "find_bisec(273,0.99999) # t=273days, e=0.99999 일 때"
   ]
  },
  {
   "cell_type": "markdown",
   "metadata": {},
   "source": [
    "bisection method 는 e값에 관계없이 비슷한 속도로 수렴하였다."
   ]
  },
  {
   "cell_type": "markdown",
   "metadata": {},
   "source": [
    "## Newton's method"
   ]
  },
  {
   "cell_type": "code",
   "execution_count": 8,
   "metadata": {},
   "outputs": [],
   "source": [
    "def find_newton(t,e,y): # t와 이심률, 초기 값 받음\n",
    "    err=1\n",
    "    TOL=10**(-13) # 용인 가능 오차\n",
    "    loop=0\n",
    "    while(err>TOL):\n",
    "        x=y\n",
    "        y=x-ea(x,t,e)/dea(x,e) # newton's method\n",
    "        err=np.abs(x-y) # 오차\n",
    "        if(err<TOL): # 오차가 용인 가능하다면\n",
    "            print('E = {}'.format(x))\n",
    "            break\n",
    "        loop+=1 # 그렇지 않으면 loop + 1 하고 계속 진행\n",
    "    print('x = {},y = {},{}'.format(1.496*10**8*np.cos(x),1.496*10**8*np.sqrt(1-e**2)*np.sin(x),loop))"
   ]
  },
  {
   "cell_type": "code",
   "execution_count": 9,
   "metadata": {},
   "outputs": [
    {
     "name": "stdout",
     "output_type": "stream",
     "text": [
      "E = 3.130964200681736\n",
      "x = -149591550.37150326,y = 1589764.8882948798,3\n"
     ]
    }
   ],
   "source": [
    "find_newton(182,0.0167,0) # t=182days, e=0.0167 일 때"
   ]
  },
  {
   "cell_type": "code",
   "execution_count": 10,
   "metadata": {},
   "outputs": [
    {
     "name": "stdout",
     "output_type": "stream",
     "text": [
      "E = 4.679489100532153\n",
      "x = -4920934.175580038,y = -149498192.48908657,4\n"
     ]
    }
   ],
   "source": [
    "find_newton(273,0.0167,0) # t=273days, e=0.0167 일 때"
   ]
  },
  {
   "cell_type": "code",
   "execution_count": 11,
   "metadata": {},
   "outputs": [
    {
     "name": "stdout",
     "output_type": "stream",
     "text": [
      "E = 3.1361896410659678\n",
      "x = -149597816.402996,y = 3614.759158956904,6\n"
     ]
    }
   ],
   "source": [
    "find_newton(182,0.99999,1) # t=182days, e=0.99999 일 때"
   ]
  },
  {
   "cell_type": "code",
   "execution_count": 12,
   "metadata": {
    "scrolled": true
   },
   "outputs": [
    {
     "name": "stdout",
     "output_type": "stream",
     "text": [
      "E = 3.9636437776514937\n",
      "x = -101835727.3259059,y = -490093.55416534335,7\n"
     ]
    }
   ],
   "source": [
    "find_newton(273,0.99999,1) # t=273days, e=0.99999 일 때"
   ]
  },
  {
   "cell_type": "markdown",
   "metadata": {},
   "source": [
    "newton's method 는 e값에 관계없이 bisection method 보다 훨씬 빠르게 수렴하였다. 그리고 e=0.99999 일 때보다 e=0.0167 일 때 조금 더 빨리 수렴하는 경향을 보였다."
   ]
  },
  {
   "cell_type": "markdown",
   "metadata": {},
   "source": [
    "## fixed-iteration method"
   ]
  },
  {
   "cell_type": "code",
   "execution_count": 13,
   "metadata": {},
   "outputs": [],
   "source": [
    "def find_fixed(t,y,e): # t, 초기값, 이심률 받음\n",
    "    err=1\n",
    "    TOL=10**(-11) # 용인 가능 오차\n",
    "    loop=0\n",
    "    while(err>TOL):\n",
    "        loop+=1\n",
    "        if(loop>100000): break\n",
    "        x=y\n",
    "        y=x-ea(x,t,e)/dea(x,e) # fixed-iteration\n",
    "        err=np.abs(x-y)\n",
    "    if(err<TOL):\n",
    "        print('E = {}'. format(x))\n",
    "    print('x = {},y = {}, {}'.format(1.496*10**8*np.cos(x),1.496*10**8*np.sqrt(1-e**2)*np.sin(x),loop))"
   ]
  },
  {
   "cell_type": "code",
   "execution_count": 14,
   "metadata": {
    "scrolled": true
   },
   "outputs": [
    {
     "name": "stdout",
     "output_type": "stream",
     "text": [
      "E = 3.130964200681771\n",
      "x = -149591550.37150332,y = 1589764.8882896989, 5\n"
     ]
    }
   ],
   "source": [
    "find_fixed(182,1000,0.0167) # t=182days, e=0.0167 일 때"
   ]
  },
  {
   "cell_type": "code",
   "execution_count": 15,
   "metadata": {},
   "outputs": [
    {
     "name": "stdout",
     "output_type": "stream",
     "text": [
      "E = 4.679489100529874\n",
      "x = -4920934.175920668,y = -149498192.48907536, 5\n"
     ]
    }
   ],
   "source": [
    "find_fixed(273,-1000,0.0167) # t=273days, e=0.0167 일 때"
   ]
  },
  {
   "cell_type": "code",
   "execution_count": 16,
   "metadata": {},
   "outputs": [
    {
     "name": "stdout",
     "output_type": "stream",
     "text": [
      "E = 3.1361896410659678\n",
      "x = -149597816.402996,y = 3614.759158956904, 35\n"
     ]
    }
   ],
   "source": [
    "find_fixed(182,0,0.99999) # t=182days, e=0.99999 일 때"
   ]
  },
  {
   "cell_type": "code",
   "execution_count": 17,
   "metadata": {
    "scrolled": true
   },
   "outputs": [
    {
     "name": "stdout",
     "output_type": "stream",
     "text": [
      "E = 3.9636437776514932\n",
      "x = -101835727.32590595,y = -490093.5541653431, 89\n"
     ]
    }
   ],
   "source": [
    "find_fixed(273,0.2,0.99999) # t=273days, e=0.99999 일 때"
   ]
  },
  {
   "cell_type": "code",
   "execution_count": 18,
   "metadata": {
    "scrolled": true
   },
   "outputs": [
    {
     "name": "stdout",
     "output_type": "stream",
     "text": [
      "E = 3.96364377764928\n",
      "x = -101835727.32614851,y = -490093.5541643352, 376\n"
     ]
    }
   ],
   "source": [
    "find_fixed(273,1000,0.99999) # t=273days, e=0.99999 일 때"
   ]
  },
  {
   "cell_type": "markdown",
   "metadata": {},
   "source": [
    "newton's method 에 fixed-iteration method 를 적용하였다. e=0.0167 일 때에는 초기값에 관계 없이 빠르게 수렴하는 모습을 볼 수 있었다. 하지만 e=0.99999 일 때에는 초기값에 상당히 민감하게 반응하는 것을 확인할 수 있었다. 이것은 fixed-iteration 을 적용한 함수의 도함수에 따라서 결정된다."
   ]
  }
 ],
 "metadata": {
  "kernelspec": {
   "display_name": "Python 3",
   "language": "python",
   "name": "python3"
  },
  "language_info": {
   "codemirror_mode": {
    "name": "ipython",
    "version": 3
   },
   "file_extension": ".py",
   "mimetype": "text/x-python",
   "name": "python",
   "nbconvert_exporter": "python",
   "pygments_lexer": "ipython3",
   "version": "3.7.2"
  }
 },
 "nbformat": 4,
 "nbformat_minor": 2
}
