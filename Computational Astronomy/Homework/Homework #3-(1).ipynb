{
 "cells": [
  {
   "cell_type": "code",
   "execution_count": 1,
   "metadata": {},
   "outputs": [],
   "source": [
    "import numpy as np\n",
    "import matplotlib.pyplot as plt"
   ]
  },
  {
   "cell_type": "markdown",
   "metadata": {},
   "source": [
    "# Problem 1"
   ]
  },
  {
   "cell_type": "code",
   "execution_count": 2,
   "metadata": {},
   "outputs": [
    {
     "data": {
      "text/plain": [
       "0.34703207263641306"
      ]
     },
     "execution_count": 2,
     "metadata": {},
     "output_type": "execute_result"
    }
   ],
   "source": [
    "# (a) using the composite trapezoidal rule\n",
    "def f(x): # 적분할 함수 정의\n",
    "    return np.sin(x**4) \n",
    "\n",
    "x=0\n",
    "h=0.00005 # 한 step 의 크기\n",
    "I=0 \n",
    "while (x<(4-h)): # x의 범위 지정\n",
    "    I+=f(x)+f(x+h) # composite trapezoidal rule\n",
    "    x+=h # x 값 이동\n",
    "\n",
    "I*h*0.5"
   ]
  },
  {
   "cell_type": "code",
   "execution_count": 3,
   "metadata": {},
   "outputs": [
    {
     "data": {
      "text/plain": [
       "0.3470320793346333"
      ]
     },
     "execution_count": 3,
     "metadata": {},
     "output_type": "execute_result"
    }
   ],
   "source": [
    "# (b) usnig the composite Simpson's rule\n",
    "\n",
    "x=0\n",
    "h=0.001\n",
    "I=0\n",
    "while(x<(4-4*h)): # composite Simpson's rule 에 맞는 범위 설정\n",
    "    I+=4*f(x+h)+2*f(x+2*h) # composite trapezoidal rule\n",
    "    x+=2*h\n",
    "    if(x>(4-3*h)): # 마지막 step 에 대해서\n",
    "        I+=4*f(x+h)\n",
    "\n",
    "(I+f(0)+f(4))*h/3"
   ]
  },
  {
   "cell_type": "code",
   "execution_count": 4,
   "metadata": {},
   "outputs": [],
   "source": [
    "# (c) using the Gaussian quadrature\n",
    "def f(x):\n",
    "    return np.sin(x**4)\n",
    "a=0\n",
    "b=4\n",
    "def GQ(n):\n",
    "    x,w=np.polynomial.legendre.leggauss(n)\n",
    "    gauss=0\n",
    "    for i in range(0,n):\n",
    "        gauss+=w[i]*f(((b+a)+x[i]*(b-a))*0.5) # 가중치를 계산한 legendre polynomial 의 0 점에서의 함숫값을 이용\n",
    "              \n",
    "    return gauss*(b-a)*0.5"
   ]
  },
  {
   "cell_type": "code",
   "execution_count": 5,
   "metadata": {
    "scrolled": true
   },
   "outputs": [
    {
     "data": {
      "text/plain": [
       "0.3470320747563967"
      ]
     },
     "execution_count": 5,
     "metadata": {},
     "output_type": "execute_result"
    }
   ],
   "source": [
    "GQ(200)"
   ]
  }
 ],
 "metadata": {
  "kernelspec": {
   "display_name": "Python 3",
   "language": "python",
   "name": "python3"
  },
  "language_info": {
   "codemirror_mode": {
    "name": "ipython",
    "version": 3
   },
   "file_extension": ".py",
   "mimetype": "text/x-python",
   "name": "python",
   "nbconvert_exporter": "python",
   "pygments_lexer": "ipython3",
   "version": "3.7.2"
  }
 },
 "nbformat": 4,
 "nbformat_minor": 2
}
