{
 "cells": [
  {
   "cell_type": "markdown",
   "metadata": {},
   "source": [
    "# Problem 2"
   ]
  },
  {
   "cell_type": "code",
   "execution_count": 1,
   "metadata": {},
   "outputs": [],
   "source": [
    "import numpy as np\n",
    "import matplotlib.pyplot as plt\n",
    "from scipy import linalg"
   ]
  },
  {
   "cell_type": "code",
   "execution_count": 2,
   "metadata": {},
   "outputs": [],
   "source": [
    "# 데이터 입력\n",
    "E = np.zeros((6,6))\n",
    "A = np.zeros((6,6))\n",
    "Oi = np.zeros((6,6))\n",
    "bet = np.zeros((6,6))\n",
    "omg = np.zeros(6)\n",
    "E[0][1] = 0.00609\n",
    "E[0][2] = 0.01628\n",
    "E[0][3] = 1.89879\n",
    "E[0][4] = 4.05244\n",
    "E[0][5] = 5.80061\n",
    "E[1][2] = 0.01019\n",
    "E[1][3] = 1.89270\n",
    "E[1][4] = 4.04635\n",
    "E[1][5] = 5.79452\n",
    "E[2][3] = 1.88251\n",
    "E[2][4] = 4.03616\n",
    "E[2][5] = 5.78433\n",
    "E[3][4] = 2.15365\n",
    "E[3][5] = 3.90182\n",
    "E[4][5] = 1.74817\n",
    "A[1][0] = 2.08 * 10**(-6)\n",
    "A[2][0] = 1.16 * 10**(-12)\n",
    "A[3][0] = 5.35 * 10**(-7)\n",
    "A[4][0] = 0\n",
    "A[5][0] = 0\n",
    "A[2][1] = 7.46 * 10**(-6)\n",
    "A[3][1] = 1.01 * 10**(-3)\n",
    "A[4][1] = 3.38 * 10**(-2)\n",
    "A[5][1] = 4.80 * 10**(+1)\n",
    "A[3][2] = 2.99 * 10**(-3)\n",
    "A[4][2] = 1.51 * 10**(-4)\n",
    "A[5][2] = 1.07 * 10**(+2)\n",
    "A[4][3] = 1.12\n",
    "A[5][3] = 0\n",
    "A[5][4] = 0\n",
    "Oi[1][0] = 0.408\n",
    "Oi[2][0] = 0.272\n",
    "Oi[3][0] = 0.2934\n",
    "Oi[4][0] = 0.0326\n",
    "Oi[5][0] = 0.1323\n",
    "Oi[2][1] = 1.120\n",
    "Oi[3][1] = 0.8803\n",
    "Oi[4][1] = 0.0977\n",
    "Oi[5][1] = 0.3968\n",
    "Oi[3][2] = 1.4672\n",
    "Oi[4][2] = 0.1628\n",
    "Oi[5][2] = 0.6613\n",
    "Oi[4][3] = 0.8338\n",
    "Oi[5][3] = 0\n",
    "Oi[5][4] = 0\n",
    "bet[1][0] = 0.125\n",
    "bet[2][0] = 0.21\n",
    "bet[3][0] = 0.048\n",
    "bet[4][0] = 0.050\n",
    "bet[5][0] = 0.025\n",
    "bet[2][1] = 0.17\n",
    "bet[3][1] = 0.048\n",
    "bet[4][1] = 0.050\n",
    "bet[5][1] = 0.025\n",
    "bet[3][2] = 0.048\n",
    "bet[4][2] = 0.050\n",
    "bet[5][2] = 0.025\n",
    "bet[4][3] = -0.18\n",
    "bet[5][3] = 0\n",
    "bet[5][4] = 0\n",
    "omg[5] = 1\n",
    "omg[4] = 1\n",
    "omg[3] = 5\n",
    "omg[2] = 5\n",
    "omg[1] = 3\n",
    "omg[0] = 1"
   ]
  },
  {
   "cell_type": "code",
   "execution_count": 3,
   "metadata": {},
   "outputs": [],
   "source": [
    "def f(ne, T): # n 값들을 구해주는 함수 정의\n",
    "    t = T / 10000\n",
    "    Omg = np.zeros((6,6)) # Omega 값을 주어진대로 구함\n",
    "    for i in range(0,6):\n",
    "        for j in range(0,6):\n",
    "            Omg[j][i] = (t**(bet[j][i])) * Oi[j][i]\n",
    "\n",
    "    q = np.zeros((6,6))\n",
    "    for j in range(0,6): # q 값을 주어진대로 구함\n",
    "        for i in range(0,6):\n",
    "            if(j > i):\n",
    "                q[j][i] = 8.629 * 10**(-8) * Omg[j][i] / (t**(0.5)) / omg[j]\n",
    "            if(j > i):\n",
    "                q[i][j] = omg[j] / omg[i] * q[j][i] * np.exp(-1.1605 * E[i][j] / t)\n",
    "\n",
    "    C = np.zeros(5)\n",
    "    for i in range(0,5): # 계수 행렬의 대각성분을 주어진대로 구함\n",
    "        for k in range(0,6):\n",
    "            if(k > i):\n",
    "                C[i] = C[i] + ne * q[i][k]\n",
    "            elif(k < i):\n",
    "                C[i] = C[i] + A[i][k] + ne * q[i][k]  \n",
    "\n",
    "    A_ = np.zeros((6,6))\n",
    "    for i in range(0,6): # 계수 행렬에 원소를 넣어줌\n",
    "        for k in range(0,6):\n",
    "            if(i == 5):\n",
    "                A_[i][k] = 1\n",
    "            elif(k == i):\n",
    "                A_[i][k] = (-1) * C[i]\n",
    "            elif(k < i):\n",
    "                A_[i][k] = ne * q[k][i]\n",
    "            elif(k > i):\n",
    "                A_[i][k] = ne * q[k][i] + A[k][i]\n",
    "    \n",
    "    \n",
    "    \n",
    "    \n",
    "    B = np.array([0,0,0,0,0,1]) \n",
    "    x = np.linalg.solve(A_,B) # n 값들을 구함\n",
    "    print(x) # 출력함"
   ]
  },
  {
   "cell_type": "code",
   "execution_count": 4,
   "metadata": {
    "scrolled": false
   },
   "outputs": [
    {
     "name": "stdout",
     "output_type": "stream",
     "text": [
      "[7.57206634e-01 2.08874202e-01 3.39120994e-02 7.06361359e-06\n",
      " 2.21572635e-10 8.80199627e-13]\n",
      "[1.06627112e-01 3.22823048e-01 5.38254162e-01 3.22902435e-02\n",
      " 5.42678473e-06 8.60777856e-09]\n",
      "[1.14745280e-01 3.40912897e-01 5.43405313e-01 9.36505447e-04\n",
      " 4.06140229e-09 1.49183699e-12]\n",
      "[9.90327580e-02 3.25016207e-01 5.61438166e-01 1.45108441e-02\n",
      " 2.00666804e-06 1.81481837e-08]\n"
     ]
    }
   ],
   "source": [
    "f(10, 10000) # ne = 10, T = 10000\n",
    "f(10**5,10000) # ne = 10**5, T = 10000\n",
    "f(10**4,5000) # ne = 10**4, T = 5000\n",
    "f(10**4,20000) # ne = 10**4, T =20000"
   ]
  },
  {
   "cell_type": "code",
   "execution_count": 7,
   "metadata": {},
   "outputs": [],
   "source": [
    "def plot(ne): # plot 함수 정의\n",
    "    T  = 5000 # 처음 T값\n",
    "    dT = 10 # dT 값\n",
    "    T_list  = [] # plot 할 값을 저장할 곳\n",
    "    R_list  = [] # plot 할 값을 저장할 곳\n",
    "    while(T < 20000): # 끝값(T = 20000) 까지 실행\n",
    "        t = T / 10000\n",
    "        # 위와 동일한 방식으로 해당하는 T, ne 값에 대해서 n 값들을 뽑아냄\n",
    "        Omg = np.zeros((6,6))\n",
    "        for i in range(0,6):\n",
    "            for j in range(0,6):\n",
    "                Omg[j][i] = (t**(bet[j][i])) * Oi[j][i]\n",
    "\n",
    "        q = np.zeros((6,6))\n",
    "        for j in range(0,6):\n",
    "            for i in range(0,6):\n",
    "                if(j > i):\n",
    "                    q[j][i] = 8.629 * 10**(-8) * Omg[j][i] / (t**(0.5)) / omg[j]\n",
    "                if(j > i):\n",
    "                    q[i][j] = omg[j] / omg[i] * q[j][i] * np.exp(-1.1605 * E[i][j] / t)\n",
    "\n",
    "        C = np.zeros(5)\n",
    "        for i in range(0,5):\n",
    "            for k in range(0,6):\n",
    "                if(k > i):\n",
    "                    C[i] = C[i] + ne * q[i][k]\n",
    "                elif(k < i):\n",
    "                    C[i] = C[i] + A[i][k] + ne * q[i][k]  \n",
    "\n",
    "        A_ = np.zeros((6,6))\n",
    "        for i in range(0,6):\n",
    "            for k in range(0,6):\n",
    "                if(i == 5):\n",
    "                    A_[i][k] = 1\n",
    "                elif(k == i):\n",
    "                    A_[i][k] = (-1) * C[i]\n",
    "                elif(k < i):\n",
    "                    A_[i][k] = ne * q[k][i]\n",
    "                elif(k > i):\n",
    "                    A_[i][k] = ne * q[k][i] + A[k][i]\n",
    "\n",
    "        B = np.array([0,0,0,0,0,1])\n",
    "        x = np.linalg.solve(A_,B)\n",
    "\n",
    "        # 문제에 주어진 식(5) 번을 이용해서 T, ne 값에 대응되는 R을 구함\n",
    "        \n",
    "        R = x[3] / x[4] * A[3][2] / A[4][3] * 5755 / 6584\n",
    "        R_list.append(R)\n",
    "        T_list.append(T)\n",
    "        T = T +dT\n",
    "    return T_list,R_list # list 를 반환함"
   ]
  },
  {
   "cell_type": "code",
   "execution_count": 9,
   "metadata": {
    "scrolled": true
   },
   "outputs": [],
   "source": [
    "t10,r10 = plot(10) # ne 10 에 해당하는 값들\n",
    "t1000,r1000 = plot(1000) # ne 1000 에 해당하는 값들\n",
    "t100000,r100000 = plot(100000) # ne 100000 에 해당하는 값들"
   ]
  },
  {
   "cell_type": "code",
   "execution_count": 12,
   "metadata": {},
   "outputs": [
    {
     "data": {
      "text/plain": [
       "[<matplotlib.lines.Line2D at 0x1b46d0114e0>]"
      ]
     },
     "execution_count": 12,
     "metadata": {},
     "output_type": "execute_result"
    },
    {
     "data": {
      "image/png": "[encoded data removed]",
      "text/plain": [
       "<Figure size 432x288 with 1 Axes>"
      ]
     },
     "metadata": {
      "needs_background": "light"
     },
     "output_type": "display_data"
    }
   ],
   "source": [
    "plt.plot(t10,r10,'r') # 빨간색 ne = 10\n",
    "plt.plot(t1000,r1000,'g') # 초록색 ne =1000\n",
    "plt.plot(t100000,r100000,'b') # 파란색 ne = 100000\n",
    "# 가로축 T, 세로축 R"
   ]
  },
  {
   "cell_type": "code",
   "execution_count": null,
   "metadata": {},
   "outputs": [],
   "source": []
  }
 ],
 "metadata": {
  "kernelspec": {
   "display_name": "Python 3",
   "language": "python",
   "name": "python3"
  },
  "language_info": {
   "codemirror_mode": {
    "name": "ipython",
    "version": 3
   },
   "file_extension": ".py",
   "mimetype": "text/x-python",
   "name": "python",
   "nbconvert_exporter": "python",
   "pygments_lexer": "ipython3",
   "version": "3.7.2"
  }
 },
 "nbformat": 4,
 "nbformat_minor": 2
}
