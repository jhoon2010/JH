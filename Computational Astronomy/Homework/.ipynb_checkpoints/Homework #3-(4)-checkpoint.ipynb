{
 "cells": [
  {
   "cell_type": "markdown",
   "metadata": {},
   "source": [
    "# Problem 4"
   ]
  },
  {
   "cell_type": "code",
   "execution_count": 1,
   "metadata": {},
   "outputs": [],
   "source": [
    "import numpy as np\n",
    "import matplotlib.pyplot as plt\n",
    "from scipy.odr import *"
   ]
  },
  {
   "cell_type": "code",
   "execution_count": 2,
   "metadata": {},
   "outputs": [],
   "source": [
    "fn ='BlackHall.txt'\n",
    "m,merr,v,verr=np.loadtxt(fn,unpack=True,usecols=[0,1,2,3])\n",
    "logm=[]\n",
    "logv=[]\n",
    "logmerr=[]\n",
    "logverr=[]\n",
    "for i in range(0,67):\n",
    "    logm.append(np.log10(m[i])) # log m\n",
    "    logv.append(np.log10(v[i])) # log v (sigma)\n",
    "    logmerr.append(merr[i]/m[i]/np.log(10)) # log merr\n",
    "    logverr.append(verr[i]/v[i]/np.log(10)) # log verr"
   ]
  },
  {
   "cell_type": "code",
   "execution_count": 3,
   "metadata": {},
   "outputs": [
    {
     "name": "stdout",
     "output_type": "stream",
     "text": [
      "Beta: [-3.95085214  5.36449513]\n",
      "Beta Std Error: [1.189307   0.53193129]\n",
      "Beta Covariance: [[105.91316862 -47.27139176]\n",
      " [-47.27139176  21.18717664]]\n",
      "Residual Variance: 0.013354818479491772\n",
      "Inverse Condition #: 0.002781196346207664\n",
      "Reason(s) for Halting:\n",
      "  Sum of squares convergence\n",
      "-3.9508521392409395 5.364495134829999\n",
      "1.1893070005060484 0.5319312907299126\n"
     ]
    }
   ],
   "source": [
    "# (a)\n",
    "def lin_func(p,x):\n",
    "    return p[0]+p[1]*x\n",
    "\n",
    "lin_model=Model(lin_func)\n",
    "\n",
    "data=RealData(logv,logm)\n",
    "\n",
    "odr=ODR(data,lin_model,beta0=[0.,1.0])\n",
    "\n",
    "out=odr.run()\n",
    "out.pprint()\n",
    "out.beta\n",
    "out.sd_beta\n",
    "out.sum_square\n",
    "\n",
    "print(out.beta[0], out.beta[1]) # a 값과 b 값 출력\n",
    "print(out.sd_beta[0], out.sd_beta[1]) # a 값의 error 와 b 값의 error 출력"
   ]
  },
  {
   "cell_type": "code",
   "execution_count": 4,
   "metadata": {
    "scrolled": false
   },
   "outputs": [
    {
     "name": "stdout",
     "output_type": "stream",
     "text": [
      "Beta: [-2.33972617  4.70367147]\n",
      "Beta Std Error: [0.98627017 0.45017167]\n",
      "Beta Covariance: [[ 0.04820321 -0.02193871]\n",
      " [-0.02193871  0.01004247]]\n",
      "Residual Variance: 20.179753150369265\n",
      "Inverse Condition #: 0.0033146515946676173\n",
      "Reason(s) for Halting:\n",
      "  Sum of squares convergence\n",
      "-2.339726173867876 4.703671471807549\n",
      "0.9862701736081938 0.4501716711932508\n"
     ]
    }
   ],
   "source": [
    "# (b)\n",
    "def lin_func(p,x):\n",
    "    return p[0]+p[1]*x\n",
    "\n",
    "lin_model=Model(lin_func)\n",
    "\n",
    "data=RealData(logv,logm,sx=logverr,sy=logmerr)\n",
    "\n",
    "odr=ODR(data,lin_model,beta0=[0.,1.0])\n",
    "\n",
    "out=odr.run()\n",
    "out.pprint()\n",
    "out.beta\n",
    "out.sd_beta\n",
    "out.sum_square\n",
    "\n",
    "print(out.beta[0], out.beta[1]) # a 값과 b 값 출력\n",
    "print(out.sd_beta[0], out.sd_beta[1]) # a 값의 error 와 b 값의 error 출력"
   ]
  },
  {
   "cell_type": "code",
   "execution_count": 5,
   "metadata": {},
   "outputs": [
    {
     "data": {
      "text/plain": [
       "(1.5, 3)"
      ]
     },
     "execution_count": 5,
     "metadata": {},
     "output_type": "execute_result"
    },
    {
     "data": {
      "image/png": "[encoded data removed]",
      "text/plain": [
       "<Figure size 432x288 with 1 Axes>"
      ]
     },
     "metadata": {
      "needs_background": "light"
     },
     "output_type": "display_data"
    }
   ],
   "source": [
    "# (c)\n",
    "t=np.arange(1.5,3,0.001)\n",
    "plt.plot(t,-3.95085214+5.36449513*t,'r') # error 무시한 fitting\n",
    "plt.plot(t,-2.33972617+4.70367147*t,'k') # error 고려한 fitting\n",
    "plt.errorbar(logv,logm,xerr=logverr,yerr=logmerr,alpha=0.7,capsize=2) # errorbar\n",
    "plt.plot(logv,logm,'ko') # plot data point\n",
    "plt.xlim(1.5,3)"
   ]
  },
  {
   "cell_type": "code",
   "execution_count": 6,
   "metadata": {},
   "outputs": [
    {
     "name": "stdout",
     "output_type": "stream",
     "text": [
      "Beta: [0.49738684 0.2126048 ]\n",
      "Beta Std Error: [0.16225368 0.02034758]\n",
      "Beta Covariance: [[ 1.30458770e-03 -1.62818794e-04]\n",
      " [-1.62818794e-04  2.05167926e-05]]\n",
      "Residual Variance: 20.179753136996137\n",
      "Inverse Condition #: 0.0012127783467175601\n",
      "Reason(s) for Halting:\n",
      "  Sum of squares convergence\n",
      "0.49738684014874684 0.21260479751927525\n",
      "0.16225368353893027 0.020347575026708666\n"
     ]
    }
   ],
   "source": [
    "# (d)\n",
    "def lin_func(p,x):\n",
    "    return p[0]+p[1]*x\n",
    "\n",
    "lin_model=Model(lin_func)\n",
    "\n",
    "data=RealData(logm,logv,sx=logmerr,sy=logverr)\n",
    "\n",
    "odr=ODR(data,lin_model,beta0=[0.,1.0])\n",
    "\n",
    "out=odr.run()\n",
    "out.pprint()\n",
    "out.beta\n",
    "out.sd_beta\n",
    "out.sum_square\n",
    "\n",
    "print(out.beta[0], out.beta[1]) # c 값과 d 값 출력\n",
    "print(out.sd_beta[0], out.sd_beta[1]) # c 값의 error 와 d 값의 error 출력"
   ]
  },
  {
   "cell_type": "markdown",
   "metadata": {},
   "source": [
    "#### logM=a+blogv <=> logv=(-a/b)+(1/b)logM 이므로 c=-a/b 이고 d=1/b 이어야 한다. 실제로 값을 대입해서 계산해보면 예측되는 c = (-2.33972617)/4.70367147 = 0.497 이고, logm , log  v 로 fitting 한 결과 값과 일치함을 확인할 수 있다.\n",
    "\n",
    "#### 또한 예측되는 d = 1/4.70367147 = 0.2126 으로, 실제로 fitting 한 결과 값인 0.2126 과 같음을 확인할 수 있다."
   ]
  }
 ],
 "metadata": {
  "kernelspec": {
   "display_name": "Python 3",
   "language": "python",
   "name": "python3"
  },
  "language_info": {
   "codemirror_mode": {
    "name": "ipython",
    "version": 3
   },
   "file_extension": ".py",
   "mimetype": "text/x-python",
   "name": "python",
   "nbconvert_exporter": "python",
   "pygments_lexer": "ipython3",
   "version": "3.7.2"
  }
 },
 "nbformat": 4,
 "nbformat_minor": 2
}
