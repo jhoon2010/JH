{
 "cells": [
  {
   "cell_type": "markdown",
   "metadata": {},
   "source": [
    "# 2018-11798 박정훈"
   ]
  },
  {
   "cell_type": "markdown",
   "metadata": {},
   "source": [
    "# HW 5\n",
    "## Problem 1"
   ]
  },
  {
   "cell_type": "code",
   "execution_count": 1,
   "metadata": {},
   "outputs": [],
   "source": [
    "import numpy as np\n",
    "import matplotlib.pyplot as plt\n",
    "from scipy import linalg"
   ]
  },
  {
   "cell_type": "code",
   "execution_count": 2,
   "metadata": {},
   "outputs": [],
   "source": [
    "cnt = 0\n",
    "A   = []\n",
    "B   = []\n",
    "while(cnt < 256): # 계수 행렬을 만들어 줌\n",
    "    i   = 0\n",
    "    row = []\n",
    "    if(cnt == 0): # 첫 번째 행에 대해서\n",
    "        row.append(-2)\n",
    "        row.append(1)\n",
    "        while (i < 254):\n",
    "            row.append(0)\n",
    "            i = i + 1\n",
    "    elif(cnt == 255): # 마지막 행에 대해서\n",
    "        while(i < 254):\n",
    "            row.append(0)\n",
    "            i = i + 1\n",
    "        row.append(1)\n",
    "        row.append(-2)\n",
    "    else: # 나머지 경우에 대해서\n",
    "        while (i < 256):\n",
    "            if(i ==  (cnt-1)):\n",
    "                row.append(1)\n",
    "                row.append(-2)\n",
    "                row.append(1)\n",
    "                i = i + 3\n",
    "            else:\n",
    "                row.append(0)\n",
    "                i = i + 1\n",
    "    A.append(row)\n",
    "    cnt = cnt + 1\n",
    "\n",
    "i = 0\n",
    "while(i < 256): # b 벡터를 만들어 줌\n",
    "    a = (-1) * (2 * np.pi / 256)**2 * np.cos(2 * np.pi * i / 256)\n",
    "    B.append(a)\n",
    "    i = i + 1"
   ]
  },
  {
   "cell_type": "code",
   "execution_count": 3,
   "metadata": {},
   "outputs": [
    {
     "name": "stdout",
     "output_type": "stream",
     "text": [
      "[ 3.00024453e-04 -2.34394104e-06 -9.06923752e-04 -2.41317080e-03\n",
      " -4.52017849e-03 -7.22667834e-03 -1.05310408e-02 -1.44312760e-02\n",
      " -1.89250355e-02 -2.40096130e-02 -2.96819465e-02 -3.59386199e-02\n",
      " -4.27758651e-02 -5.01895643e-02 -5.81752525e-02 -6.67281201e-02\n",
      " -7.58430159e-02 -8.55144501e-02 -9.57365977e-02 -1.06503302e-01\n",
      " -1.17808078e-01 -1.29644118e-01 -1.42004291e-01 -1.54881154e-01\n",
      " -1.68266951e-01 -1.82153619e-01 -1.96532794e-01 -2.11395816e-01\n",
      " -2.26733732e-01 -2.42537305e-01 -2.58797014e-01 -2.75503067e-01\n",
      " -2.92645401e-01 -3.10213691e-01 -3.28197356e-01 -3.46585563e-01\n",
      " -3.65367236e-01 -3.84531064e-01 -4.04065502e-01 -4.23958786e-01\n",
      " -4.44198932e-01 -4.64773750e-01 -4.85670847e-01 -5.06877635e-01\n",
      " -5.28381342e-01 -5.50169015e-01 -5.72227530e-01 -5.94543602e-01\n",
      " -6.17103788e-01 -6.39894499e-01 -6.62902009e-01 -6.86112459e-01\n",
      " -7.09511869e-01 -7.33086144e-01 -7.56821085e-01 -7.80702396e-01\n",
      " -8.04715691e-01 -8.28846508e-01 -8.53080310e-01 -8.77402502e-01\n",
      " -9.01798434e-01 -9.26253410e-01 -9.50752701e-01 -9.75281550e-01\n",
      " -9.99825183e-01 -1.02436882e+00 -1.04889766e+00 -1.07339696e+00\n",
      " -1.09785193e+00 -1.12224786e+00 -1.14657005e+00 -1.17080386e+00\n",
      " -1.19493467e+00 -1.21894797e+00 -1.24282928e+00 -1.26656422e+00\n",
      " -1.29013850e+00 -1.31353791e+00 -1.33674836e+00 -1.35975587e+00\n",
      " -1.38254658e+00 -1.40510676e+00 -1.42742284e+00 -1.44948135e+00\n",
      " -1.47126902e+00 -1.49277273e+00 -1.51397952e+00 -1.53487662e+00\n",
      " -1.55545143e+00 -1.57569158e+00 -1.59558486e+00 -1.61511930e+00\n",
      " -1.63428313e+00 -1.65306480e+00 -1.67145301e+00 -1.68943667e+00\n",
      " -1.70700496e+00 -1.72414730e+00 -1.74085335e+00 -1.75711306e+00\n",
      " -1.77291663e+00 -1.78825455e+00 -1.80311757e+00 -1.81749675e+00\n",
      " -1.83138341e+00 -1.84476921e+00 -1.85764607e+00 -1.87000625e+00\n",
      " -1.88184229e+00 -1.89314706e+00 -1.90391377e+00 -1.91413592e+00\n",
      " -1.92380735e+00 -1.93292225e+00 -1.94147511e+00 -1.94946080e+00\n",
      " -1.95687450e+00 -1.96371175e+00 -1.96996842e+00 -1.97564075e+00\n",
      " -1.98072533e+00 -1.98521909e+00 -1.98911932e+00 -1.99242369e+00\n",
      " -1.99513019e+00 -1.99723719e+00 -1.99874344e+00 -1.99964802e+00\n",
      " -1.99995039e+00 -1.99965037e+00 -1.99874813e+00 -1.99724423e+00\n",
      " -1.99513956e+00 -1.99243541e+00 -1.98913339e+00 -1.98523550e+00\n",
      " -1.98074408e+00 -1.97566185e+00 -1.96999186e+00 -1.96373753e+00\n",
      " -1.95690263e+00 -1.94949127e+00 -1.94150793e+00 -1.93295740e+00\n",
      " -1.92384485e+00 -1.91417576e+00 -1.90395596e+00 -1.89319160e+00\n",
      " -1.88188917e+00 -1.87005547e+00 -1.85769764e+00 -1.84482312e+00\n",
      " -1.83143967e+00 -1.81755534e+00 -1.80317851e+00 -1.78831784e+00\n",
      " -1.77298226e+00 -1.75718103e+00 -1.74092367e+00 -1.72421996e+00\n",
      " -1.70707997e+00 -1.68951402e+00 -1.67153270e+00 -1.65314684e+00\n",
      " -1.63436751e+00 -1.61520603e+00 -1.59567393e+00 -1.57578299e+00\n",
      " -1.55554519e+00 -1.53497272e+00 -1.51407796e+00 -1.49287352e+00\n",
      " -1.47137216e+00 -1.44958683e+00 -1.42753066e+00 -1.40521693e+00\n",
      " -1.38265909e+00 -1.35987072e+00 -1.33686555e+00 -1.31365745e+00\n",
      " -1.29026038e+00 -1.26668845e+00 -1.24295585e+00 -1.21907689e+00\n",
      " -1.19506593e+00 -1.17093746e+00 -1.14670600e+00 -1.12238616e+00\n",
      " -1.09799257e+00 -1.07353994e+00 -1.04904299e+00 -1.02451648e+00\n",
      " -9.99975195e-01 -9.75433906e-01 -9.50907401e-01 -9.26410454e-01\n",
      " -9.01957822e-01 -8.77564234e-01 -8.53244386e-01 -8.29012927e-01\n",
      " -8.04884455e-01 -7.80873503e-01 -7.56994537e-01 -7.33261940e-01\n",
      " -7.09690009e-01 -6.86292943e-01 -6.63084837e-01 -6.40079671e-01\n",
      " -6.17291303e-01 -5.94733461e-01 -5.72419733e-01 -5.50363562e-01\n",
      " -5.28578233e-01 -5.07076870e-01 -4.85872426e-01 -4.64977673e-01\n",
      " -4.44405199e-01 -4.24167397e-01 -4.04276457e-01 -3.84744362e-01\n",
      " -3.65582879e-01 -3.46803549e-01 -3.28417686e-01 -3.10436366e-01\n",
      " -2.92870419e-01 -2.75730429e-01 -2.59026720e-01 -2.42769355e-01\n",
      " -2.26968127e-01 -2.11632554e-01 -1.96771876e-01 -1.82395045e-01\n",
      " -1.68510721e-01 -1.55127268e-01 -1.42252749e-01 -1.29894919e-01\n",
      " -1.18061224e-01 -1.06758792e-01 -9.59944312e-02 -8.57746275e-02\n",
      " -7.61055373e-02 -6.69929854e-02 -5.84424618e-02 -5.04591175e-02\n",
      " -4.30477623e-02 -3.62128610e-02 -2.99585316e-02 -2.42885420e-02\n",
      " -1.92063084e-02 -1.47148929e-02 -1.08170016e-02 -7.51498308e-03\n",
      " -4.81082718e-03 -2.70616343e-03 -1.20226032e-03 -3.00024453e-04]\n"
     ]
    }
   ],
   "source": [
    "# Gauss - Jordan elimination method\n",
    "N = len(A)\n",
    "x = np.zeros(N)\n",
    "\n",
    "for j in range(N):\n",
    "    for i in range(j+1, N):\n",
    "        coef = A[i][j]/A[j][j]\n",
    "        for k in range(N):\n",
    "            A[i][k] -= coef * A[j][k]\n",
    "        B[i] -= coef * B[j]\n",
    "\n",
    "x[N-1] = B[N-1]/A[N-1][N-1]\n",
    "for k in range(N-1, -1, -1):\n",
    "    sum = np.dot(A[k][k+1:],x[k+1:])\n",
    "    x[k] = (B[k] - sum)/A[k][k]\n",
    "    \n",
    "print(x)"
   ]
  },
  {
   "cell_type": "code",
   "execution_count": 4,
   "metadata": {},
   "outputs": [
    {
     "name": "stdout",
     "output_type": "stream",
     "text": [
      "[ 3.00024453e-04 -2.34394104e-06 -9.06923752e-04 -2.41317080e-03\n",
      " -4.52017849e-03 -7.22667834e-03 -1.05310408e-02 -1.44312760e-02\n",
      " -1.89250355e-02 -2.40096130e-02 -2.96819465e-02 -3.59386199e-02\n",
      " -4.27758651e-02 -5.01895643e-02 -5.81752525e-02 -6.67281201e-02\n",
      " -7.58430159e-02 -8.55144501e-02 -9.57365977e-02 -1.06503302e-01\n",
      " -1.17808078e-01 -1.29644118e-01 -1.42004291e-01 -1.54881154e-01\n",
      " -1.68266951e-01 -1.82153619e-01 -1.96532794e-01 -2.11395816e-01\n",
      " -2.26733732e-01 -2.42537305e-01 -2.58797014e-01 -2.75503067e-01\n",
      " -2.92645401e-01 -3.10213691e-01 -3.28197356e-01 -3.46585563e-01\n",
      " -3.65367236e-01 -3.84531064e-01 -4.04065502e-01 -4.23958786e-01\n",
      " -4.44198932e-01 -4.64773750e-01 -4.85670847e-01 -5.06877635e-01\n",
      " -5.28381342e-01 -5.50169015e-01 -5.72227530e-01 -5.94543602e-01\n",
      " -6.17103788e-01 -6.39894499e-01 -6.62902009e-01 -6.86112459e-01\n",
      " -7.09511869e-01 -7.33086144e-01 -7.56821085e-01 -7.80702396e-01\n",
      " -8.04715691e-01 -8.28846508e-01 -8.53080310e-01 -8.77402502e-01\n",
      " -9.01798434e-01 -9.26253410e-01 -9.50752701e-01 -9.75281550e-01\n",
      " -9.99825183e-01 -1.02436882e+00 -1.04889766e+00 -1.07339696e+00\n",
      " -1.09785193e+00 -1.12224786e+00 -1.14657005e+00 -1.17080386e+00\n",
      " -1.19493467e+00 -1.21894797e+00 -1.24282928e+00 -1.26656422e+00\n",
      " -1.29013850e+00 -1.31353791e+00 -1.33674836e+00 -1.35975587e+00\n",
      " -1.38254658e+00 -1.40510676e+00 -1.42742284e+00 -1.44948135e+00\n",
      " -1.47126902e+00 -1.49277273e+00 -1.51397952e+00 -1.53487662e+00\n",
      " -1.55545143e+00 -1.57569158e+00 -1.59558486e+00 -1.61511930e+00\n",
      " -1.63428313e+00 -1.65306480e+00 -1.67145301e+00 -1.68943667e+00\n",
      " -1.70700496e+00 -1.72414730e+00 -1.74085335e+00 -1.75711306e+00\n",
      " -1.77291663e+00 -1.78825455e+00 -1.80311757e+00 -1.81749675e+00\n",
      " -1.83138341e+00 -1.84476921e+00 -1.85764607e+00 -1.87000625e+00\n",
      " -1.88184229e+00 -1.89314706e+00 -1.90391377e+00 -1.91413592e+00\n",
      " -1.92380735e+00 -1.93292225e+00 -1.94147511e+00 -1.94946080e+00\n",
      " -1.95687450e+00 -1.96371175e+00 -1.96996842e+00 -1.97564075e+00\n",
      " -1.98072533e+00 -1.98521909e+00 -1.98911932e+00 -1.99242369e+00\n",
      " -1.99513019e+00 -1.99723719e+00 -1.99874344e+00 -1.99964802e+00\n",
      " -1.99995039e+00 -1.99965037e+00 -1.99874813e+00 -1.99724423e+00\n",
      " -1.99513956e+00 -1.99243541e+00 -1.98913339e+00 -1.98523550e+00\n",
      " -1.98074408e+00 -1.97566185e+00 -1.96999186e+00 -1.96373753e+00\n",
      " -1.95690263e+00 -1.94949127e+00 -1.94150793e+00 -1.93295740e+00\n",
      " -1.92384485e+00 -1.91417576e+00 -1.90395596e+00 -1.89319160e+00\n",
      " -1.88188917e+00 -1.87005547e+00 -1.85769764e+00 -1.84482312e+00\n",
      " -1.83143967e+00 -1.81755534e+00 -1.80317851e+00 -1.78831784e+00\n",
      " -1.77298226e+00 -1.75718103e+00 -1.74092367e+00 -1.72421996e+00\n",
      " -1.70707997e+00 -1.68951402e+00 -1.67153270e+00 -1.65314684e+00\n",
      " -1.63436751e+00 -1.61520603e+00 -1.59567393e+00 -1.57578299e+00\n",
      " -1.55554519e+00 -1.53497272e+00 -1.51407796e+00 -1.49287352e+00\n",
      " -1.47137216e+00 -1.44958683e+00 -1.42753066e+00 -1.40521693e+00\n",
      " -1.38265909e+00 -1.35987072e+00 -1.33686555e+00 -1.31365745e+00\n",
      " -1.29026038e+00 -1.26668845e+00 -1.24295585e+00 -1.21907689e+00\n",
      " -1.19506593e+00 -1.17093746e+00 -1.14670600e+00 -1.12238616e+00\n",
      " -1.09799257e+00 -1.07353994e+00 -1.04904299e+00 -1.02451648e+00\n",
      " -9.99975195e-01 -9.75433906e-01 -9.50907401e-01 -9.26410454e-01\n",
      " -9.01957822e-01 -8.77564234e-01 -8.53244386e-01 -8.29012927e-01\n",
      " -8.04884455e-01 -7.80873503e-01 -7.56994537e-01 -7.33261940e-01\n",
      " -7.09690009e-01 -6.86292943e-01 -6.63084837e-01 -6.40079671e-01\n",
      " -6.17291303e-01 -5.94733461e-01 -5.72419733e-01 -5.50363562e-01\n",
      " -5.28578233e-01 -5.07076870e-01 -4.85872426e-01 -4.64977673e-01\n",
      " -4.44405199e-01 -4.24167397e-01 -4.04276457e-01 -3.84744362e-01\n",
      " -3.65582879e-01 -3.46803549e-01 -3.28417686e-01 -3.10436366e-01\n",
      " -2.92870419e-01 -2.75730429e-01 -2.59026720e-01 -2.42769355e-01\n",
      " -2.26968127e-01 -2.11632554e-01 -1.96771876e-01 -1.82395045e-01\n",
      " -1.68510721e-01 -1.55127268e-01 -1.42252749e-01 -1.29894919e-01\n",
      " -1.18061224e-01 -1.06758792e-01 -9.59944312e-02 -8.57746275e-02\n",
      " -7.61055373e-02 -6.69929854e-02 -5.84424618e-02 -5.04591175e-02\n",
      " -4.30477623e-02 -3.62128610e-02 -2.99585316e-02 -2.42885420e-02\n",
      " -1.92063084e-02 -1.47148929e-02 -1.08170016e-02 -7.51498308e-03\n",
      " -4.81082718e-03 -2.70616343e-03 -1.20226032e-03 -3.00024453e-04]\n"
     ]
    }
   ],
   "source": [
    "# 위와 동일한 방식으로 행렬을 만들어줌.\n",
    "cnt = 0\n",
    "A   = []\n",
    "B   = []\n",
    "while(cnt < 256):\n",
    "    i   = 0\n",
    "    row = []\n",
    "    if(cnt == 0):\n",
    "        row.append(-2)\n",
    "        row.append(1)\n",
    "        while (i < 254):\n",
    "            row.append(0)\n",
    "            i = i + 1\n",
    "    elif(cnt == 255):\n",
    "        while(i < 254):\n",
    "            row.append(0)\n",
    "            i = i + 1\n",
    "        row.append(1)\n",
    "        row.append(-2)\n",
    "    else:\n",
    "        while (i < 256):\n",
    "            if(i ==  (cnt-1)):\n",
    "                row.append(1)\n",
    "                row.append(-2)\n",
    "                row.append(1)\n",
    "                i = i + 3\n",
    "            else:\n",
    "                row.append(0)\n",
    "                i = i + 1\n",
    "    A.append(row)\n",
    "    cnt = cnt + 1\n",
    "    \n",
    "i = 0\n",
    "while(i < 256):\n",
    "    a = (-1) * (2 * np.pi / 256)**2 * np.cos(2 * np.pi * i / 256)\n",
    "    B.append(a)\n",
    "    i = i + 1\n",
    "\n",
    "# forward and backward substitutions method\n",
    "a = []\n",
    "b = []\n",
    "c = []\n",
    "i , j , k = 0 , 0 , 0\n",
    "while (i < 256):\n",
    "    if(i == 0):\n",
    "        a.append(0)\n",
    "    else:\n",
    "        a.append(1)\n",
    "    i = i + 1\n",
    "while(j < 256):\n",
    "    b.append(-2)\n",
    "    j = j + 1\n",
    "while(k < 256):\n",
    "    if(k == 255):\n",
    "        c.append(0)\n",
    "    else:\n",
    "        c.append(1)\n",
    "    k = k + 1\n",
    "\n",
    "n = len(A)\n",
    "r   = B\n",
    "rho = np.zeros(n)\n",
    "gam = np.zeros(n)\n",
    "bet = b[0]\n",
    "rho[0] = r[0] / bet\n",
    "for i in range(1,n):\n",
    "    gam[i-1] = c[i-1] / bet\n",
    "    bet      = b[i] - a[i] * gam[i-1]\n",
    "    rho[i]   = (r[i] - a[i] * rho[i-1]) / bet\n",
    "\n",
    "y = np.zeros(n)\n",
    "y[n-1] = rho[n-1]\n",
    "for j in range(n-2,-1,-1):\n",
    "    y[j] = rho[j] - gam[j] * y[j+1]\n",
    "\n",
    "print(y)"
   ]
  },
  {
   "cell_type": "code",
   "execution_count": 5,
   "metadata": {
    "scrolled": true
   },
   "outputs": [
    {
     "data": {
      "text/plain": [
       "[<matplotlib.lines.Line2D at 0x1d463299cc0>]"
      ]
     },
     "execution_count": 5,
     "metadata": {},
     "output_type": "execute_result"
    },
    {
     "data": {
      "image/png": "[encoded data removed]",
      "text/plain": [
       "<Figure size 432x288 with 1 Axes>"
      ]
     },
     "metadata": {
      "needs_background": "light"
     },
     "output_type": "display_data"
    }
   ],
   "source": [
    "t = np.linspace(0,2*np.pi,256)\n",
    "plt.plot(t,x,'b')\n",
    "plt.plot(t,y,'r')\n",
    "plt.plot(t,np.cos(t)-1,'g')\n",
    "\n",
    "# constant 가 거의 -1 이라는 사실을 대략적으로 확인할 수 있음."
   ]
  },
  {
   "cell_type": "code",
   "execution_count": 6,
   "metadata": {},
   "outputs": [
    {
     "data": {
      "text/plain": [
       "[<matplotlib.lines.Line2D at 0x1d4631a8390>]"
      ]
     },
     "execution_count": 6,
     "metadata": {},
     "output_type": "execute_result"
    },
    {
     "data": {
      "image/png": "[encoded data removed]",
      "text/plain": [
       "<Figure size 432x288 with 2 Axes>"
      ]
     },
     "metadata": {
      "needs_background": "light"
     },
     "output_type": "display_data"
    }
   ],
   "source": [
    "t = np.linspace(0,2*np.pi,256)\n",
    "plt.subplot(2,1,1)\n",
    "plt.semilogy(t,np.abs(x-np.cos(t)+1),'b')\n",
    "plt.subplot(2,1,2)\n",
    "plt.semilogy(t,np.abs(y-np.cos(t)+1),'r')\n",
    "# 각 method의 해와 (cos(x)-1) 사이의 차를 log scale로 그려보았다.\n",
    "# 참값과 차이가 0.01 이내로 나타남을 확인할 수 있다."
   ]
  },
  {
   "cell_type": "markdown",
   "metadata": {},
   "source": [
    "## Problem 2"
   ]
  },
  {
   "cell_type": "code",
   "execution_count": 7,
   "metadata": {},
   "outputs": [],
   "source": [
    "# 데이터 입력\n",
    "E = np.zeros((6,6))\n",
    "A = np.zeros((6,6))\n",
    "Oi = np.zeros((6,6))\n",
    "bet = np.zeros((6,6))\n",
    "omg = np.zeros(6)\n",
    "E[0][1] = 0.00609\n",
    "E[0][2] = 0.01628\n",
    "E[0][3] = 1.89879\n",
    "E[0][4] = 4.05244\n",
    "E[0][5] = 5.80061\n",
    "E[1][2] = 0.01019\n",
    "E[1][3] = 1.89270\n",
    "E[1][4] = 4.04635\n",
    "E[1][5] = 5.79452\n",
    "E[2][3] = 1.88251\n",
    "E[2][4] = 4.03616\n",
    "E[2][5] = 5.78433\n",
    "E[3][4] = 2.15365\n",
    "E[3][5] = 3.90182\n",
    "E[4][5] = 1.74817\n",
    "A[1][0] = 2.08 * 10**(-6)\n",
    "A[2][0] = 1.16 * 10**(-12)\n",
    "A[3][0] = 5.35 * 10**(-7)\n",
    "A[4][0] = 0\n",
    "A[5][0] = 0\n",
    "A[2][1] = 7.46 * 10**(-6)\n",
    "A[3][1] = 1.01 * 10**(-3)\n",
    "A[4][1] = 3.38 * 10**(-2)\n",
    "A[5][1] = 4.80 * 10**(+1)\n",
    "A[3][2] = 2.99 * 10**(-3)\n",
    "A[4][2] = 1.51 * 10**(-4)\n",
    "A[5][2] = 1.07 * 10**(+2)\n",
    "A[4][3] = 1.12\n",
    "A[5][3] = 0\n",
    "A[5][4] = 0\n",
    "Oi[1][0] = 0.408\n",
    "Oi[2][0] = 0.272\n",
    "Oi[3][0] = 0.2934\n",
    "Oi[4][0] = 0.0326\n",
    "Oi[5][0] = 0.1323\n",
    "Oi[2][1] = 1.120\n",
    "Oi[3][1] = 0.8803\n",
    "Oi[4][1] = 0.0977\n",
    "Oi[5][1] = 0.3968\n",
    "Oi[3][2] = 1.4672\n",
    "Oi[4][2] = 0.1628\n",
    "Oi[5][2] = 0.6613\n",
    "Oi[4][3] = 0.8338\n",
    "Oi[5][3] = 0\n",
    "Oi[5][4] = 0\n",
    "bet[1][0] = 0.125\n",
    "bet[2][0] = 0.21\n",
    "bet[3][0] = 0.048\n",
    "bet[4][0] = 0.050\n",
    "bet[5][0] = 0.025\n",
    "bet[2][1] = 0.17\n",
    "bet[3][1] = 0.048\n",
    "bet[4][1] = 0.050\n",
    "bet[5][1] = 0.025\n",
    "bet[3][2] = 0.048\n",
    "bet[4][2] = 0.050\n",
    "bet[5][2] = 0.025\n",
    "bet[4][3] = -0.18\n",
    "bet[5][3] = 0\n",
    "bet[5][4] = 0\n",
    "omg[5] = 1\n",
    "omg[4] = 1\n",
    "omg[3] = 5\n",
    "omg[2] = 5\n",
    "omg[1] = 3\n",
    "omg[0] = 1"
   ]
  },
  {
   "cell_type": "code",
   "execution_count": 8,
   "metadata": {},
   "outputs": [],
   "source": [
    "def f(ne, T): # n 값들을 구해주는 함수 정의\n",
    "    t = T / 10000\n",
    "    Omg = np.zeros((6,6)) # Omega 값을 주어진대로 구함\n",
    "    for i in range(0,6):\n",
    "        for j in range(0,6):\n",
    "            Omg[j][i] = (t**(bet[j][i])) * Oi[j][i]\n",
    "\n",
    "    q = np.zeros((6,6))\n",
    "    for j in range(0,6): # q 값을 주어진대로 구함\n",
    "        for i in range(0,6):\n",
    "            if(j > i):\n",
    "                q[j][i] = 8.629 * 10**(-8) * Omg[j][i] / (t**(0.5)) / omg[j]\n",
    "            if(j > i):\n",
    "                q[i][j] = omg[j] / omg[i] * q[j][i] * np.exp(-1.1605 * E[i][j] / t)\n",
    "\n",
    "    C = np.zeros(5)\n",
    "    for i in range(0,5): # 계수 행렬의 대각성분을 주어진대로 구함\n",
    "        for k in range(0,6):\n",
    "            if(k > i):\n",
    "                C[i] = C[i] + ne * q[i][k]\n",
    "            elif(k < i):\n",
    "                C[i] = C[i] + A[i][k] + ne * q[i][k]  \n",
    "\n",
    "    A_ = np.zeros((6,6))\n",
    "    for i in range(0,6): # 계수 행렬에 원소를 넣어줌\n",
    "        for k in range(0,6):\n",
    "            if(i == 5):\n",
    "                A_[i][k] = 1\n",
    "            elif(k == i):\n",
    "                A_[i][k] = (-1) * C[i]\n",
    "            elif(k < i):\n",
    "                A_[i][k] = ne * q[k][i]\n",
    "            elif(k > i):\n",
    "                A_[i][k] = ne * q[k][i] + A[k][i]\n",
    "    \n",
    "    \n",
    "    \n",
    "    \n",
    "    B = np.array([0,0,0,0,0,1]) \n",
    "    x = np.linalg.solve(A_,B) # n 값들을 구함\n",
    "    print(x) # 출력함"
   ]
  },
  {
   "cell_type": "code",
   "execution_count": 9,
   "metadata": {
    "scrolled": false
   },
   "outputs": [
    {
     "name": "stdout",
     "output_type": "stream",
     "text": [
      "[7.57206634e-01 2.08874202e-01 3.39120994e-02 7.06361359e-06\n",
      " 2.21572635e-10 8.80199627e-13]\n",
      "[1.06627112e-01 3.22823048e-01 5.38254162e-01 3.22902435e-02\n",
      " 5.42678473e-06 8.60777856e-09]\n",
      "[1.14745280e-01 3.40912897e-01 5.43405313e-01 9.36505447e-04\n",
      " 4.06140229e-09 1.49183699e-12]\n",
      "[9.90327580e-02 3.25016207e-01 5.61438166e-01 1.45108441e-02\n",
      " 2.00666804e-06 1.81481837e-08]\n"
     ]
    }
   ],
   "source": [
    "f(10, 10000) # ne = 10, T = 10000\n",
    "f(10**5,10000) # ne = 10**5, T = 10000\n",
    "f(10**4,5000) # ne = 10**4, T = 5000\n",
    "f(10**4,20000) # ne = 10**4, T =20000"
   ]
  },
  {
   "cell_type": "code",
   "execution_count": 10,
   "metadata": {},
   "outputs": [],
   "source": [
    "def plot(ne): # plot 함수 정의\n",
    "    T  = 5000 # 처음 T값\n",
    "    dT = 10 # dT 값\n",
    "    T_list  = [] # plot 할 값을 저장할 곳\n",
    "    R_list  = [] # plot 할 값을 저장할 곳\n",
    "    while(T < 20000): # 끝값(T = 20000) 까지 실행\n",
    "        t = T / 10000\n",
    "        # 위와 동일한 방식으로 해당하는 T, ne 값에 대해서 n 값들을 뽑아냄\n",
    "        Omg = np.zeros((6,6))\n",
    "        for i in range(0,6):\n",
    "            for j in range(0,6):\n",
    "                Omg[j][i] = (t**(bet[j][i])) * Oi[j][i]\n",
    "\n",
    "        q = np.zeros((6,6))\n",
    "        for j in range(0,6):\n",
    "            for i in range(0,6):\n",
    "                if(j > i):\n",
    "                    q[j][i] = 8.629 * 10**(-8) * Omg[j][i] / (t**(0.5)) / omg[j]\n",
    "                if(j > i):\n",
    "                    q[i][j] = omg[j] / omg[i] * q[j][i] * np.exp(-1.1605 * E[i][j] / t)\n",
    "\n",
    "        C = np.zeros(5)\n",
    "        for i in range(0,5):\n",
    "            for k in range(0,6):\n",
    "                if(k > i):\n",
    "                    C[i] = C[i] + ne * q[i][k]\n",
    "                elif(k < i):\n",
    "                    C[i] = C[i] + A[i][k] + ne * q[i][k]  \n",
    "\n",
    "        A_ = np.zeros((6,6))\n",
    "        for i in range(0,6):\n",
    "            for k in range(0,6):\n",
    "                if(i == 5):\n",
    "                    A_[i][k] = 1\n",
    "                elif(k == i):\n",
    "                    A_[i][k] = (-1) * C[i]\n",
    "                elif(k < i):\n",
    "                    A_[i][k] = ne * q[k][i]\n",
    "                elif(k > i):\n",
    "                    A_[i][k] = ne * q[k][i] + A[k][i]\n",
    "\n",
    "        B = np.array([0,0,0,0,0,1])\n",
    "        x = np.linalg.solve(A_,B)\n",
    "\n",
    "        # 문제에 주어진 식(5) 번을 이용해서 T, ne 값에 대응되는 R을 구함\n",
    "        \n",
    "        R = x[3] / x[4] * A[3][2] / A[4][3] * 5755 / 6584\n",
    "        R_list.append(R)\n",
    "        T_list.append(T)\n",
    "        T = T +dT\n",
    "    return T_list,R_list # list 를 반환함"
   ]
  },
  {
   "cell_type": "code",
   "execution_count": 11,
   "metadata": {
    "scrolled": true
   },
   "outputs": [],
   "source": [
    "t10,r10 = plot(10) # ne 10 에 해당하는 값들\n",
    "t1000,r1000 = plot(1000) # ne 1000 에 해당하는 값들\n",
    "t100000,r100000 = plot(100000) # ne 100000 에 해당하는 값들"
   ]
  },
  {
   "cell_type": "code",
   "execution_count": 12,
   "metadata": {},
   "outputs": [
    {
     "data": {
      "text/plain": [
       "[<matplotlib.lines.Line2D at 0x1d45a303e80>]"
      ]
     },
     "execution_count": 12,
     "metadata": {},
     "output_type": "execute_result"
    },
    {
     "data": {
      "image/png": "[encoded data removed]",
      "text/plain": [
       "<Figure size 432x288 with 1 Axes>"
      ]
     },
     "metadata": {
      "needs_background": "light"
     },
     "output_type": "display_data"
    }
   ],
   "source": [
    "plt.plot(t10,r10,'r') # 빨간색 ne = 10\n",
    "plt.plot(t1000,r1000,'g') # 초록색 ne =1000\n",
    "plt.plot(t100000,r100000,'b') # 파란색 ne = 100000\n",
    "# 가로축 T, 세로축 R"
   ]
  }
 ],
 "metadata": {
  "kernelspec": {
   "display_name": "Python 3",
   "language": "python",
   "name": "python3"
  },
  "language_info": {
   "codemirror_mode": {
    "name": "ipython",
    "version": 3
   },
   "file_extension": ".py",
   "mimetype": "text/x-python",
   "name": "python",
   "nbconvert_exporter": "python",
   "pygments_lexer": "ipython3",
   "version": "3.7.2"
  }
 },
 "nbformat": 4,
 "nbformat_minor": 2
}
