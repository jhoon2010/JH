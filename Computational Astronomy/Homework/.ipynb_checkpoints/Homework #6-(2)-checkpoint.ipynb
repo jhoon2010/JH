{
 "cells": [
  {
   "cell_type": "code",
   "execution_count": 1,
   "metadata": {},
   "outputs": [],
   "source": [
    "import numpy as np\n",
    "import matplotlib.pyplot as plt"
   ]
  },
  {
   "cell_type": "code",
   "execution_count": 4,
   "metadata": {},
   "outputs": [],
   "source": [
    "import matplotlib as mpl\n",
    "from mpl_toolkits.mplot3d import Axes3D\n",
    "def golden3D(x,dr,TOL):\n",
    "    R, err, loop = 0.61803399,10.,-1\n",
    "    adr = np.sqrt(dr[0]**2 + dr[1]**2 + dr[2]**2)\n",
    "    a = x - (dr / adr)\n",
    "    b = x + (dr / adr)\n",
    "    while (err > TOL):\n",
    "        loop = loop + 1\n",
    "        x1 = b - R * (b - a)\n",
    "        x2 = a + R*(b - a)\n",
    "        f1 = f(x1)\n",
    "        f2 = f(x2)\n",
    "        if(f2>f1): \n",
    "            b = x2\n",
    "        else: \n",
    "            a = x1\n",
    "        err = sum((a - b)**2)\n",
    "        err = np.sqrt(err)\n",
    "    xmin=a\n",
    "    return xmin,err,loop"
   ]
  },
  {
   "cell_type": "code",
   "execution_count": 5,
   "metadata": {},
   "outputs": [],
   "source": [
    "def f(x):\n",
    "    return 100 * (x[1] - x[0]**2)**2 + (1 - x[0])**2 + 100 * (x[2] - x[1]**2)**2 + (1 - x[2])**2"
   ]
  },
  {
   "cell_type": "code",
   "execution_count": 6,
   "metadata": {},
   "outputs": [],
   "source": [
    "def gradf(x):\n",
    "    return np.array([(-400) * x[0] * (x[1] - x[0]**2) - 2 * (1 - x[0]), 200 * (x[1] - x[0]**2) - 400 * x[1] * (x[2] - x[1]**2), 200 * (x[2] - x[1]**2) - 2 * (1 - x[2])])"
   ]
  },
  {
   "cell_type": "code",
   "execution_count": 12,
   "metadata": {
    "scrolled": true
   },
   "outputs": [
    {
     "name": "stdout",
     "output_type": "stream",
     "text": [
      "[6.98430125e-04 1.02219782e+00 1.20952904e+00]\n",
      "[0.00524708 0.74266301 1.14464261]\n",
      "[0.0376606  0.28621915 0.255481  ]\n",
      "[ 0.07632521  0.0316825  -0.01597205]\n",
      "[0.08967961 0.00210276 0.00691822]\n",
      "[0.12905453 0.01959017 0.02701683]\n",
      "[0.30571686 0.07010761 0.01756375]\n",
      "[0.31559387 0.10201514 0.01359899]\n",
      "[0.33576521 0.10580894 0.02687805]\n",
      "[0.45193482 0.22034992 0.03519356]\n",
      "[0.51281914 0.24772939 0.05642457]\n",
      "[0.50715369 0.26170947 0.0714349 ]\n",
      "[0.51434227 0.2626788  0.08118008]\n",
      "[0.56571583 0.3294505  0.09784818]\n",
      "[0.62196953 0.36985206 0.12960801]\n",
      "[0.61386926 0.38138506 0.14349088]\n",
      "[0.61762608 0.38072828 0.15398735]\n",
      "[0.63924629 0.41883413 0.16940235]\n",
      "[0.70252276 0.47771333 0.2174197 ]\n",
      "[0.69288657 0.48542273 0.23375222]\n",
      "[0.69566723 0.48372807 0.24100145]\n",
      "[0.71810989 0.52086694 0.26119201]\n",
      "[0.76252704 0.56416207 0.30878361]\n",
      "[0.7529276  0.57075383 0.32091947]\n",
      "[0.75413298 0.56844191 0.32826307]\n",
      "[0.76451239 0.59201776 0.34437906]\n",
      "[0.81911607 0.65542023 0.41751881]\n",
      "[0.80890965 0.6585185  0.43110575]\n",
      "[0.81036469 0.65662889 0.43502029]\n",
      "[0.82702615 0.68539621 0.45930773]\n",
      "[0.86070643 0.7235405  0.51709574]\n",
      "[0.8526942  0.72819768 0.52385559]\n",
      "[0.85209379 0.7256393  0.52915799]\n",
      "[0.85339321 0.73323493 0.53599952]\n",
      "[0.91737527 0.82514839 0.67444583]\n",
      "[0.91091961 0.83081194 0.68325766]\n",
      "[0.91070099 0.82828053 0.68727642]\n",
      "[0.91006693 0.8297778  0.68871761]\n",
      "minimum point : (0.9100669252039786,0.8297777955696028,0.6887176122791676) \n",
      " 38 iterations\n"
     ]
    }
   ],
   "source": [
    "TOL = 10**(-5)\n",
    "x = np.array([0,2,1])\n",
    "dr1 = gradf(x)\n",
    "x1, err, loop = golden3D(x, dr1, TOL)\n",
    "err=(x1[2] - x[2])**2 + (x1[1] - x[1])**2 + (x1[0] - x[0])**2\n",
    "\n",
    "\n",
    "cnt= 0\n",
    "while (err>TOL):\n",
    "    cnt = cnt + 1\n",
    "    dr2 = gradf(x) + ((gradf(x)[0]**2 + gradf(x)[1]**2 + gradf(x)[2]**2) / (dr1[0]**2 + dr1[1]**2 + dr1[2]**2)) * dr1\n",
    "    x1, err, loop = golden3D(x, dr2, TOL)\n",
    "    dr1 = dr2\n",
    "    err = (x1[2] - x[2])**2 + (x1[1] - x[1])**2 + (x1[0] - x[0])**2\n",
    "    print(x1)\n",
    "    x = x1\n",
    "print('minimum point : ({},{},{})'.format(x[0],x[1],x[2]),'\\n','%d iterations'%cnt)"
   ]
  }
 ],
 "metadata": {
  "kernelspec": {
   "display_name": "Python 3",
   "language": "python",
   "name": "python3"
  },
  "language_info": {
   "codemirror_mode": {
    "name": "ipython",
    "version": 3
   },
   "file_extension": ".py",
   "mimetype": "text/x-python",
   "name": "python",
   "nbconvert_exporter": "python",
   "pygments_lexer": "ipython3",
   "version": "3.7.2"
  }
 },
 "nbformat": 4,
 "nbformat_minor": 2
}
