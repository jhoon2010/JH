{
 "cells": [
  {
   "cell_type": "markdown",
   "metadata": {},
   "source": [
    "# Problem 1"
   ]
  },
  {
   "cell_type": "code",
   "execution_count": 1,
   "metadata": {},
   "outputs": [],
   "source": [
    "import numpy as np\n",
    "import matplotlib.pyplot as plt"
   ]
  },
  {
   "cell_type": "code",
   "execution_count": 2,
   "metadata": {},
   "outputs": [
    {
     "name": "stdout",
     "output_type": "stream",
     "text": [
      "4.17776\n",
      "0.13530448033971382\n",
      "4.188790204786391\n"
     ]
    }
   ],
   "source": [
    "# 3차원에서\n",
    "result = []\n",
    "for i in range(100): # 100번 반복\n",
    "    cnt = 0 # 범위 안 점의 개수를 세기 위해서\n",
    "    x = np.random.rand(1000) # 좌표\n",
    "    y = np.random.rand(1000) # 좌표\n",
    "    z = np.random.rand(1000) # 좌표\n",
    "    for j in range(1000):\n",
    "        if((x[j]**2 + y[j]**2 + z[j]**2) < 1): # 3차원 구 내부이면\n",
    "            cnt+=1 # cnt +1 \n",
    "    result.append(cnt)\n",
    "\n",
    "print(np.average(result)*8/1000) # 100번 반복한 결과\n",
    "print(np.std(result)/125) # 표준편차\n",
    "print(np.pi**1.5/(0.75*(np.pi)**0.5)) # 참값"
   ]
  },
  {
   "cell_type": "code",
   "execution_count": 3,
   "metadata": {},
   "outputs": [
    {
     "name": "stdout",
     "output_type": "stream",
     "text": [
      "4.96176\n",
      "0.24472045766547593\n",
      "4.934802200544679\n"
     ]
    }
   ],
   "source": [
    "result = []\n",
    "for i in range(100):\n",
    "    cnt = 0\n",
    "    x = np.random.rand(1000)\n",
    "    y = np.random.rand(1000)\n",
    "    z = np.random.rand(1000)\n",
    "    w = np.random.rand(1000)\n",
    "    for j in range(1000):\n",
    "        if((x[j]**2 + y[j]**2 + z[j]**2 + w[j]**2) < 1):\n",
    "            cnt+=1\n",
    "    result.append(cnt)\n",
    "\n",
    "print(np.average(result)*16/1000)\n",
    "print(np.std(result)*16/1000)\n",
    "print(np.pi**2/2)"
   ]
  },
  {
   "cell_type": "code",
   "execution_count": 4,
   "metadata": {},
   "outputs": [
    {
     "name": "stdout",
     "output_type": "stream",
     "text": [
      "5.26272\n",
      "0.38058266066651014\n",
      "5.263789013914325\n"
     ]
    }
   ],
   "source": [
    "result = []\n",
    "for i in range(100):\n",
    "    cnt = 0\n",
    "    x = np.random.rand(1000)\n",
    "    y = np.random.rand(1000)\n",
    "    z = np.random.rand(1000)\n",
    "    w = np.random.rand(1000)\n",
    "    u = np.random.rand(1000)\n",
    "    for j in range(1000):\n",
    "        if((x[j]**2 + y[j]**2 + z[j]**2 + w[j]**2 + u[j]**2) < 1):\n",
    "            cnt+=1\n",
    "    result.append(cnt)\n",
    "\n",
    "print(np.average(result)*32/1000)\n",
    "print(np.std(result)*32/1000)\n",
    "print(np.pi**2.5/(2.5*0.75*(np.pi**0.5)))"
   ]
  },
  {
   "cell_type": "markdown",
   "metadata": {},
   "source": [
    "#### 계산 결과, Monte-Carlo Method 를 이용한 값과 참값이 크게 다르지 않은 것을 확인할 수 있었다. 평균 값은 거의 소수점 첫 째 자리 정도의 정확도로 일치하였고, 표준편차의 값이 상당히 작아서 꽤 정확한 결과를 얻었음을 확인할 수 있었다."
   ]
  },
  {
   "cell_type": "code",
   "execution_count": null,
   "metadata": {},
   "outputs": [],
   "source": []
  }
 ],
 "metadata": {
  "kernelspec": {
   "display_name": "Python 3",
   "language": "python",
   "name": "python3"
  },
  "language_info": {
   "codemirror_mode": {
    "name": "ipython",
    "version": 3
   },
   "file_extension": ".py",
   "mimetype": "text/x-python",
   "name": "python",
   "nbconvert_exporter": "python",
   "pygments_lexer": "ipython3",
   "version": "3.7.2"
  }
 },
 "nbformat": 4,
 "nbformat_minor": 2
}
