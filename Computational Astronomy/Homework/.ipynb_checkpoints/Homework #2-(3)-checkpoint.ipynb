{
 "cells": [
  {
   "cell_type": "code",
   "execution_count": 1,
   "metadata": {},
   "outputs": [],
   "source": [
    "import numpy as np\n",
    "import matplotlib.pyplot as plt"
   ]
  },
  {
   "cell_type": "markdown",
   "metadata": {},
   "source": [
    "# Problem 3"
   ]
  },
  {
   "cell_type": "markdown",
   "metadata": {},
   "source": [
    "### (a)"
   ]
  },
  {
   "cell_type": "markdown",
   "metadata": {},
   "source": [
    "$ \\cfrac{dB_\\lambda}{d\\lambda} $ 가 0이 되는 $ \\lambda\\ $를 찾아야 한다.\n",
    "$ \\cfrac{dB_\\lambda}{d\\lambda} $ 를 정리하자.\n",
    "$ \\cfrac{hc}{\\lambda kT}\\equiv x $ 로 두면, $$ $$\n",
    "$ \\cfrac{xe^x}{e^x-1}=5 $ 라는 방정식을 얻게 된다.\n"
   ]
  },
  {
   "cell_type": "code",
   "execution_count": 2,
   "metadata": {},
   "outputs": [],
   "source": [
    "def Wien(x): # 위에서 얻은 식을 표현하는 함수\n",
    "    return x*np.exp(x)/(np.exp(x)-1)"
   ]
  },
  {
   "cell_type": "code",
   "execution_count": 3,
   "metadata": {},
   "outputs": [],
   "source": [
    "def find_root():\n",
    "    loop=0\n",
    "    err=1\n",
    "    TOL=10**(-20) # 용인 가능한 오차\n",
    "    a=0.1 # 처음 구간의 왼쪽 값\n",
    "    b=1000 # 처음 구간의 오른쪽 값\n",
    "    while(err>TOL):\n",
    "        if(loop>1000): # 무한루프 방지\n",
    "            break\n",
    "        c=(a+b)*0.5 # 구간의 중앙값\n",
    "        err=np.abs(b-c) # 오차\n",
    "        if(err<TOL): # 오차가 더 작아지면\n",
    "            break # 반복문 종료\n",
    "        else: # 오차가 용인할 수 없으면\n",
    "            if(((Wien(a)-5)*(Wien(c)-5))>0): # 상황에 따라\n",
    "                a=c # 구간의 끝 값을\n",
    "            else:\n",
    "                b=c # 바꿔줌\n",
    "        loop+=1\n",
    "    print(b) # 이렇게 구한 x의 값\n",
    "    print(6.626*10**(-34)*2.998*10**8/1.38*10**23/c) #lambda_max*T의 값"
   ]
  },
  {
   "cell_type": "markdown",
   "metadata": {},
   "source": [
    "$ \\cfrac{hc}{\\lambda kT}\\equiv x $ 이기 때문에,\n",
    "$ \\lambda_{max} T=\\cfrac{hc}{kx_{root}} $ 이고 코드의 마지막 줄에 이 계산을 수행하였다."
   ]
  },
  {
   "cell_type": "code",
   "execution_count": 4,
   "metadata": {
    "scrolled": false
   },
   "outputs": [
    {
     "name": "stdout",
     "output_type": "stream",
     "text": [
      "4.965114231744277\n",
      "0.0028991769888201072\n"
     ]
    }
   ],
   "source": [
    "find_root()"
   ]
  },
  {
   "cell_type": "markdown",
   "metadata": {},
   "source": [
    "따라서 빈의 변위 법칙 : $ \\lambda_{max} T=2.899\\times 10^3 \\mu mK $ 를 얻게 된다."
   ]
  },
  {
   "cell_type": "markdown",
   "metadata": {},
   "source": [
    "### (b)"
   ]
  },
  {
   "cell_type": "code",
   "execution_count": 5,
   "metadata": {},
   "outputs": [],
   "source": [
    "def B(x,T): # 파장, 온도를 받음\n",
    "    return (1.191*10**(-16)/x**5/(np.exp(1.9865*10**(-25)/x/(1.381*10**(-23))/T)-1))\n",
    "\n",
    "# 상수는 계산해서 대입함"
   ]
  },
  {
   "cell_type": "code",
   "execution_count": 6,
   "metadata": {
    "scrolled": true
   },
   "outputs": [
    {
     "data": {
      "text/plain": [
       "(5e-08, 1e-05)"
      ]
     },
     "execution_count": 6,
     "metadata": {},
     "output_type": "execute_result"
    },
    {
     "data": {
      "image/png": "[encoded data removed]",
      "text/plain": [
       "<Figure size 432x288 with 1 Axes>"
      ]
     },
     "metadata": {
      "needs_background": "light"
     },
     "output_type": "display_data"
    }
   ],
   "source": [
    "t=np.arange(10**(-8),10**(-3),10**(-8))\n",
    "plt.semilogx(t,B(t,10000),'r') # x축 log scale 로, 온도 10000k 일 때의 그래프\n",
    "plt.xlim(5*10**(-8),10**(-5))"
   ]
  },
  {
   "cell_type": "markdown",
   "metadata": {},
   "source": [
    "두 가지 점을 고려하여 초기 구간을 설정하였다.\n",
    "(1) 파장이 100 nm 이하, 10 $\\mu$m 이상에서는 거의 flux 가 0인 것을 알 수 있다. 따라서 이 구간을 포함하지 않아도 된다.\n",
    "(2) 방정식의 근은 $ \\lambda_{max} $ 를 기점으로 2개가 존재할 것임을 알 수 있다. (a) 에서 구한 상수를 이용하여 $ \\lambda_{max} $ 를 구했고, 이를 사용하였다."
   ]
  },
  {
   "cell_type": "code",
   "execution_count": 7,
   "metadata": {},
   "outputs": [
    {
     "name": "stdout",
     "output_type": "stream",
     "text": [
      "1.0443874757289884e-07\n"
     ]
    }
   ],
   "source": [
    "err=1\n",
    "TOL=10**(-13) # 용인 가능한 오차\n",
    "a=10**(-9) # flux 가 거의 0인 지점, 즉 절대 근이 되지 않는 곳\n",
    "b=2.899*10**(-7) # 빈의 변위 법칙으로 구한 값\n",
    "while (err>TOL):\n",
    "    c=(a+b)*0.5 # 구간의 중앙\n",
    "    err=np.abs(c-b) # 오차\n",
    "    if(err<=TOL): # 오차를 용인할 수 있으면\n",
    "        break # 반복문 종료\n",
    "    else: # 그렇지 않으면 상황별로 구간 재설정\n",
    "        if(((B(b,10000)-10**13)*(B(c,10000)-10**13))>0):\n",
    "            b=c\n",
    "        else:\n",
    "            a=c\n",
    "            \n",
    "print(c)\n",
    "    "
   ]
  },
  {
   "cell_type": "code",
   "execution_count": 8,
   "metadata": {
    "scrolled": true
   },
   "outputs": [
    {
     "name": "stdout",
     "output_type": "stream",
     "text": [
      "1.4889047142575726e-06\n"
     ]
    }
   ],
   "source": [
    "err=1 # 위와 동일하지만, lambda_max 보다 오른쪽 구간에 대해 행했다.\n",
    "TOL=10**(-13)\n",
    "a=2.899*10**(-7)\n",
    "b=100\n",
    "while (err>TOL):\n",
    "    c=(a+b)*0.5\n",
    "    err=np.abs(c-b)\n",
    "    if(err<=TOL):\n",
    "        break\n",
    "    else:\n",
    "        if(((B(b,10000)-10**13)*(B(c,10000)-10**13))>0):\n",
    "            b=c\n",
    "        else:\n",
    "            a=c\n",
    "            \n",
    "print(c)\n",
    "    "
   ]
  },
  {
   "cell_type": "markdown",
   "metadata": {},
   "source": [
    "위의 실행 결과, $ B_{\\lambda}=10^{13} J/s/m^3 $ 에 해당하는 파장은 104.4nm, 1.489 $\\mu$m 이다."
   ]
  },
  {
   "cell_type": "markdown",
   "metadata": {},
   "source": [
    "### (c)"
   ]
  },
  {
   "cell_type": "code",
   "execution_count": 9,
   "metadata": {},
   "outputs": [],
   "source": [
    "h=0\n",
    "def integralB(a,b,n,T): #아래 끝, 위 끝, 구간 수, 온도를 받는다\n",
    "    I=0 # 초기 값\n",
    "    h=(b-a)/n # 구간의 간격 (dx)\n",
    "    while (a<b): \n",
    "        I+=B(a,T)+B(a+h,T) \n",
    "        a+=h\n",
    "    return I*h*0.5 # 직사각형들의 세로를 다 더한 후 밑변을 곱해준다."
   ]
  },
  {
   "cell_type": "code",
   "execution_count": 10,
   "metadata": {},
   "outputs": [
    {
     "name": "stdout",
     "output_type": "stream",
     "text": [
      "180650997.51114586\n",
      "13.023910499294747\n"
     ]
    }
   ],
   "source": [
    "print(integralB(5*10**(-9),10**(-4),10000,10000))\n",
    "print(integralB(5*10**(-9),10**(-4),10000,10000)*8.988*10**16*290.9071*10**(-102)/1.38**4*10**92/(10000**4))\n"
   ]
  },
  {
   "cell_type": "code",
   "execution_count": 11,
   "metadata": {},
   "outputs": [
    {
     "name": "stdout",
     "output_type": "stream",
     "text": [
      "73994637.89671066\n",
      "13.023908618813257\n"
     ]
    }
   ],
   "source": [
    "print(integralB(5*10**(-9),10**(-4),10000,8000))\n",
    "print(integralB(5*10**(-9),10**(-4),10000,8000)*8.988*10**16*290.9071*10**(-102)/1.38**4*10**92/8000**4)"
   ]
  },
  {
   "cell_type": "markdown",
   "metadata": {},
   "source": [
    "10000K 와 8000K 에 대해서 적분 후, 상수 A를 계산한 결과이다.\n",
    "적분을 할 때, 위의 그래프를 참조하여 값이 거의 0이 될 것이라고 판단되는 5nm, 100$\\mu$m 를 적분 구간으로 설정하였다. 적분한 값은 각 cell 의 첫번째 식에 해당하며, 밑의 값은 원래 식에서 상수들을 전부 계산하여 A만을 남긴 것이다.\n",
    "결과적으로 A의 값이 13.02391 정도에 해당한다는 것을 알 수 있다."
   ]
  }
 ],
 "metadata": {
  "kernelspec": {
   "display_name": "Python 3",
   "language": "python",
   "name": "python3"
  },
  "language_info": {
   "codemirror_mode": {
    "name": "ipython",
    "version": 3
   },
   "file_extension": ".py",
   "mimetype": "text/x-python",
   "name": "python",
   "nbconvert_exporter": "python",
   "pygments_lexer": "ipython3",
   "version": "3.7.2"
  }
 },
 "nbformat": 4,
 "nbformat_minor": 2
}
