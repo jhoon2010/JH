{
 "cells": [
  {
   "cell_type": "markdown",
   "metadata": {},
   "source": [
    "# Problem 3"
   ]
  },
  {
   "cell_type": "code",
   "execution_count": 1,
   "metadata": {},
   "outputs": [],
   "source": [
    "import numpy as np\n",
    "import matplotlib.pyplot as plt"
   ]
  },
  {
   "cell_type": "code",
   "execution_count": 2,
   "metadata": {},
   "outputs": [],
   "source": [
    "# (a) interpolating linearly the data\n",
    "x=[-2.1,-1.45,-1.3,-0.2,0.1,0.15,0.8,1.1,1.5,2.8,3.8]\n",
    "y=[0.012155,0.122151,0.184520,0.960789,0.990050,0.977751,0.527292,0.298197,0.105399,3.936690*10**-4,5.355348*10**-7]\n",
    "def lin(a): \n",
    "    i=0\n",
    "    while(a>=x[i]): # a가 x[i]  보다 클 때 까지 index 를 찾음\n",
    "        i+=1\n",
    "    return y[i-1]+(y[i]-y[i-1])/(x[i]-x[i-1])*(a-x[i-1]) # linear interpolate\n",
    "    "
   ]
  },
  {
   "cell_type": "code",
   "execution_count": 3,
   "metadata": {},
   "outputs": [
    {
     "name": "stdout",
     "output_type": "stream",
     "text": [
      "0.00023641561391999987\n",
      "0.8044975384615385\n",
      "0.96781164\n",
      "0.02907746153846155\n"
     ]
    }
   ],
   "source": [
    "print(lin(3.2)) # x=3.2 에서의 예상되는 값\n",
    "print(lin(0.4)) # x=0.4 에서 ~\n",
    "print(lin(-0.128)) # x=-0.128 에서 ~\n",
    "print(lin(-2)) # x=-2 에서"
   ]
  },
  {
   "cell_type": "code",
   "execution_count": 4,
   "metadata": {},
   "outputs": [
    {
     "name": "stdout",
     "output_type": "stream",
     "text": [
      "1.0971847795998644\n",
      "0.8525647942462673\n",
      "0.983892518001133\n",
      "-0.047536863737138946\n"
     ]
    }
   ],
   "source": [
    "# (b) interpolating using 10-th order polynomials\n",
    "p=np.polyfit(x,y,10) # 10차 다항식으로 근사\n",
    "poly=np.poly1d(p)\n",
    "print(poly(3.2)) # x=3.2 에서의 예상 값\n",
    "print(poly(0.4))\n",
    "print(poly(-0.128))\n",
    "print(poly(-2))"
   ]
  },
  {
   "cell_type": "code",
   "execution_count": 5,
   "metadata": {},
   "outputs": [
    {
     "data": {
      "text/plain": [
       "[<matplotlib.lines.Line2D at 0x1ea02901630>]"
      ]
     },
     "execution_count": 5,
     "metadata": {},
     "output_type": "execute_result"
    },
    {
     "data": {
      "image/png": "[encoded data removed]",
      "text/plain": [
       "<Figure size 432x288 with 1 Axes>"
      ]
     },
     "metadata": {
      "needs_background": "light"
     },
     "output_type": "display_data"
    }
   ],
   "source": [
    "# (c) interpolating using cubic splines\n",
    "from scipy import interpolate\n",
    "result=interpolate.CubicSpline(x,y,bc_type='not-a-knot')\n",
    "\n",
    "t=np.arange(-2.5,4.0,0.001)\n",
    "plt.plot(t,result(t),'k') # plot\n",
    "plt.plot(x,y,'ro')"
   ]
  }
 ],
 "metadata": {
  "kernelspec": {
   "display_name": "Python 3",
   "language": "python",
   "name": "python3"
  },
  "language_info": {
   "codemirror_mode": {
    "name": "ipython",
    "version": 3
   },
   "file_extension": ".py",
   "mimetype": "text/x-python",
   "name": "python",
   "nbconvert_exporter": "python",
   "pygments_lexer": "ipython3",
   "version": "3.7.2"
  }
 },
 "nbformat": 4,
 "nbformat_minor": 2
}
