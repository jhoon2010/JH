{
 "cells": [
  {
   "cell_type": "markdown",
   "metadata": {},
   "source": [
    "# 2018-11798 박정훈"
   ]
  },
  {
   "cell_type": "code",
   "execution_count": 1,
   "metadata": {},
   "outputs": [],
   "source": [
    "import numpy as np\n",
    "import matplotlib.pyplot as plt"
   ]
  },
  {
   "cell_type": "markdown",
   "metadata": {},
   "source": [
    "# Problem 1"
   ]
  },
  {
   "cell_type": "code",
   "execution_count": 2,
   "metadata": {},
   "outputs": [
    {
     "name": "stdout",
     "output_type": "stream",
     "text": [
      "2.220446049250313e-16\n"
     ]
    }
   ],
   "source": [
    "e=1 # 처음 더해주는 값\n",
    "while(1): # 답을 찾을 때 까지 반복\n",
    "    if((1+e)==1): # 더해도 변화가 없는 e 값일 때!\n",
    "        e*=2 # 2를 나누기 전 값이 machine epsilon 이므로 다시 2를 곱해 준 후 반복문 종료\n",
    "        break\n",
    "    else: # 1+e 가 1보다 크면 e를 계속 절반으로 만들어 줌.\n",
    "        e*=0.5\n",
    "\n",
    "print(e) # 위에서 계산된 e값을 출력함."
   ]
  },
  {
   "cell_type": "markdown",
   "metadata": {},
   "source": [
    "# Problem 2"
   ]
  },
  {
   "cell_type": "markdown",
   "metadata": {},
   "source": [
    "### (a)"
   ]
  },
  {
   "cell_type": "code",
   "execution_count": 3,
   "metadata": {},
   "outputs": [
    {
     "data": {
      "text/plain": [
       "[<matplotlib.lines.Line2D at 0x29739669198>]"
      ]
     },
     "execution_count": 3,
     "metadata": {},
     "output_type": "execute_result"
    },
    {
     "data": {
      "image/png": "[encoded data removed]",
      "text/plain": [
       "<Figure size 432x288 with 1 Axes>"
      ]
     },
     "metadata": {
      "needs_background": "light"
     },
     "output_type": "display_data"
    }
   ],
   "source": [
    "n=0\n",
    "x=1 # phi^0 = 1 이므로\n",
    "phi=(np.sqrt(5)-1)*0.5\n",
    "a=[] # n 값을 저장할 곳\n",
    "b=[] # phi 의 거듭제곱 값을 저장할 곳\n",
    "while (n<=50):\n",
    "    a.append(n) # n 값을 a에 저장\n",
    "    b.append(x) # x 값을 b에 저장\n",
    "    x=x*phi # successive multiplcations\n",
    "    n+=1\n",
    "    \n",
    "plt.semilogy(a,b,'ro',ms=2) # ordinate in lograithmic scale"
   ]
  },
  {
   "cell_type": "markdown",
   "metadata": {},
   "source": [
    "### (b)"
   ]
  },
  {
   "cell_type": "markdown",
   "metadata": {},
   "source": [
    "$ \\phi^{n+1}=\\phi^{n-1}-\\phi^n=\\phi^{n-1}\\times(1-\\phi) $ $$ $$\n",
    "$ \\phi $는 $ x^2+x-1=0 $ 의 해이다.$$ $$\n",
    "$ \\therefore \\phi^2+\\phi-1=0, \\, \\phi^2=1-\\phi $ $$ $$\n",
    "$ \\phi^{n+1}=\\phi^{n-1}\\times\\phi^2=\\phi\\times\\phi^n $ $$ $$\n",
    "즉, Equation (1) 과 Equation (2) 는 동치이다."
   ]
  },
  {
   "cell_type": "code",
   "execution_count": 4,
   "metadata": {},
   "outputs": [
    {
     "data": {
      "text/plain": [
       "[<matplotlib.lines.Line2D at 0x2973b78e048>]"
      ]
     },
     "execution_count": 4,
     "metadata": {},
     "output_type": "execute_result"
    },
    {
     "data": {
      "image/png": "[encoded data removed]",
      "text/plain": [
       "<Figure size 432x288 with 1 Axes>"
      ]
     },
     "metadata": {
      "needs_background": "light"
     },
     "output_type": "display_data"
    }
   ],
   "source": [
    "n=0\n",
    "phi=(np.sqrt(5)-1)*0.5\n",
    "p=1/phi # n=0 일 때 초기값\n",
    "q=1 # n=0 일 때 초기값\n",
    "x=1\n",
    "c=[] # n 값을 저장할 곳\n",
    "d=[] # phi 의 거듭제곱 값을 저장할 곳\n",
    "while (n<=50):\n",
    "    c.append(n) # n 값을 c에 저장\n",
    "    d.append(x) # x 값을 d에 저장\n",
    "    x=p-q # recursion relation\n",
    "    p=q # 다음 step 으로\n",
    "    q=x # 다음 step 으로\n",
    "    n+=1\n",
    "\n",
    "plt.semilogy(c,d,'bo',ms=2)"
   ]
  },
  {
   "cell_type": "code",
   "execution_count": 6,
   "metadata": {},
   "outputs": [
    {
     "data": {
      "text/plain": [
       "[<matplotlib.lines.Line2D at 0x2973ba80828>]"
      ]
     },
     "execution_count": 6,
     "metadata": {},
     "output_type": "execute_result"
    },
    {
     "data": {
      "image/png": "[encoded data removed]",
      "text/plain": [
       "<Figure size 432x288 with 1 Axes>"
      ]
     },
     "metadata": {
      "needs_background": "light"
     },
     "output_type": "display_data"
    }
   ],
   "source": [
    "plt.semilogy(a,b,'ro',ms=2) # red = successive multiplications\n",
    "plt.semilogy(c,d,'bo',ms=2) # blue = recursion relation"
   ]
  },
  {
   "cell_type": "markdown",
   "metadata": {},
   "source": [
    "### (c)"
   ]
  },
  {
   "cell_type": "code",
   "execution_count": 7,
   "metadata": {},
   "outputs": [
    {
     "data": {
      "image/png": "[encoded data removed]",
      "text/plain": [
       "<Figure size 432x288 with 1 Axes>"
      ]
     },
     "metadata": {
      "needs_background": "light"
     },
     "output_type": "display_data"
    }
   ],
   "source": [
    "i=0\n",
    "e=[] # 두 값의 차이를 저장할 곳\n",
    "cha=0\n",
    "while (i<=50):\n",
    "    cha=b[i]-d[i] # (a) 에서의 값과 (b) 에서의 값의 차이\n",
    "    e.append(cha) # 저장\n",
    "    i+=1\n",
    "\n",
    "for j in range(2,50):\n",
    "    plt.semilogy(j,e[j-1],'ro') # 두 phi^n 의 차이 vs. n (log scale)"
   ]
  },
  {
   "cell_type": "markdown",
   "metadata": {},
   "source": [
    "방정식 $ \\phi^2+\\phi-1=0 \\ $ 은 두 개의 해를 가진다. $$ $$\n",
    "$ \\phi= \\cfrac{-1\\pm\\sqrt{5}}{2} $ $$ $$\n",
    "이 중 $ \\phi=\\cfrac{-1-\\sqrt{5}}{2} $ 는 그 절댓값이 1보다 크다.\n",
    "계속해서 양수를 곱하는 방식 보다, 무언가를 빼는 방식은 컴퓨터 계산에서 그 오차를 점점 누적시킨다. 그러다가 중간에 음수가 나오면, 두 근 중 음수인 근에 대한 recursion relation 으로 작용하여, 값이 진동하게 되고 큰 n에 대해서 다른 결과를 내게 된다."
   ]
  },
  {
   "cell_type": "markdown",
   "metadata": {},
   "source": [
    "# Problem 3"
   ]
  },
  {
   "cell_type": "markdown",
   "metadata": {},
   "source": [
    "### (a)"
   ]
  },
  {
   "cell_type": "markdown",
   "metadata": {},
   "source": [
    "$ \\cfrac{dB_\\lambda}{d\\lambda} $ 가 0이 되는 $ \\lambda\\ $를 찾아야 한다.\n",
    "$ \\cfrac{dB_\\lambda}{d\\lambda} $ 를 정리하자.\n",
    "$ \\cfrac{hc}{\\lambda kT}\\equiv x $ 로 두면, $$ $$\n",
    "$ \\cfrac{xe^x}{e^x-1}=5 $ 라는 방정식을 얻게 된다."
   ]
  },
  {
   "cell_type": "code",
   "execution_count": 8,
   "metadata": {},
   "outputs": [],
   "source": [
    "def Wien(x): # 위에서 얻은 식을 표현하는 함수\n",
    "    return x*np.exp(x)/(np.exp(x)-1)"
   ]
  },
  {
   "cell_type": "code",
   "execution_count": 9,
   "metadata": {},
   "outputs": [],
   "source": [
    "def find_root():\n",
    "    loop=0\n",
    "    err=1\n",
    "    TOL=10**(-20) # 용인 가능한 오차\n",
    "    a=0.1 # 처음 구간의 왼쪽 값\n",
    "    b=1000 # 처음 구간의 오른쪽 값\n",
    "    while(err>TOL):\n",
    "        if(loop>1000): # 무한루프 방지\n",
    "            break\n",
    "        c=(a+b)*0.5 # 구간의 중앙값\n",
    "        err=np.abs(b-c) # 오차\n",
    "        if(err<TOL): # 오차가 더 작아지면\n",
    "            break # 반복문 종료\n",
    "        else: # 오차가 용인할 수 없으면\n",
    "            if(((Wien(a)-5)*(Wien(c)-5))>0): # 상황에 따라\n",
    "                a=c # 구간의 끝 값을\n",
    "            else:\n",
    "                b=c # 바꿔줌\n",
    "        loop+=1\n",
    "    print(b) # 이렇게 구한 x의 값\n",
    "    print(6.626*10**(-34)*2.998*10**8/1.38*10**23/c) #lambda_max*T의 값"
   ]
  },
  {
   "cell_type": "markdown",
   "metadata": {},
   "source": [
    "$ \\cfrac{hc}{\\lambda kT}= x $ 이기 때문에,\n",
    "$ \\lambda_{max} T=\\cfrac{hc}{kx_{root}} $ 이고 코드의 마지막 줄에 이 계산을 수행하였다."
   ]
  },
  {
   "cell_type": "code",
   "execution_count": 10,
   "metadata": {},
   "outputs": [
    {
     "name": "stdout",
     "output_type": "stream",
     "text": [
      "4.965114231744277\n",
      "0.0028991769888201072\n"
     ]
    }
   ],
   "source": [
    "find_root()"
   ]
  },
  {
   "cell_type": "markdown",
   "metadata": {},
   "source": [
    "따라서 빈의 변위 법칙 : $ \\lambda_{max} T=2.899\\times 10^3 \\mu mK $ 를 얻게 된다."
   ]
  },
  {
   "cell_type": "markdown",
   "metadata": {},
   "source": [
    "### (b)"
   ]
  },
  {
   "cell_type": "code",
   "execution_count": 11,
   "metadata": {},
   "outputs": [],
   "source": [
    "def B(x,T): # 파장, 온도를 받음\n",
    "    return (1.191*10**(-16)/x**5/(np.exp(1.9865*10**(-25)/x/(1.381*10**(-23))/T)-1))\n",
    "\n",
    "# 상수는 계산해서 대입함"
   ]
  },
  {
   "cell_type": "code",
   "execution_count": 12,
   "metadata": {},
   "outputs": [
    {
     "data": {
      "text/plain": [
       "(5e-08, 1e-05)"
      ]
     },
     "execution_count": 12,
     "metadata": {},
     "output_type": "execute_result"
    },
    {
     "data": {
      "image/png": "[encoded data removed]",
      "text/plain": [
       "<Figure size 432x288 with 1 Axes>"
      ]
     },
     "metadata": {
      "needs_background": "light"
     },
     "output_type": "display_data"
    }
   ],
   "source": [
    "t=np.arange(10**(-8),10**(-3),10**(-8))\n",
    "plt.semilogx(t,B(t,10000),'r') # x축 log scale 로, 온도 10000k 일 때의 그래프\n",
    "plt.xlim(5*10**(-8),10**(-5))"
   ]
  },
  {
   "cell_type": "markdown",
   "metadata": {},
   "source": [
    "두 가지 점을 고려하여 초기 구간을 설정하였다.\n",
    "(1) 파장이 100 nm 이하, 10 $\\mu$m 이상에서는 거의 flux 가 0인 것을 알 수 있다. 따라서 이 구간을 포함하지 않아도 된다.\n",
    "(2) 방정식의 근은 $ \\lambda_{max} $ 를 기점으로 2개가 존재할 것임을 알 수 있다. (a) 에서 구한 상수를 이용하여 $ \\lambda_{max} $ 를 구했고, 이를 사용하였다."
   ]
  },
  {
   "cell_type": "code",
   "execution_count": 13,
   "metadata": {},
   "outputs": [
    {
     "name": "stdout",
     "output_type": "stream",
     "text": [
      "1.0443874757289884e-07\n"
     ]
    }
   ],
   "source": [
    "err=1\n",
    "TOL=10**(-13) # 용인 가능한 오차\n",
    "a=10**(-9) # flux 가 거의 0인 지점, 즉 절대 근이 되지 않는 곳\n",
    "b=2.899*10**(-7) # 빈의 변위 법칙으로 구한 값\n",
    "while (err>TOL):\n",
    "    c=(a+b)*0.5 # 구간의 중앙\n",
    "    err=np.abs(c-b) # 오차\n",
    "    if(err<=TOL): # 오차를 용인할 수 있으면\n",
    "        break # 반복문 종료\n",
    "    else: # 그렇지 않으면 상황별로 구간 재설정\n",
    "        if(((B(b,10000)-10**13)*(B(c,10000)-10**13))>0):\n",
    "            b=c\n",
    "        else:\n",
    "            a=c\n",
    "            \n",
    "print(c)\n",
    "    "
   ]
  },
  {
   "cell_type": "code",
   "execution_count": 14,
   "metadata": {},
   "outputs": [
    {
     "name": "stdout",
     "output_type": "stream",
     "text": [
      "1.4889047142575726e-06\n"
     ]
    }
   ],
   "source": [
    "err=1 # 위와 동일하지만, lambda_max 보다 오른쪽 구간에 대해 행했다.\n",
    "TOL=10**(-13)\n",
    "a=2.899*10**(-7)\n",
    "b=100\n",
    "while (err>TOL):\n",
    "    c=(a+b)*0.5\n",
    "    err=np.abs(c-b)\n",
    "    if(err<=TOL):\n",
    "        break\n",
    "    else:\n",
    "        if(((B(b,10000)-10**13)*(B(c,10000)-10**13))>0):\n",
    "            b=c\n",
    "        else:\n",
    "            a=c\n",
    "            \n",
    "print(c)\n",
    "    "
   ]
  },
  {
   "cell_type": "markdown",
   "metadata": {},
   "source": [
    "위의 실행 결과, $ B_{\\lambda}=10^{13} J/s/m^3 $ 에 해당하는 파장은 104.4nm, 1.489 $\\mu$m 이다."
   ]
  },
  {
   "cell_type": "markdown",
   "metadata": {},
   "source": [
    "### (c)"
   ]
  },
  {
   "cell_type": "code",
   "execution_count": 15,
   "metadata": {},
   "outputs": [],
   "source": [
    "h=0\n",
    "def integralB(a,b,n,T): #아래 끝, 위 끝, 구간 수, 온도를 받는다\n",
    "    I=0 # 초기 값\n",
    "    h=(b-a)/n # 구간의 간격 (dx)\n",
    "    while (a<b): \n",
    "        I+=B(a,T)+B(a+h,T) \n",
    "        a+=h\n",
    "    return I*h*0.5 # 직사각형들의 세로를 다 더한 후 밑변을 곱해준다."
   ]
  },
  {
   "cell_type": "code",
   "execution_count": 16,
   "metadata": {},
   "outputs": [
    {
     "name": "stdout",
     "output_type": "stream",
     "text": [
      "180650997.51114586\n",
      "13.023910499294747\n"
     ]
    }
   ],
   "source": [
    "print(integralB(5*10**(-9),10**(-4),10000,10000))\n",
    "print(integralB(5*10**(-9),10**(-4),10000,10000)*8.988*10**16*290.9071*10**(-102)/1.38**4*10**92/(10000**4))\n"
   ]
  },
  {
   "cell_type": "code",
   "execution_count": 17,
   "metadata": {},
   "outputs": [
    {
     "name": "stdout",
     "output_type": "stream",
     "text": [
      "73994637.89671066\n",
      "13.023908618813257\n"
     ]
    }
   ],
   "source": [
    "print(integralB(5*10**(-9),10**(-4),10000,8000))\n",
    "print(integralB(5*10**(-9),10**(-4),10000,8000)*8.988*10**16*290.9071*10**(-102)/1.38**4*10**92/8000**4)"
   ]
  },
  {
   "cell_type": "markdown",
   "metadata": {},
   "source": [
    "10000K 와 8000K 에 대해서 적분 후, 상수 A를 계산한 결과이다.\n",
    "적분을 할 때, 위의 그래프를 참조하여 값이 거의 0이 될 것이라고 판단되는 5nm, 100$\\mu$m 를 적분 구간으로 설정하였다. 적분한 값은 각 cell 의 첫번째 식에 해당하며, 밑의 값은 원래 식에서 상수들을 전부 계산하여 A만을 남긴 것이다.\n",
    "결과적으로 A의 값이 13.02391 정도에 해당한다는 것을 알 수 있다."
   ]
  },
  {
   "cell_type": "markdown",
   "metadata": {},
   "source": [
    "# Problem 4 (a)&(b)"
   ]
  },
  {
   "cell_type": "markdown",
   "metadata": {},
   "source": [
    "## bisection method"
   ]
  },
  {
   "cell_type": "code",
   "execution_count": 18,
   "metadata": {},
   "outputs": [],
   "source": [
    "def ea(x,t,e): # eccentric anomaly function, E, t, 이심률을 받음\n",
    "    return x-2*np.pi*t/365.25635-e*np.sin(x)\n",
    "\n",
    "def dea(x,e): # ea 를 미분한 함수\n",
    "    return 1-e*np.cos(x)"
   ]
  },
  {
   "cell_type": "code",
   "execution_count": 19,
   "metadata": {},
   "outputs": [],
   "source": [
    "def find_bisec(t,e): # bisection method, t와 이심률을 받음.\n",
    "    err=1\n",
    "    TOL=10**(-10) # 용인가능한 오차\n",
    "    a=0 # 이분법의 첫 구간\n",
    "    b=2*np.pi # 이분법읯 ㅓㅅ 구간\n",
    "    loop=0 # 반복 횟수\n",
    "    while(err>TOL):\n",
    "        c=(a+b)*0.5 # 구간 중앙\n",
    "        err=np.abs(b-c) # 오차\n",
    "        if(ea(a,t,e)*ea(c,t,e)>0): # 상황별로\n",
    "            a=c\n",
    "        else:\n",
    "            b=c\n",
    "        if(err<TOL):\n",
    "            print('E = {}'.format(c)) # 오차가 용인 가능하면 c 값 print\n",
    "        \n",
    "        loop+=1\n",
    "    print('x = {},y = {},{}'.format(1.496*10**8*np.cos(c),1.496*10**8*np.sqrt(1-e**2)*np.sin(c),loop))"
   ]
  },
  {
   "cell_type": "markdown",
   "metadata": {},
   "source": [
    "장반경과 단반경을 이심률 정의에 따라 계산하여 마지막 줄에 출력하도록 하였다."
   ]
  },
  {
   "cell_type": "code",
   "execution_count": 22,
   "metadata": {
    "scrolled": true
   },
   "outputs": [
    {
     "name": "stdout",
     "output_type": "stream",
     "text": [
      "E = 3.130964200723498\n",
      "x = -149591550.3715697,y = 1589764.8820485529,36\n"
     ]
    }
   ],
   "source": [
    "find_bisec(182,0.0167) # t=182days, e=0.0167 일 때"
   ]
  },
  {
   "cell_type": "code",
   "execution_count": 23,
   "metadata": {},
   "outputs": [
    {
     "name": "stdout",
     "output_type": "stream",
     "text": [
      "E = 4.6794891005326384\n",
      "x = -4920934.175507396,y = -149498192.48908895,36\n"
     ]
    }
   ],
   "source": [
    "find_bisec(273,0.0167) # t=273days, e=0.0167 일 때"
   ]
  },
  {
   "cell_type": "code",
   "execution_count": 24,
   "metadata": {},
   "outputs": [
    {
     "name": "stdout",
     "output_type": "stream",
     "text": [
      "E = 3.1361896411497807\n",
      "x = -149597816.40306374,y = 3614.759102884351,36\n"
     ]
    }
   ],
   "source": [
    "find_bisec(182,0.99999) # t=182days, e=0.99999 일 때"
   ]
  },
  {
   "cell_type": "code",
   "execution_count": 25,
   "metadata": {
    "scrolled": true
   },
   "outputs": [
    {
     "name": "stdout",
     "output_type": "stream",
     "text": [
      "E = 3.963643777695891\n",
      "x = -101835727.32104047,y = -490093.5541855629,36\n"
     ]
    }
   ],
   "source": [
    "find_bisec(273,0.99999) # t=273days, e=0.99999 일 때"
   ]
  },
  {
   "cell_type": "markdown",
   "metadata": {},
   "source": [
    "bisection method 는 e값에 관계없이 비슷한 속도로 수렴하였다."
   ]
  },
  {
   "cell_type": "markdown",
   "metadata": {},
   "source": [
    "## Newton's method"
   ]
  },
  {
   "cell_type": "code",
   "execution_count": 26,
   "metadata": {},
   "outputs": [],
   "source": [
    "def find_newton(t,e,y): # t와 이심률, 초기 값 받음\n",
    "    err=1\n",
    "    TOL=10**(-13) # 용인 가능 오차\n",
    "    loop=0\n",
    "    while(err>TOL):\n",
    "        x=y\n",
    "        y=x-ea(x,t,e)/dea(x,e) # newton's method\n",
    "        err=np.abs(x-y) # 오차\n",
    "        if(err<TOL): # 오차가 용인 가능하다면\n",
    "            print('E = {}'.format(x))\n",
    "            break\n",
    "        loop+=1 # 그렇지 않으면 loop + 1 하고 계속 진행\n",
    "    print('x = {},y = {},{}'.format(1.496*10**8*np.cos(x),1.496*10**8*np.sqrt(1-e**2)*np.sin(x),loop))"
   ]
  },
  {
   "cell_type": "code",
   "execution_count": 27,
   "metadata": {},
   "outputs": [
    {
     "name": "stdout",
     "output_type": "stream",
     "text": [
      "E = 3.130964200681736\n",
      "x = -149591550.37150326,y = 1589764.8882948798,3\n"
     ]
    }
   ],
   "source": [
    "find_newton(182,0.0167,0) # t=182days, e=0.0167 일 때"
   ]
  },
  {
   "cell_type": "code",
   "execution_count": 28,
   "metadata": {},
   "outputs": [
    {
     "name": "stdout",
     "output_type": "stream",
     "text": [
      "E = 4.679489100532153\n",
      "x = -4920934.175580038,y = -149498192.48908657,4\n"
     ]
    }
   ],
   "source": [
    "find_newton(273,0.0167,0) # t=273days, e=0.0167 일 때"
   ]
  },
  {
   "cell_type": "code",
   "execution_count": 29,
   "metadata": {
    "scrolled": true
   },
   "outputs": [
    {
     "name": "stdout",
     "output_type": "stream",
     "text": [
      "E = 3.1361896410659678\n",
      "x = -149597816.402996,y = 3614.759158956904,6\n"
     ]
    }
   ],
   "source": [
    "find_newton(182,0.99999,1) # t=182days, e=0.99999 일 때"
   ]
  },
  {
   "cell_type": "code",
   "execution_count": 30,
   "metadata": {
    "scrolled": false
   },
   "outputs": [
    {
     "name": "stdout",
     "output_type": "stream",
     "text": [
      "E = 3.9636437776514937\n",
      "x = -101835727.3259059,y = -490093.55416534335,7\n"
     ]
    }
   ],
   "source": [
    "find_newton(273,0.99999,1) # t=273days, e=0.99999 일 때"
   ]
  },
  {
   "cell_type": "markdown",
   "metadata": {},
   "source": [
    "newton's method 는 e값에 관계없이 bisection method 보다 훨씬 빠르게 수렴하였다. 그리고 e=0.99999 일 때보다 e=0.0167 일 때 조금 더 빨리 수렴하는 경향을 보였다."
   ]
  },
  {
   "cell_type": "markdown",
   "metadata": {},
   "source": [
    "## fixed-iteration method"
   ]
  },
  {
   "cell_type": "code",
   "execution_count": 31,
   "metadata": {},
   "outputs": [],
   "source": [
    "def find_fixed(t,y,e): # t, 초기값, 이심률 받음\n",
    "    err=1\n",
    "    TOL=10**(-11) # 용인 가능 오차\n",
    "    loop=0\n",
    "    while(err>TOL):\n",
    "        loop+=1\n",
    "        if(loop>100000): break\n",
    "        x=y\n",
    "        y=2*np.pi*t/365.25635-e*np.sin(x) # fixed-iteration\n",
    "        err=np.abs(x-y)\n",
    "    if(err<TOL):\n",
    "        print('E = {}'. format(x))\n",
    "    print('x = {},y = {}, {}'.format(1.496*10**8*np.cos(x),1.496*10**8*np.sqrt(1-e**2)*np.sin(x),loop))"
   ]
  },
  {
   "cell_type": "code",
   "execution_count": 32,
   "metadata": {
    "scrolled": true
   },
   "outputs": [
    {
     "name": "stdout",
     "output_type": "stream",
     "text": [
      "E = 3.130603188486356\n",
      "x = -149590966.61883694,y = 1643761.6263699736, 8\n"
     ]
    }
   ],
   "source": [
    "find_fixed(182,1000,0.0167) # t=182days, e=0.0167 일 때"
   ]
  },
  {
   "cell_type": "code",
   "execution_count": 33,
   "metadata": {},
   "outputs": [
    {
     "name": "stdout",
     "output_type": "stream",
     "text": [
      "E = 4.712880061276558\n",
      "x = 73465.6984706717,y = -149579119.53703287, 4\n"
     ]
    }
   ],
   "source": [
    "find_fixed(273,-1000,0.0167) # t=273days, e=0.0167 일 때"
   ]
  },
  {
   "cell_type": "code",
   "execution_count": 34,
   "metadata": {
    "scrolled": false
   },
   "outputs": [
    {
     "name": "stdout",
     "output_type": "stream",
     "text": [
      "E = 2.7388200414110484\n",
      "x = -137628671.26204577,y = 262240.0295180898, 283\n"
     ]
    }
   ],
   "source": [
    "find_fixed(182,0,0.99999) # t=182days, e=0.99999 일 때"
   ]
  },
  {
   "cell_type": "code",
   "execution_count": 35,
   "metadata": {
    "scrolled": false
   },
   "outputs": [
    {
     "name": "stdout",
     "output_type": "stream",
     "text": [
      "E = 5.441763786724584\n",
      "x = 99693982.50844188,y = -498822.7670264352, 64\n"
     ]
    }
   ],
   "source": [
    "find_fixed(273,0.2,0.99999) # t=273days, e=0.99999 일 때"
   ]
  },
  {
   "cell_type": "code",
   "execution_count": 36,
   "metadata": {
    "scrolled": true
   },
   "outputs": [
    {
     "name": "stdout",
     "output_type": "stream",
     "text": [
      "E = 5.441763786724157\n",
      "x = 99693982.50839423,y = -498822.76702662563, 61\n"
     ]
    }
   ],
   "source": [
    "find_fixed(273,1000,0.99999) # t=273days, e=0.99999 일 때"
   ]
  },
  {
   "cell_type": "markdown",
   "metadata": {},
   "source": [
    "newton's method 에 fixed-iteration method 를 적용하였다. e=0.0167 일 때에는 초기값에 관계 없이 빠르게 수렴하는 모습을 볼 수 있었다. 하지만 e=0.99999 일 때에는 초기값에 상당히 민감하게 반응하는 것을 확인할 수 있었다. 이것은 fixed-iteration 을 적용한 함수의 도함수에 따라서 결정된다."
   ]
  }
 ],
 "metadata": {
  "kernelspec": {
   "display_name": "Python 3",
   "language": "python",
   "name": "python3"
  },
  "language_info": {
   "codemirror_mode": {
    "name": "ipython",
    "version": 3
   },
   "file_extension": ".py",
   "mimetype": "text/x-python",
   "name": "python",
   "nbconvert_exporter": "python",
   "pygments_lexer": "ipython3",
   "version": "3.7.2"
  }
 },
 "nbformat": 4,
 "nbformat_minor": 2
}
