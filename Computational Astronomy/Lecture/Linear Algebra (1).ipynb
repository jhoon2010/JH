{
 "cells": [
  {
   "cell_type": "markdown",
   "metadata": {},
   "source": [
    "# Linear Algebra 1"
   ]
  },
  {
   "cell_type": "code",
   "execution_count": 1,
   "metadata": {},
   "outputs": [],
   "source": [
    "import numpy as np\n",
    "import matplotlib.pyplot as plt"
   ]
  },
  {
   "cell_type": "code",
   "execution_count": 4,
   "metadata": {},
   "outputs": [
    {
     "name": "stdout",
     "output_type": "stream",
     "text": [
      "[[ 3 -2 -1]\n",
      " [ 0  2  4]\n",
      " [ 0  0 -4]]\n",
      "[1. 1. 1.]\n"
     ]
    }
   ],
   "source": [
    "A = np.array([[3,-2,-1],[6,-2,2],[-9,7,1]])\n",
    "B = np.array([0,6,-1])\n",
    "\n",
    "N = len(A)\n",
    "x = np.zeros(N)\n",
    "\n",
    "for j in range(N):\n",
    "    for i in range(j+1, N):\n",
    "        coef = A[i][j]/A[j][j]\n",
    "        for k in range(N):\n",
    "            A[i][k] -= coef * A[j][k]\n",
    "        B[i] -= coef * B[j]\n",
    "\n",
    "x[N-1] = B[N-1]/A[N-1][N-1]\n",
    "for k in range(N-1, -1, -1):\n",
    "    sum = np.dot(A[k][k+1:],x[k+1:])\n",
    "    x[k] = (B[k] - sum)/A[k][k]\n",
    "\n",
    "print(A)\n",
    "print(x)"
   ]
  },
  {
   "cell_type": "code",
   "execution_count": 6,
   "metadata": {
    "scrolled": true
   },
   "outputs": [
    {
     "name": "stdout",
     "output_type": "stream",
     "text": [
      "[[ 2  1 -1  2]\n",
      " [ 0  3 -1  2]\n",
      " [ 0  0 -1  4]\n",
      " [ 0  0  0  2]]\n",
      "[ 1. -2.  1.  3.]\n"
     ]
    }
   ],
   "source": [
    "A = np.array([[2,1,-1,2],[4,5,-3,6],[-2,5,-2,6],[4,11,-4,8]])\n",
    "B = np.array([5,9,4,2])\n",
    "\n",
    "N = len(A)\n",
    "x = np.zeros(N)\n",
    "\n",
    "for j in range(N):\n",
    "    for i in range(j+1, N):\n",
    "        coef = A[i][j]/A[j][j]\n",
    "        for k in range(N):\n",
    "            A[i][k] -= coef * A[j][k]\n",
    "        B[i] -= coef * B[j]\n",
    "\n",
    "x[N-1] = B[N-1]/A[N-1][N-1]\n",
    "for k in range(N-1, -1, -1):\n",
    "    sum = np.dot(A[k][k+1:],x[k+1:])\n",
    "    x[k] = (B[k] - sum)/A[k][k]\n",
    "\n",
    "print(A)\n",
    "print(x)"
   ]
  },
  {
   "cell_type": "code",
   "execution_count": 7,
   "metadata": {},
   "outputs": [
    {
     "name": "stdout",
     "output_type": "stream",
     "text": [
      "[-3.82445836+0.j  1.42707587+0.j  4.39738249+0.j]\n",
      "[ 0.06919005  0.62490619 -0.7776278 ] [ 0.54978724  0.67701889 -0.48926416] [-0.44061233 -0.135829    0.88736196]\n"
     ]
    },
    {
     "data": {
      "text/plain": [
       "array([ 6.66133815e-16,  1.77635684e-15, -2.22044605e-16])"
      ]
     },
     "execution_count": 7,
     "metadata": {},
     "output_type": "execute_result"
    }
   ],
   "source": [
    "from scipy import linalg\n",
    "\n",
    "A = np.array([[3,-2,-1],[6,-2,2],[-9,7,1]])\n",
    "\n",
    "A.T\n",
    "D = linalg.inv(A)\n",
    "A.dot(D)\n",
    "linalg.det(A)\n",
    "la,v = linalg.eig(A)\n",
    "print (la)\n",
    "print (v[:,0], v[:,1], v[:,2])\n",
    "\n",
    "B = np.array([0,6,-1])\n",
    "np.linalg.solve(A,B)\n",
    "A.dot(np.linalg.solve(A,B)) - B"
   ]
  },
  {
   "cell_type": "code",
   "execution_count": 25,
   "metadata": {},
   "outputs": [
    {
     "data": {
      "text/plain": [
       "(array([ 1., -2.,  1.,  3.]),\n",
       " array([[ 2.16666667e+00, -1.16666667e+00, -8.32667268e-17,\n",
       "          3.33333333e-01],\n",
       "        [ 6.66666667e-01, -6.66666667e-01, -2.22044605e-16,\n",
       "          3.33333333e-01],\n",
       "        [ 1.30000000e+01, -8.00000000e+00,  1.00000000e+00,\n",
       "          2.00000000e+00],\n",
       "        [ 4.50000000e+00, -2.50000000e+00,  5.00000000e-01,\n",
       "          5.00000000e-01]]))"
      ]
     },
     "execution_count": 25,
     "metadata": {},
     "output_type": "execute_result"
    }
   ],
   "source": [
    "A = np.array([[2,1,-1,2],[4,5,-3,6],[-2,5,-2,6],[4,11,-4,8]])\n",
    "B = np.array([5,9,4,2])\n",
    "\n",
    "C = np.linalg.solve(A,B)\n",
    "D = linalg.inv(A)\n",
    "C, D"
   ]
  },
  {
   "cell_type": "code",
   "execution_count": 27,
   "metadata": {},
   "outputs": [
    {
     "data": {
      "text/plain": [
       "array([[ 1.00000000e+00, -1.77635684e-15,  1.11022302e-16,\n",
       "         5.55111512e-16],\n",
       "       [ 3.55271368e-15,  1.00000000e+00,  3.33066907e-16,\n",
       "         1.33226763e-15],\n",
       "       [ 0.00000000e+00, -1.77635684e-15,  1.00000000e+00,\n",
       "         4.44089210e-16],\n",
       "       [ 0.00000000e+00,  0.00000000e+00, -4.44089210e-16,\n",
       "         1.00000000e+00]])"
      ]
     },
     "execution_count": 27,
     "metadata": {},
     "output_type": "execute_result"
    }
   ],
   "source": [
    "A.dot(D)"
   ]
  },
  {
   "cell_type": "code",
   "execution_count": 30,
   "metadata": {},
   "outputs": [
    {
     "data": {
      "text/plain": [
       "array([ 1., -2.,  1.,  3.])"
      ]
     },
     "execution_count": 30,
     "metadata": {},
     "output_type": "execute_result"
    }
   ],
   "source": [
    "A = np.array([[2,1,-1,2],[4,5,-3,6],[-2,5,-2,6],[4,11,-4,8]])\n",
    "B = np.array([5,9,4,2])\n",
    "\n",
    "P, L, U = linalg.lu(A)\n",
    "P, L, U\n",
    "\n",
    "LU = linalg.lu_factor(A)\n",
    "x = linalg.lu_solve(LU, B)\n",
    "x"
   ]
  }
 ],
 "metadata": {
  "kernelspec": {
   "display_name": "Python 3",
   "language": "python",
   "name": "python3"
  },
  "language_info": {
   "codemirror_mode": {
    "name": "ipython",
    "version": 3
   },
   "file_extension": ".py",
   "mimetype": "text/x-python",
   "name": "python",
   "nbconvert_exporter": "python",
   "pygments_lexer": "ipython3",
   "version": "3.7.2"
  }
 },
 "nbformat": 4,
 "nbformat_minor": 2
}
