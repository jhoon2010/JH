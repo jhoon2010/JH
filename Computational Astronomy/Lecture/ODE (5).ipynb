{
 "cells": [
  {
   "cell_type": "code",
   "execution_count": 2,
   "metadata": {},
   "outputs": [],
   "source": [
    "import numpy as np\n",
    "import matplotlib.pyplot as plt\n",
    "from scipy.integrate import odeint"
   ]
  },
  {
   "cell_type": "code",
   "execution_count": 10,
   "metadata": {},
   "outputs": [
    {
     "name": "stdout",
     "output_type": "stream",
     "text": [
      "1.5709999999999378\n",
      "-0.33333364574924834\n",
      "-0.2743708619461259\n",
      "1.5703648352230621\n",
      "-0.08269110292343634\n",
      "-0.005992740940288659\n",
      "0.00037126134933484264\n",
      "-1.4297621650624561e-06\n",
      "-3.3767163739630013e-10\n",
      "1.9997403756376826\n"
     ]
    }
   ],
   "source": [
    "tol    = 10**(-10)\n",
    "A1, A2 = 0, 3\n",
    "Bsol   = 0\n",
    "err    = 100\n",
    "\n",
    "def int(A):\n",
    "    x    = 0\n",
    "    xmax = 0.5 * np.pi\n",
    "    y    = 0\n",
    "    vy   = 1\n",
    "    dx   = 0.001\n",
    "    vy   = vy + 0.5 * (-1) * A * A * y * dx\n",
    "    while(x <= xmax):\n",
    "        y  = y + vy * dx\n",
    "        vy = vy + (-1) * A * A * y * dx\n",
    "        x = x + dx\n",
    "    return y\n",
    "\n",
    "def intplot(A):\n",
    "    x    = 0\n",
    "    xmax = 0.5 * np.pi\n",
    "    y    = 0\n",
    "    vy   = 1\n",
    "    dx   = 0.001\n",
    "    vy   = vy + 0.5 * (-1) * A * A * y * dx\n",
    "    xlist, ylist = [], []\n",
    "    while(x <= xmax):\n",
    "        xlist.append(x)\n",
    "        ylist.append(y)\n",
    "        y  = y + vy * dx\n",
    "        vy = vy + (-1) * A * A * y * dx\n",
    "        x = x + dx\n",
    "    return xlist, ylist\n",
    "\n",
    "\n",
    "while(np.abs(err) > tol):\n",
    "    B1  = int(A1)\n",
    "    print(B1)\n",
    "    B2  = int(A2)\n",
    "    err = Bsol - B2\n",
    "    if(np.abs(err) > tol):\n",
    "        yp = A2 + (A2 - A1)/(B2 - B1) * err\n",
    "        A1 = A2\n",
    "        A2 = yp\n",
    "    else:\n",
    "        print(yp)\n",
    "        \n",
    "xlist, ylist = intplot(yp)"
   ]
  },
  {
   "cell_type": "code",
   "execution_count": 11,
   "metadata": {},
   "outputs": [
    {
     "data": {
      "text/plain": [
       "[<matplotlib.lines.Line2D at 0x1bedf643ba8>]"
      ]
     },
     "execution_count": 11,
     "metadata": {},
     "output_type": "execute_result"
    },
    {
     "data": {
      "image/png": "[encoded data removed]",
      "text/plain": [
       "<Figure size 432x288 with 1 Axes>"
      ]
     },
     "metadata": {
      "needs_background": "light"
     },
     "output_type": "display_data"
    }
   ],
   "source": [
    "plt.plot(xlist, ylist)"
   ]
  },
  {
   "cell_type": "code",
   "execution_count": null,
   "metadata": {},
   "outputs": [],
   "source": []
  }
 ],
 "metadata": {
  "kernelspec": {
   "display_name": "Python 3",
   "language": "python",
   "name": "python3"
  },
  "language_info": {
   "codemirror_mode": {
    "name": "ipython",
    "version": 3
   },
   "file_extension": ".py",
   "mimetype": "text/x-python",
   "name": "python",
   "nbconvert_exporter": "python",
   "pygments_lexer": "ipython3",
   "version": "3.7.2"
  }
 },
 "nbformat": 4,
 "nbformat_minor": 2
}
