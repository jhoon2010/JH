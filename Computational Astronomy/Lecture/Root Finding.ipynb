{
 "cells": [
  {
   "cell_type": "code",
   "execution_count": 1,
   "metadata": {},
   "outputs": [],
   "source": [
    "# Root Finding\n",
    "import numpy as np\n",
    "import matplotlib.pyplot as plt"
   ]
  },
  {
   "cell_type": "code",
   "execution_count": 2,
   "metadata": {},
   "outputs": [],
   "source": [
    "## Bisection Method ; 이분법"
   ]
  },
  {
   "cell_type": "code",
   "execution_count": 3,
   "metadata": {},
   "outputs": [],
   "source": [
    "def f(x):\n",
    "    return x**6 - x - 1"
   ]
  },
  {
   "cell_type": "code",
   "execution_count": 4,
   "metadata": {},
   "outputs": [
    {
     "name": "stdout",
     "output_type": "stream",
     "text": [
      " n    a      b      c    b-c    f(c)\n",
      " 1 1.0000 2.0000 1.5000 0.5000  8.8906\n",
      " 2 1.0000 1.5000 1.2500 0.2500  1.5647\n",
      " 3 1.0000 1.2500 1.1250 0.1250 -0.0977\n",
      " 4 1.1250 1.2500 1.1875 0.0625  0.6167\n",
      " 5 1.1250 1.1875 1.1562 0.0312  0.2333\n",
      " 6 1.1250 1.1562 1.1406 0.0156  0.0616\n",
      " 7 1.1250 1.1406 1.1328 0.0078 -0.0196\n",
      " 8 1.1328 1.1406 1.1367 0.0039  0.0206\n",
      " 9 1.1328 1.1367 1.1348 0.0020  0.0004\n",
      "10 1.1328 1.1348 1.1338 0.0010 -0.0096\n"
     ]
    }
   ],
   "source": [
    "TOL = 0.001\n",
    "err = 1\n",
    "a, b = 1, 2\n",
    "cnt  = 1\n",
    "print(' n    a      b      c    b-c    f(c)')\n",
    "while(err > TOL):\n",
    "    fa = f(a)\n",
    "    fb = f(b)\n",
    "    c  = (a + b) * 0.5\n",
    "    fc = f(c)\n",
    "    err = b - c\n",
    "    print('{:2d} {:.4f} {:.4f} {:.4f} {:.4f} {:7.4f}'.format(cnt, a, b, c, err, fc))\n",
    "    if(fa * fc > 0):\n",
    "        a = c\n",
    "    else:\n",
    "        b = c\n",
    "    cnt = cnt + 1"
   ]
  },
  {
   "cell_type": "code",
   "execution_count": 5,
   "metadata": {},
   "outputs": [],
   "source": [
    "## Newton  - Raphson (NR) Method"
   ]
  },
  {
   "cell_type": "code",
   "execution_count": 6,
   "metadata": {},
   "outputs": [],
   "source": [
    "def df(x):\n",
    "    return 6 * x**5 - 1"
   ]
  },
  {
   "cell_type": "code",
   "execution_count": 7,
   "metadata": {},
   "outputs": [
    {
     "name": "stdout",
     "output_type": "stream",
     "text": [
      "0 1.50000000 8.89E+00   1.00E+00\n",
      "1 1.30049088 2.54E+00  -2.00E-01\n",
      "2 1.18148042 5.38E-01  -1.19E-01\n",
      "3 1.13945559 4.92E-02  -4.20E-02\n",
      "4 1.13477763 5.50E-04  -4.68E-03\n",
      "5 1.13472415 7.11E-08  -5.35E-05\n",
      "6 1.13472414 1.55E-15  -6.91E-09\n"
     ]
    }
   ],
   "source": [
    "err = 1\n",
    "TOL = 10**(-10)\n",
    "x   = 1.5\n",
    "cnt = 0\n",
    "\n",
    "while(np.abs(err) > TOL):\n",
    "    fx = f(x)\n",
    "    dfx = df(x)\n",
    "    print('{} {:.8f} {:.2E} {:10.2E}'.format(cnt, x, fx, err))\n",
    "    err = (-1) * fx / dfx\n",
    "    x = x + err\n",
    "    cnt = cnt + 1"
   ]
  },
  {
   "cell_type": "code",
   "execution_count": 8,
   "metadata": {},
   "outputs": [],
   "source": [
    "## Secant Method"
   ]
  },
  {
   "cell_type": "code",
   "execution_count": 9,
   "metadata": {},
   "outputs": [
    {
     "name": "stdout",
     "output_type": "stream",
     "text": [
      "0 2.00000000 6.10E+01\n",
      "1 1.00000000 -1.00E+00 -1.00E+00\n",
      "2 1.01612903 -9.15E-01 1.61E-02\n",
      "3 1.19057777 6.57E-01 1.74E-01\n",
      "4 1.11765583 -1.68E-01 -7.29E-02\n",
      "5 1.13253155 -2.24E-02 1.49E-02\n",
      "6 1.13481681 9.54E-04 2.29E-03\n",
      "7 1.13472365 -5.07E-06 -9.32E-05\n",
      "8 1.13472414 -1.13E-09 4.92E-07\n"
     ]
    }
   ],
   "source": [
    "x1  = 2\n",
    "x2  = 1\n",
    "err = 1\n",
    "TOL = 10**(-7)\n",
    "cnt = 0\n",
    "x_list = [x1, x2]\n",
    "\n",
    "while(err > TOL):\n",
    "    f1 = f(x1)\n",
    "    f2 = f(x2)\n",
    "    x3 = x2 - f2 * (x2 - x1) / (f2 - f1)\n",
    "    x_list.append(x3)\n",
    "    err = np.abs(x3 - x1)\n",
    "    if(cnt == 0):\n",
    "        print('{} {:.8f} {:.2E}'.format(cnt, x1, f1))\n",
    "    if(cnt >= 1):\n",
    "        print('{} {:.8f} {:.2E} {:.2E}'.format(cnt, x1, f1, x_list[cnt] - x_list[cnt - 1]))\n",
    "    if(err > TOL):\n",
    "        x1 = x2\n",
    "        x2 = x3\n",
    "    cnt = cnt + 1"
   ]
  },
  {
   "cell_type": "code",
   "execution_count": 10,
   "metadata": {},
   "outputs": [],
   "source": [
    "## False Position (REgula Falsi) method"
   ]
  },
  {
   "cell_type": "code",
   "execution_count": 11,
   "metadata": {},
   "outputs": [],
   "source": [
    "def g(x):\n",
    "    return np.tan(np.pi * x) - 6"
   ]
  },
  {
   "cell_type": "code",
   "execution_count": 12,
   "metadata": {},
   "outputs": [
    {
     "name": "stdout",
     "output_type": "stream",
     "text": [
      "4.474314e-01\n"
     ]
    }
   ],
   "source": [
    "x1 = 0\n",
    "x2 = 0.48\n",
    "err = 1\n",
    "TOL = 10**(-7)\n",
    "while(err > TOL):\n",
    "    g1 = g(x1)\n",
    "    g2 = g(x2)\n",
    "    x3 = x2 - g2 * (x2 - x1) / (g2 - g1)\n",
    "    g3 = g(x3)\n",
    "    err = np.abs(x1 - x3)\n",
    "    if(g1 * g3 < 0):\n",
    "        x2 = x3\n",
    "    if(g2 * g3 < 0):\n",
    "        x1 = x3\n",
    "    if(err < TOL):\n",
    "        print('{:.6e}'.format(x3))"
   ]
  },
  {
   "cell_type": "code",
   "execution_count": 13,
   "metadata": {},
   "outputs": [],
   "source": [
    "## Fixed Point Iteration"
   ]
  },
  {
   "cell_type": "code",
   "execution_count": 14,
   "metadata": {},
   "outputs": [],
   "source": [
    "def f(x):\n",
    "    return 1 + 0.5 * np.sin(x)\n",
    "def g(x):\n",
    "    return 3 + 2 * np.sin(x)"
   ]
  },
  {
   "cell_type": "code",
   "execution_count": 15,
   "metadata": {},
   "outputs": [
    {
     "name": "stdout",
     "output_type": "stream",
     "text": [
      " 0 0.00000000000000\n",
      " 1 1.00000000000000\n",
      " 2 1.42073549240395\n",
      " 3 1.49438099256432\n",
      " 4 1.49854088439917\n",
      " 5 1.49869535552190\n",
      " 6 1.49870092540704\n",
      " 7 1.49870112602244\n",
      " 8 1.49870113324789\n",
      " 9 1.49870113350813\n",
      "10 1.49870113351750\n"
     ]
    }
   ],
   "source": [
    "x = 0\n",
    "err = 1\n",
    "TOL = 10**(-12)\n",
    "cnt = 0\n",
    "while(err > TOL):\n",
    "    print('{:2d} {:.14f}'.format(cnt, x))\n",
    "    xn = f(x)\n",
    "    err = np.abs(x - xn)\n",
    "    x = xn\n",
    "    cnt = cnt + 1"
   ]
  },
  {
   "cell_type": "code",
   "execution_count": 16,
   "metadata": {},
   "outputs": [
    {
     "name": "stdout",
     "output_type": "stream",
     "text": [
      " 0 3.00000000000000\n",
      " 1 3.28224001611973\n",
      " 2 2.71963177181556\n",
      " 3 3.81910025488514\n",
      " 4 1.74629389651652\n",
      " 5 4.96927957214762\n",
      " 6 1.06563065299216\n",
      " 7 4.75018861639465\n",
      " 8 1.00142864236516\n",
      " 9 4.68448404916097\n",
      "10 1.00077863465869\n"
     ]
    }
   ],
   "source": [
    "x = 0\n",
    "err = 1\n",
    "TOL = 10**(-12)\n",
    "cnt = 0\n",
    "while(err > TOL):\n",
    "    if(cnt > 10):\n",
    "        break\n",
    "    xn = g(x)\n",
    "    err = np.abs(x - xn)\n",
    "    x = xn\n",
    "    print('{:2d} {:.14f}'.format(cnt, x))\n",
    "    cnt = cnt + 1"
   ]
  },
  {
   "cell_type": "code",
   "execution_count": 17,
   "metadata": {},
   "outputs": [],
   "source": [
    "## Example"
   ]
  },
  {
   "cell_type": "code",
   "execution_count": 18,
   "metadata": {},
   "outputs": [],
   "source": [
    "def f(x):\n",
    "    return np.arccos(-1 / (1 + np.exp(-2 * x)))\n",
    "def g(x):\n",
    "    return 0.5 * np.log(-1 / (1 + 1 / np.cos(x)))"
   ]
  },
  {
   "cell_type": "code",
   "execution_count": 19,
   "metadata": {},
   "outputs": [
    {
     "name": "stdout",
     "output_type": "stream",
     "text": [
      " 0 2.0000000000000\n",
      " 1 2.9516432531539\n",
      " 2 3.0677785897650\n",
      " 3 3.0758564874526\n",
      " 4 3.0763844177972\n",
      " 5 3.0764187731955\n",
      " 6 3.0764210082695\n",
      " 7 3.0764211536750\n",
      " 8 3.0764211631345\n",
      " 9 3.0764211637499\n",
      "10 3.0764211637900\n",
      "11 3.0764211637926\n",
      "12 3.0764211637927\n",
      "13 3.0764211637928\n"
     ]
    }
   ],
   "source": [
    "# iterative 1\n",
    "x = 2\n",
    "err = 1\n",
    "TOL = 10**(-15)\n",
    "cnt = 0\n",
    "while(err > TOL):\n",
    "    print('{:2d} {:.13f}'.format(cnt, x))\n",
    "    xn = f(x)\n",
    "    err = np.abs(x - xn)\n",
    "    x = xn\n",
    "    cnt = cnt + 1"
   ]
  },
  {
   "cell_type": "code",
   "execution_count": 20,
   "metadata": {},
   "outputs": [
    {
     "name": "stdout",
     "output_type": "stream",
     "text": [
      " 0 2.0000000000000\n",
      " 1 -0.1693056741599\n"
     ]
    },
    {
     "name": "stderr",
     "output_type": "stream",
     "text": [
      "c:\\users\\jhoon\\appdata\\local\\programs\\python\\python37\\lib\\site-packages\\ipykernel_launcher.py:4: RuntimeWarning: invalid value encountered in log\n",
      "  after removing the cwd from sys.path.\n"
     ]
    }
   ],
   "source": [
    "# iterative 2\n",
    "x = 2\n",
    "err = 1\n",
    "TOL = 10**(-15)\n",
    "cnt = 0\n",
    "while(err > TOL):\n",
    "    print('{:2d} {:.13f}'.format(cnt, x))\n",
    "    xn = g(x)\n",
    "    err = np.abs(x - xn)\n",
    "    x = xn\n",
    "    cnt = cnt + 1\n",
    "\n",
    "# log 제한 범위때문에 안됨"
   ]
  },
  {
   "cell_type": "code",
   "execution_count": 21,
   "metadata": {},
   "outputs": [],
   "source": [
    "def f(x):\n",
    "    return np.cos(x) + 1 / (1 + np.exp(-2 * x))\n",
    "def df(x):\n",
    "    return (-1) * np.sin(x) - (-2 * np.exp(-2 * x)) / (1 + np.exp(-2 * x))**2"
   ]
  },
  {
   "cell_type": "code",
   "execution_count": 22,
   "metadata": {},
   "outputs": [
    {
     "name": "stdout",
     "output_type": "stream",
     "text": [
      "0 2.0000000000000 5.66E-01   1.00E+00\n",
      "1 2.6474657588205 1.15E-01   6.47E-01\n",
      "2 2.8943271778574 2.74E-02   2.47E-01\n",
      "3 3.0089720880386 6.35E-03   1.15E-01\n",
      "4 3.0588397919603 1.22E-03   4.99E-02\n",
      "5 3.0744694805801 1.21E-04   1.56E-02\n",
      "6 3.0763911696536 1.83E-06   1.92E-03\n",
      "7 3.0764211564867 4.45E-10   3.00E-05\n",
      "8 3.0764211637928 1.11E-16   7.31E-09\n"
     ]
    }
   ],
   "source": [
    "# NR method\n",
    "err = 1\n",
    "TOL = 10**(-10)\n",
    "x   = 2\n",
    "cnt = 0\n",
    "\n",
    "while(np.abs(err) > TOL):\n",
    "    fx = f(x)\n",
    "    dfx = df(x)\n",
    "    print('{} {:.13f} {:.2E} {:10.2E}'.format(cnt, x, fx, err))\n",
    "    err = (-1) * fx / dfx\n",
    "    x = x + err\n",
    "    cnt = cnt + 1"
   ]
  }
 ],
 "metadata": {
  "kernelspec": {
   "display_name": "Python 3",
   "language": "python",
   "name": "python3"
  },
  "language_info": {
   "codemirror_mode": {
    "name": "ipython",
    "version": 3
   },
   "file_extension": ".py",
   "mimetype": "text/x-python",
   "name": "python",
   "nbconvert_exporter": "python",
   "pygments_lexer": "ipython3",
   "version": "3.7.2"
  }
 },
 "nbformat": 4,
 "nbformat_minor": 2
}
