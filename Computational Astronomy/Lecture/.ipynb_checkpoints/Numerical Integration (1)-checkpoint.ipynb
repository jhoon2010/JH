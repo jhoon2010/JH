{
 "cells": [
  {
   "cell_type": "markdown",
   "metadata": {},
   "source": [
    "# Numerical Integration"
   ]
  },
  {
   "cell_type": "code",
   "execution_count": 3,
   "metadata": {},
   "outputs": [],
   "source": [
    "import numpy as np\n",
    "import matplotlib.pyplot as plt"
   ]
  },
  {
   "cell_type": "markdown",
   "metadata": {},
   "source": [
    "### Composite Trapezoidal Rule"
   ]
  },
  {
   "cell_type": "code",
   "execution_count": 16,
   "metadata": {},
   "outputs": [],
   "source": [
    "def I_Trape(n,a,b):\n",
    "    x=0\n",
    "    I=0\n",
    "    h=(b-a)/n\n",
    "    while(x<(b-h)):\n",
    "        I+=0.5*(np.exp(-(x)**2)+np.exp(-(x+h)**2)) \n",
    "        x+=h\n",
    "    return I*h"
   ]
  },
  {
   "cell_type": "code",
   "execution_count": 39,
   "metadata": {},
   "outputs": [
    {
     "data": {
      "text/plain": [
       "0.7468241325729482"
      ]
     },
     "execution_count": 39,
     "metadata": {},
     "output_type": "execute_result"
    }
   ],
   "source": [
    "I_Trape(16000,0,1)"
   ]
  },
  {
   "cell_type": "markdown",
   "metadata": {},
   "source": [
    "### Simpson's Rule"
   ]
  },
  {
   "cell_type": "code",
   "execution_count": 9,
   "metadata": {},
   "outputs": [],
   "source": [
    "def I_Simp(n,a,b):\n",
    "    x=0\n",
    "    I=0\n",
    "    h=(b-a)/n\n",
    "    while(x<(b-4*h)):\n",
    "        I+=(4*np.exp(-(x+h)**2)+2*np.exp(-(x+2*h)**2))\n",
    "        x+=2*h\n",
    "    if(x>(b-3*h)):\n",
    "        I+=4*np.exp(-(x+h)**2)\n",
    "        \n",
    "    return (I+np.exp(-(a)**2)+np.exp(-(b)**2))*h/3"
   ]
  },
  {
   "cell_type": "code",
   "execution_count": 36,
   "metadata": {},
   "outputs": [
    {
     "data": {
      "text/plain": [
       "0.746824132812431"
      ]
     },
     "execution_count": 36,
     "metadata": {},
     "output_type": "execute_result"
    }
   ],
   "source": [
    "I_Simp(1702,0,1)"
   ]
  },
  {
   "cell_type": "markdown",
   "metadata": {},
   "source": [
    "## Romberg Integraion"
   ]
  },
  {
   "cell_type": "code",
   "execution_count": 4,
   "metadata": {
    "scrolled": true
   },
   "outputs": [
    {
     "name": "stdout",
     "output_type": "stream",
     "text": [
      "Romberg integration of <function vectorize1.<locals>.vfunc at 0x000001C225539158> from [0, 1]\n",
      "\n",
      " Steps  StepSize   Results\n",
      "     1  1.000000  0.683940 \n",
      "     2  0.500000  0.731370  0.747180 \n",
      "     4  0.250000  0.742984  0.746855  0.746834 \n",
      "     8  0.125000  0.745866  0.746826  0.746824  0.746824 \n",
      "    16  0.062500  0.746585  0.746824  0.746824  0.746824  0.746824 \n",
      "    32  0.031250  0.746764  0.746824  0.746824  0.746824  0.746824  0.746824 \n",
      "\n",
      "The final result is 0.7468241328122438 after 33 function evaluations.\n"
     ]
    }
   ],
   "source": [
    "from scipy import integrate\n",
    "gaussian = lambda x: np.exp(-x**2)\n",
    "result = integrate.romberg(gaussian, 0, 1, show = True)"
   ]
  },
  {
   "cell_type": "code",
   "execution_count": null,
   "metadata": {},
   "outputs": [],
   "source": []
  }
 ],
 "metadata": {
  "kernelspec": {
   "display_name": "Python 3",
   "language": "python",
   "name": "python3"
  },
  "language_info": {
   "codemirror_mode": {
    "name": "ipython",
    "version": 3
   },
   "file_extension": ".py",
   "mimetype": "text/x-python",
   "name": "python",
   "nbconvert_exporter": "python",
   "pygments_lexer": "ipython3",
   "version": "3.7.2"
  }
 },
 "nbformat": 4,
 "nbformat_minor": 2
}
