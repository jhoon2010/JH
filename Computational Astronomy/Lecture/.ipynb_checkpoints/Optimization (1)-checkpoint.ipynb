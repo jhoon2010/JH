{
 "cells": [
  {
   "cell_type": "markdown",
   "metadata": {},
   "source": [
    "# Optimization 1"
   ]
  },
  {
   "cell_type": "code",
   "execution_count": 1,
   "metadata": {},
   "outputs": [],
   "source": [
    "import numpy as np\n",
    "import matplotlib.pyplot as plt"
   ]
  },
  {
   "cell_type": "code",
   "execution_count": 51,
   "metadata": {},
   "outputs": [],
   "source": [
    "def f(x):\n",
    "    return x * (x - 2) * (x + 2) * (x + 2)\n",
    "\n",
    "def GSS(a,b):\n",
    "    R    = 0.618\n",
    "    TOL  = 10**(-4) \n",
    "    x1  = b - R * (b - a)\n",
    "    x2  = a + R * (b - a)\n",
    "    f1  = f(x1)\n",
    "    f2  = f(x2)\n",
    "    if(f1 > f2):\n",
    "        GSS(x1, b)\n",
    "    if(f1 < f2):\n",
    "        GSS(a, x2)\n",
    "    if((b - a) < TOL):\n",
    "        print(b)"
   ]
  },
  {
   "cell_type": "code",
   "execution_count": 52,
   "metadata": {
    "scrolled": true
   },
   "outputs": [
    {
     "name": "stdout",
     "output_type": "stream",
     "text": [
      "1.2807764530112111\n",
      "1.2807765128112563\n",
      "1.2807765128112563\n",
      "1.2807766693870282\n",
      "1.2807769227458823\n",
      "1.2807769227458823\n",
      "1.2807775861209365\n",
      "1.2807786595433543\n",
      "1.2807786595433543\n",
      "1.280781470108854\n",
      "1.2807860179494683\n",
      "1.2807860179494683\n",
      "1.2807979256604638\n",
      "1.2808171938012334\n",
      "1.2808171938012334\n"
     ]
    }
   ],
   "source": [
    "GSS(0,2)"
   ]
  },
  {
   "cell_type": "code",
   "execution_count": 53,
   "metadata": {
    "scrolled": true
   },
   "outputs": [
    {
     "name": "stdout",
     "output_type": "stream",
     "text": [
      "-1.9999999999999998\n",
      "-1.9999999999999993\n",
      "-1.9999999999999987\n",
      "-1.9999999999999987\n",
      "-1.999999999999997\n",
      "-1.999999999999997\n",
      "-1.9999999999999927\n",
      "-1.9999999999999858\n",
      "-1.9999999999999858\n",
      "-1.9999999999999674\n",
      "-1.9999999999999376\n",
      "-1.9999999999999376\n",
      "-1.9999999999998597\n",
      "-1.9999999999998597\n",
      "-1.9999999999998597\n",
      "-1.9999999999995297\n",
      "-1.9999999999995297\n",
      "-1.9999999999995297\n",
      "-1.9999999999981317\n",
      "-1.9999999999981317\n",
      "-1.999999999994471\n",
      "-1.9999999999885478\n",
      "-1.9999999999885478\n",
      "-1.999999999973039\n",
      "-1.999999999973039\n",
      "-1.9999999999324312\n",
      "-1.9999999999324312\n",
      "-1.9999999998261073\n",
      "-1.9999999998261073\n",
      "-1.9999999995477167\n",
      "-1.9999999990972466\n",
      "-1.9999999990972466\n",
      "-1.9999999979177707\n",
      "-1.9999999979177707\n",
      "-1.9999999948295233\n",
      "-1.9999999948295233\n",
      "-1.9999999948295233\n",
      "-1.9999999817453384\n",
      "-1.9999999817453384\n",
      "-1.9999999474867298\n",
      "-1.9999999474867298\n",
      "-1.999999857786662\n",
      "-1.999999857786662\n",
      "-1.999999857786662\n",
      "-1.9999994777483807\n",
      "-1.9999994777483807\n",
      "-1.9999994777483807\n",
      "-1.9999978676147538\n",
      "-1.9999978676147538\n",
      "-1.9999936517665045\n",
      "-1.9999868300055832\n",
      "-1.9999868300055832\n",
      "-1.9999689684390898\n",
      "-1.9999689684390898\n"
     ]
    }
   ],
   "source": [
    "GSS(-3,0)"
   ]
  },
  {
   "cell_type": "code",
   "execution_count": 23,
   "metadata": {},
   "outputs": [
    {
     "data": {
      "text/plain": [
       "(-3, 3)"
      ]
     },
     "execution_count": 23,
     "metadata": {},
     "output_type": "execute_result"
    },
    {
     "data": {
      "image/png": "[encoded data removed]",
      "text/plain": [
       "<Figure size 432x288 with 1 Axes>"
      ]
     },
     "metadata": {
      "needs_background": "light"
     },
     "output_type": "display_data"
    }
   ],
   "source": [
    "t = np.linspace(-5,3,100)\n",
    "plt.plot(t, f(t))\n",
    "plt.ylim(-10,20)\n",
    "plt.xlim(-3,3)"
   ]
  },
  {
   "cell_type": "code",
   "execution_count": 57,
   "metadata": {},
   "outputs": [
    {
     "name": "stdout",
     "output_type": "stream",
     "text": [
      "     fun: -9.914949590828149\n",
      "    nfev: 43\n",
      "     nit: 38\n",
      " success: True\n",
      "       x: 1.2807764058358122\n",
      "     fun: -9.914949590828147\n",
      "    nfev: 15\n",
      "     nit: 11\n",
      " success: True\n",
      "       x: 1.2807764040355971\n",
      "     fun: 3.283651798497857e-13\n",
      " message: 'Solution found.'\n",
      "    nfev: 12\n",
      "  status: 0\n",
      " success: True\n",
      "       x: -2.000000202597239\n"
     ]
    }
   ],
   "source": [
    "import scipy.optimize as opt\n",
    "\n",
    "res1 = opt.minimize_scalar(f,method='Golden')\n",
    "print(res1)\n",
    "\n",
    "res2 = opt.minimize_scalar(f,method='Brent')\n",
    "print(res2)\n",
    "\n",
    "res3 = opt.minimize_scalar(f, bounds=(-3,-1), method='bounded')\n",
    "print(res3)"
   ]
  },
  {
   "cell_type": "code",
   "execution_count": 71,
   "metadata": {},
   "outputs": [],
   "source": [
    "def f(x):\n",
    "    return (-4) * np.sin(x) * (1 + np.cos(x))\n",
    "def df(x):\n",
    "    return (-4) * (np.cos(x) * (1 + np.cos(x)) - np.sin(x) * np.sin(x))\n",
    "def ddf(x):\n",
    "    return 4 * np.sin(x) * (1 + 4 * np.cos(x))\n",
    "\n",
    "def New(x,cnt):\n",
    "    TOL = 10**(-5)\n",
    "    y   = x - df(x)/ddf(x)\n",
    "    if (np.abs(x - y) < TOL):\n",
    "        print(x, cnt)\n",
    "    else :\n",
    "        cnt = cnt + 1\n",
    "        New(y, cnt)"
   ]
  },
  {
   "cell_type": "code",
   "execution_count": 80,
   "metadata": {},
   "outputs": [
    {
     "name": "stdout",
     "output_type": "stream",
     "text": [
      "1.0471904199831747 3\n"
     ]
    }
   ],
   "source": [
    "New(0.5,0)"
   ]
  },
  {
   "cell_type": "code",
   "execution_count": 108,
   "metadata": {},
   "outputs": [
    {
     "name": "stdout",
     "output_type": "stream",
     "text": [
      "-2 2\n",
      "-1 3\n",
      "-1 1\n",
      "1 -3\n",
      "1 1\n",
      "1 1\n"
     ]
    },
    {
     "data": {
      "image/png": "[encoded data removed]",
      "text/plain": [
       "<Figure size 432x288 with 1 Axes>"
      ]
     },
     "metadata": {
      "needs_background": "light"
     },
     "output_type": "display_data"
    }
   ],
   "source": [
    "def hessian_grad(x):\n",
    "    H = [[-400 * x[1] + 1200 * x[0] * x[0] + 2, -400 * x[0]], [-400 * x[0], 200]]\n",
    "    df = [-400 * x[0] * (x[1] - x[0] * x[0]) - 2 * (1 - x[0]), 200 * (x[1] - x[0] * x[0])]\n",
    "    return H, df\n",
    "\n",
    "x = np.array([-2,2])\n",
    "s = np.zeros(2)\n",
    "\n",
    "err, TOL = 1, 10**(-5)\n",
    "\n",
    "xc ,yc = [x[0]], [x[1]]\n",
    "\n",
    "while (err > TOL):\n",
    "    H, df = hessian_grad(x)\n",
    "    \n",
    "    det = H[0][0] * H[1][1] - H[1][0] * H[0][1]\n",
    "    s[0] = (H[1][0] * df[1] - H[1][1] * df[0]) / det\n",
    "    s[1] = (H[0][1] * df[0] - H[0][0] * df[1]) / det\n",
    "    \n",
    "    err = np.sqrt(s[0] * s[0] + s[1] * s[1])\n",
    "    x[0] = x[0] + s[0]\n",
    "    x[1] = x[1] + s[1]\n",
    "    \n",
    "    xc = np.append(xc, x[0])\n",
    "    yc = np.append(yc, x[1])\n",
    "\n",
    "for i in range(0,6):\n",
    "    print(xc[i], yc[i])\n",
    "    \n",
    "x = np.linspace(-5,10,400)\n",
    "y = np.linspace(-10,5,400)\n",
    "X, Y = np.meshgrid(x,y)\n",
    "\n",
    "E = np.log10(100*(Y-X*X)**2+(1-X)**2)\n",
    "dmax = np.max(E)\n",
    "dmin = -3\n",
    "\n",
    "levels=(dmax - dmin)*np.arange(20)/19 + dmin\n",
    "\n",
    "cmap = plt.cm.jet\n",
    "cmap = plt.cm.gist_heat\n",
    "\n",
    "con = plt.contourf(x, y, E, levels, cmap=cmap)"
   ]
  },
  {
   "cell_type": "code",
   "execution_count": null,
   "metadata": {},
   "outputs": [],
   "source": []
  }
 ],
 "metadata": {
  "kernelspec": {
   "display_name": "Python 3",
   "language": "python",
   "name": "python3"
  },
  "language_info": {
   "codemirror_mode": {
    "name": "ipython",
    "version": 3
   },
   "file_extension": ".py",
   "mimetype": "text/x-python",
   "name": "python",
   "nbconvert_exporter": "python",
   "pygments_lexer": "ipython3",
   "version": "3.7.2"
  }
 },
 "nbformat": 4,
 "nbformat_minor": 2
}
