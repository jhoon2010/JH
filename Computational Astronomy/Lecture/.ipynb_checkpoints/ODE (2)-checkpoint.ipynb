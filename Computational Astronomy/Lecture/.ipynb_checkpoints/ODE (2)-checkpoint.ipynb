{
 "cells": [
  {
   "cell_type": "code",
   "execution_count": 1,
   "metadata": {},
   "outputs": [],
   "source": [
    "import numpy as np\n",
    "import matplotlib.pyplot as plt"
   ]
  },
  {
   "cell_type": "markdown",
   "metadata": {},
   "source": [
    "# ODE 2"
   ]
  },
  {
   "cell_type": "code",
   "execution_count": 2,
   "metadata": {},
   "outputs": [],
   "source": [
    "def f(x,y):\n",
    "    return -2*x+y\n",
    "\n",
    "def rk2(x0,y0,xend,h):\n",
    "    hh=h*0.5\n",
    "    x=x0\n",
    "    y=y0\n",
    "    result=[]\n",
    "    px=[]\n",
    "    while (x<=xend):\n",
    "        rk1=f(x,y)\n",
    "        rk2=f(x+hh,y+hh*rk1)\n",
    "        y=y+h*rk1\n",
    "        x+=h\n",
    "        result.append(y)\n",
    "        px.append(x)\n",
    "    return y"
   ]
  },
  {
   "cell_type": "code",
   "execution_count": 3,
   "metadata": {},
   "outputs": [
    {
     "data": {
      "text/plain": [
       "21960.600020418777"
      ]
     },
     "execution_count": 3,
     "metadata": {},
     "output_type": "execute_result"
    }
   ],
   "source": [
    "rk2(0,3,10,0.001)"
   ]
  },
  {
   "cell_type": "code",
   "execution_count": 30,
   "metadata": {},
   "outputs": [],
   "source": [
    "def f(x,y):\n",
    "    return -y+np.cos(x)-np.sin(x)\n",
    "\n",
    "def rk4(x0,y0,xend,h):\n",
    "    x=x0\n",
    "    y=y0\n",
    "    rx=[]\n",
    "    ry=[]\n",
    "    hh=0.5*h\n",
    "    while(x<=xend):\n",
    "        rx.append(x)\n",
    "        ry.append(y)\n",
    "        v1=f(x,y)\n",
    "        v2=f(x+hh,y+hh*v1)\n",
    "        v3=f(x+hh,y+hh*v2)\n",
    "        v4=f(x+h,y+h*v3)\n",
    "        y=y+h*(v1+v4+2*(v2+v3))/6\n",
    "        x+=h\n",
    "    errorx=[]\n",
    "    error=[]\n",
    "    i=0\n",
    "    x=x0\n",
    "    while(x<=xend):\n",
    "        real=np.exp(-x)+np.cos(x)\n",
    "        a=np.abs((ry[i]-real)/real)\n",
    "        error.append(a)\n",
    "        errorx.append(x)\n",
    "        i+=1\n",
    "        x+=h\n",
    "    plt.semilogy(errorx,error)\n",
    "    return 1\n",
    "\n"
   ]
  },
  {
   "cell_type": "code",
   "execution_count": 31,
   "metadata": {
    "scrolled": true
   },
   "outputs": [
    {
     "data": {
      "text/plain": [
       "1"
      ]
     },
     "execution_count": 31,
     "metadata": {},
     "output_type": "execute_result"
    },
    {
     "data": {
      "image/png": "[encoded data removed]",
      "text/plain": [
       "<Figure size 432x288 with 1 Axes>"
      ]
     },
     "metadata": {
      "needs_background": "light"
     },
     "output_type": "display_data"
    }
   ],
   "source": [
    "rk4(0,2,10,0.01)"
   ]
  },
  {
   "cell_type": "code",
   "execution_count": 142,
   "metadata": {},
   "outputs": [],
   "source": [
    "def precor(x0,y0,xend,h):\n",
    "    def f(x,y):\n",
    "        return -2*x*y**2\n",
    "    x,y=x0,y0\n",
    "    xc=[]\n",
    "    yc=[]\n",
    "    i=0\n",
    "    hh=h*0.5\n",
    "    while (i<=3):\n",
    "        xc.append(x)\n",
    "        yc.append(y)\n",
    "        v1=f(x,y)\n",
    "        v2=f(x+hh,y+hh*v1)\n",
    "        v3=f(x+hh,y+hh*v2)\n",
    "        v4=f(x+h,y+h*v3)        \n",
    "        y=y+h*(v1+v4+2*(v2+v3))/6\n",
    "        x+=h\n",
    "        i+=1\n",
    "    f0=f(xc[0],yc[0])\n",
    "    f1=f(xc[1],yc[1])\n",
    "    f2=f(xc[2],yc[2])\n",
    "    f3=f(xc[3],yc[3])\n",
    "    fc=[f0,f1,f2,f3]\n",
    "    yp=yc[3]+h/24*(55*f3-59*f2+37*f1-9*f0)\n",
    "    f4=yp\n",
    "    fc.append(f4)\n",
    "    y=yc[3]+h/24*(9*fc[4]+19*fc[3]-5*fc[2]+fc[1])\n",
    "    for i in range(4,1000):\n",
    "        yp=yc[i-1]+h/24*(55*fc[i-1]-59*fc[i-2]+37*fc[i-3]-9*fc[i-4])\n",
    "        y=yc[i-1]+h/24*(9*fc[i-1]+19*fc[i-1]-5*fc[i-2]+fc[i-3])\n",
    "        xc.append(x)\n",
    "        x+=h\n",
    "        yc.append(y)\n",
    "        fi=f(i,i)\n",
    "        fc.append(fi)\n",
    "\n",
    "    plt.plot(xc,yc)\n",
    "    return 0\n",
    "        \n",
    "        "
   ]
  },
  {
   "cell_type": "code",
   "execution_count": 143,
   "metadata": {},
   "outputs": [
    {
     "data": {
      "text/plain": [
       "0"
      ]
     },
     "execution_count": 143,
     "metadata": {},
     "output_type": "execute_result"
    },
    {
     "data": {
      "image/png": "[encoded data removed]",
      "text/plain": [
       "<Figure size 432x288 with 1 Axes>"
      ]
     },
     "metadata": {
      "needs_background": "light"
     },
     "output_type": "display_data"
    }
   ],
   "source": [
    "precor(0,1,10,0.001)"
   ]
  },
  {
   "cell_type": "code",
   "execution_count": null,
   "metadata": {},
   "outputs": [],
   "source": []
  },
  {
   "cell_type": "code",
   "execution_count": null,
   "metadata": {},
   "outputs": [],
   "source": []
  }
 ],
 "metadata": {
  "kernelspec": {
   "display_name": "Python 3",
   "language": "python",
   "name": "python3"
  }
 },
 "nbformat": 4,
 "nbformat_minor": 2
}
