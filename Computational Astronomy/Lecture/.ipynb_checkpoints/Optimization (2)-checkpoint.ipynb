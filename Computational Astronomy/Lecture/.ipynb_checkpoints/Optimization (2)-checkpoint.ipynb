{
 "cells": [
  {
   "cell_type": "markdown",
   "metadata": {},
   "source": [
    "# Optimization 2"
   ]
  },
  {
   "cell_type": "code",
   "execution_count": 13,
   "metadata": {},
   "outputs": [
    {
     "name": "stdout",
     "output_type": "stream",
     "text": [
      "...current simplex: 1 [-0.5 -0.5] [-0.5  1. ] [ 1.  -0.5]\n",
      "...current simplex: 2 [ 0.25  -0.125] [-0.5 -0.5] [-0.5  1. ]\n",
      "...current simplex: 3 [ 0.25  -0.125] [-0.3125   0.34375] [-0.5 -0.5]\n",
      "...current simplex: 4 [ 0.25  -0.125] [-0.3125   0.34375] [-0.265625  -0.1953125]\n",
      "...current simplex: 5 [-0.1484375  -0.04296875] [ 0.25  -0.125] [-0.3125   0.34375]\n",
      "...current simplex: 6 [-0.1484375  -0.04296875] [-0.13085938  0.12988281] [ 0.25  -0.125]\n",
      "...current simplex: 7 [ 0.05517578 -0.04077148] [-0.1484375  -0.04296875] [-0.13085938  0.12988281]\n",
      "...current simplex: 8 [ 0.05517578 -0.04077148] [-0.08874512  0.04400635] [-0.1484375  -0.04296875]\n",
      "...current simplex: 9 [0.246521   0.09078979] [ 0.05517578 -0.04077148] [-0.08874512  0.04400635]\n",
      "...current simplex: 10 [0.246521   0.09078979] [0.03105164 0.03450775] [ 0.05517578 -0.04077148]\n",
      "...current simplex: 11 [0.246521   0.09078979] [0.09698105 0.01093864] [0.03105164 0.03450775]\n",
      "...current simplex: 12 [0.31245041 0.06722069] [0.246521   0.09078979] [0.09698105 0.01093864]\n",
      "...current simplex: 13 [0.31245041 0.06722069] [0.246521   0.09078979] [0.18823338 0.04497194]\n",
      "...current simplex: 14 [0.37073803 0.11303854] [0.31245041 0.06722069] [0.246521   0.09078979]\n",
      "...current simplex: 15 [0.37073803 0.11303854] [0.29405761 0.0904597 ] [0.31245041 0.06722069]\n",
      "...current simplex: 16 [0.35234523 0.13627756] [0.37073803 0.11303854] [0.29405761 0.0904597 ]\n",
      "...current simplex: 17 [0.42902565 0.15885639] [0.35234523 0.13627756] [0.37073803 0.11303854]\n",
      "...current simplex: 18 [0.41063285 0.18209541] [0.42902565 0.15885639] [0.35234523 0.13627756]\n",
      "...current simplex: 19 [0.41063285 0.18209541] [0.48731327 0.20467424] [0.42902565 0.15885639]\n",
      "...current simplex: 20 [0.46892047 0.22791326] [0.41063285 0.18209541] [0.48731327 0.20467424]\n",
      "...current simplex: 21 [0.46892047 0.22791326] [0.46354496 0.20483929] [0.41063285 0.18209541]\n",
      "...current simplex: 22 [0.52183259 0.25065714] [0.46892047 0.22791326] [0.46354496 0.20483929]\n",
      "...current simplex: 23 [0.55903965 0.30817702] [0.52183259 0.25065714] [0.46892047 0.22791326]\n",
      "...current simplex: 24 [0.55903965 0.30817702] [0.50467829 0.25366517] [0.52183259 0.25065714]\n",
      "...current simplex: 25 [0.55903965 0.30817702] [0.54188536 0.31118505] [0.50467829 0.25366517]\n",
      "...current simplex: 26 [0.64203093 0.42171277] [0.55903965 0.30817702] [0.54188536 0.31118505]\n",
      "...current simplex: 27 [0.64203093 0.42171277] [0.65918522 0.41870474] [0.55903965 0.30817702]\n",
      "...current simplex: 28 [0.7421765 0.5322405] [0.64203093 0.42171277] [0.65918522 0.41870474]\n",
      "...current simplex: 29 [0.72502221 0.53524853] [0.7421765 0.5322405] [0.64203093 0.42171277]\n",
      "...current simplex: 30 [0.72502221 0.53524853] [0.68781514 0.47772864] [0.7421765 0.5322405]\n",
      "...current simplex: 31 [0.72429759 0.51936454] [0.72502221 0.53524853] [0.68781514 0.47772864]\n",
      "...current simplex: 32 [0.79834941 0.62646231] [0.72429759 0.51936454] [0.72502221 0.53524853]\n",
      "...current simplex: 33 [0.79834941 0.62646231] [0.74317286 0.55408098] [0.72429759 0.51936454]\n",
      "...current simplex: 34 [0.86368823 0.73208585] [0.79834941 0.62646231] [0.74317286 0.55408098]\n",
      "...current simplex: 35 [0.86368823 0.73208585] [0.78709584 0.61667753] [0.79834941 0.62646231]\n",
      "...current simplex: 36 [0.87947727 0.77022045] [0.86368823 0.73208585] [0.78709584 0.61667753]\n",
      "...current simplex: 37 [0.87947727 0.77022045] [0.82933929 0.68391534] [0.86368823 0.73208585]\n",
      "...current simplex: 38 [0.87947727 0.77022045] [0.84512833 0.72204994] [0.82933929 0.68391534]\n",
      "...current simplex: 39 [0.87947727 0.77022045] [0.89526631 0.80835504] [0.84512833 0.72204994]\n",
      "...current simplex: 40 [0.92961524 0.85652556] [0.87947727 0.77022045] [0.89526631 0.80835504]\n",
      "...current simplex: 41 [0.89990628 0.81086402] [0.92961524 0.85652556] [0.87947727 0.77022045]\n",
      "...current simplex: 42 [0.95004426 0.89716913] [0.89990628 0.81086402] [0.92961524 0.85652556]\n",
      "...current simplex: 43 [0.95004426 0.89716913] [0.9203353 0.8515076] [0.89990628 0.81086402]\n",
      "...current simplex: 44 [0.97047327 0.93781271] [0.95004426 0.89716913] [0.9203353 0.8515076]\n",
      "...current simplex: 45 [0.97047327 0.93781271] [0.94029703 0.88449926] [0.95004426 0.89716913]\n",
      "...current simplex: 46 [0.96072605 0.92514283] [0.97047327 0.93781271] [0.94029703 0.88449926]\n",
      "...current simplex: 47 [0.99090229 0.97845628] [0.96072605 0.92514283] [0.97047327 0.93781271]\n",
      "...current simplex: 48 [0.99090229 0.97845628] [0.98115506 0.96578641] [0.96072605 0.92514283]\n",
      "...current simplex: 49 [0.97337736 0.94863209] [0.99090229 0.97845628] [0.98115506 0.96578641]\n",
      "...current simplex: 50 [0.98164744 0.9646653 ] [0.97337736 0.94863209] [0.99090229 0.97845628]\n",
      "...current simplex: 51 [0.98420734 0.96755249] [0.98164744 0.9646653 ] [0.97337736 0.94863209]\n",
      "...current simplex: 52 [0.99247743 0.9835857 ] [0.98420734 0.96755249] [0.98164744 0.9646653 ]\n",
      "...current simplex: 53 [0.98499491 0.97011719] [0.99247743 0.9835857 ] [0.98420734 0.96755249]\n",
      "...current simplex: 54 [0.99779382 0.99544936] [0.98499491 0.97011719] [0.99247743 0.9835857 ]\n",
      "...current simplex: 55 [0.99779382 0.99544936] [0.9919359  0.98318449] [0.98499491 0.97011719]\n",
      "...current simplex: 56 [0.99779382 0.99544936] [1.00473481 1.00851665] [0.9919359  0.98318449]\n",
      "...current simplex: 57 [0.99779382 0.99544936] [0.99660011 0.99258375] [1.00473481 1.00851665]\n",
      "...current simplex: 58 [0.99779382 0.99544936] [1.00096588 1.0012666 ] [0.99660011 0.99258375]\n",
      "...current simplex: 59 [0.99779382 0.99544936] [1.0021596  1.00413222] [1.00096588 1.0012666 ]\n",
      "...current simplex: 60 [0.99779382 0.99544936] [1.0021596  1.00413222] [1.0004713  1.00052869]\n",
      "...current simplex: 61 [0.99948213 0.99905288] [0.99779382 0.99544936] [1.0021596  1.00413222]\n",
      "...current simplex: 62 [0.99948213 0.99905288] [1.00039879 1.00069167] [0.99779382 0.99544936]\n",
      "...current simplex: 63 [0.99948213 0.99905288] [1.00039879 1.00069167] [0.99886714 0.99766082]\n",
      "...current simplex: 64 [0.9994038  0.99876655] [0.99948213 0.99905288] [1.00039879 1.00069167]\n",
      "[array([0.9994038 , 0.99876655]), 5.268964657455803e-07]\n"
     ]
    }
   ],
   "source": [
    "import numpy as np\n",
    "import matplotlib.pyplot as plt\n",
    "import math\n",
    "from nelder_mead import *\n",
    "\n",
    "def f(x):\n",
    "    return 100 * (x[1] - x[0]**2)**2 + (1-x[0])**2\n",
    "\n",
    "x1 = np.array([-0.5, -0.5])\n",
    "print (nelder_mead(f, x1, step = 1.5))"
   ]
  },
  {
   "cell_type": "code",
   "execution_count": 64,
   "metadata": {
    "scrolled": true
   },
   "outputs": [
    {
     "name": "stdout",
     "output_type": "stream",
     "text": [
      "Optimization terminated successfully.\n",
      "         Current function value: 0.000000\n",
      "         Iterations: 92\n",
      "         Function evaluations: 176\n",
      "Optimization terminated successfully.\n",
      "         Current function value: 0.000000\n",
      "         Iterations: 121\n",
      "         Function evaluations: 226\n",
      "Optimization terminated successfully.\n",
      "         Current function value: 0.000000\n",
      "         Iterations: 140\n",
      "         Function evaluations: 262\n",
      "Optimization terminated successfully.\n",
      "         Current function value: 0.000000\n",
      "         Iterations: 107\n",
      "         Function evaluations: 203\n"
     ]
    },
    {
     "data": {
      "image/png": "[encoded data removed]",
      "text/plain": [
       "<Figure size 432x288 with 1 Axes>"
      ]
     },
     "metadata": {
      "needs_background": "light"
     },
     "output_type": "display_data"
    }
   ],
   "source": [
    "from scipy.optimize import minimize\n",
    "def rosen(x): \n",
    "    return 100*(x[1]-x[0]**2)**2 + (1-x[0])**2\n",
    "def callbackF(x): \n",
    "    global xt,yt \n",
    "    xt.append(x[0]) \n",
    "    yt.append(x[1])\n",
    "\n",
    "x0 = np.array([2, 2]) \n",
    "xt,yt=[x0[0]],[x0[1]] \n",
    "res = minimize(rosen, x0, method='nelder-mead', options={'xtol': 1e-8, 'disp': True},  callback=callbackF)\n",
    "x1 = np.array([2, -2]) \n",
    "xt.append(x1[0])\n",
    "yt.append(x1[1]) \n",
    "res = minimize(rosen, x1, method='nelder-mead', options={'xtol': 1e-8, 'disp': True},  callback=callbackF)\n",
    "x2 = np.array([-2, 2]) \n",
    "xt.append(x2[0])\n",
    "yt.append(x2[1])\n",
    "res = minimize(rosen, x2, method='nelder-mead', options={'xtol': 1e-8, 'disp': True},  callback=callbackF)\n",
    "x3 = np.array([-2, -2]) \n",
    "xt.append(x3[0])\n",
    "yt.append(x3[1])\n",
    "res = minimize(rosen, x3, method='nelder-mead', options={'xtol': 1e-8, 'disp': True},  callback=callbackF)\n",
    "plt.plot(xt,yt,'o')\n",
    "x = np.linspace(-5,10,400)\n",
    "y = np.linspace(-10,5,400)\n",
    "X, Y = np.meshgrid(x,y)\n",
    "\n",
    "E = np.log10(100*(Y-X*X)**2+(1-X)**2)\n",
    "dmax = np.max(E)\n",
    "dmin = -3\n",
    "\n",
    "levels=(dmax - dmin)*np.arange(20)/19 + dmin\n",
    "\n",
    "cmap = plt.cm.jet\n",
    "cmap = plt.cm.gist_heat\n",
    "\n",
    "con = plt.contourf(x, y, E, levels, cmap=cmap)\n",
    "\n",
    "plt.xlim(-3,3)\n",
    "plt.ylim(-3,3)\n",
    "plt.show()"
   ]
  },
  {
   "cell_type": "code",
   "execution_count": 77,
   "metadata": {},
   "outputs": [
    {
     "name": "stdout",
     "output_type": "stream",
     "text": [
      "[-1.64480792  2.71038415] 7.364510696595629e-06 25\n"
     ]
    }
   ],
   "source": [
    "def func(x): \n",
    "    return 100*(x[1]-x[0]**2)**2+(1-x[0])**2\n",
    "    \n",
    "def golden2D(x,dr,TOL): \n",
    "    R,err,loop=0.61803399,10,-1 \n",
    "    a= x-dr \n",
    "    b= x+dr \n",
    "    while(err > TOL): \n",
    "        loop += 1 \n",
    "        x1= b-R*(b-a) \n",
    "        x2= a+R*(b-a) \n",
    "        f1=func(x1) \n",
    "        f2=func(x2) \n",
    "        if(f2>f1): b=x2 \n",
    "        else: a=x1 \n",
    "        err=sum((a-b)**2) \n",
    "        err=np.sqrt(err) \n",
    "    xmin=a \n",
    "    return xmin,err,loop\n",
    "\n",
    "TOL=1.e-5 \n",
    "x=np.array([-2,2]) \n",
    "dir=np.array([0.447, 0.894]) \n",
    "xmin,err,loop=golden2D(x,dir,TOL)\n",
    "\n",
    "print(xmin, err, loop)"
   ]
  },
  {
   "cell_type": "code",
   "execution_count": 96,
   "metadata": {},
   "outputs": [
    {
     "ename": "RecursionError",
     "evalue": "maximum recursion depth exceeded while calling a Python object",
     "output_type": "error",
     "traceback": [
      "\u001b[1;31m---------------------------------------------------------------------------\u001b[0m",
      "\u001b[1;31mRecursionError\u001b[0m                            Traceback (most recent call last)",
      "\u001b[1;32m<ipython-input-96-73b982c49593>\u001b[0m in \u001b[0;36m<module>\u001b[1;34m\u001b[0m\n\u001b[0;32m     29\u001b[0m \u001b[0mx\u001b[0m\u001b[1;33m=\u001b[0m\u001b[0mnp\u001b[0m\u001b[1;33m.\u001b[0m\u001b[0marray\u001b[0m\u001b[1;33m(\u001b[0m\u001b[1;33m[\u001b[0m\u001b[1;33m-\u001b[0m\u001b[1;36m2\u001b[0m\u001b[1;33m,\u001b[0m\u001b[1;36m2\u001b[0m\u001b[1;33m]\u001b[0m\u001b[1;33m)\u001b[0m\u001b[1;33m\u001b[0m\u001b[1;33m\u001b[0m\u001b[0m\n\u001b[0;32m     30\u001b[0m \u001b[0mdir\u001b[0m\u001b[1;33m=\u001b[0m\u001b[0mnp\u001b[0m\u001b[1;33m.\u001b[0m\u001b[0marray\u001b[0m\u001b[1;33m(\u001b[0m\u001b[1;33m[\u001b[0m\u001b[1;36m0.447\u001b[0m\u001b[1;33m,\u001b[0m \u001b[1;36m0.894\u001b[0m\u001b[1;33m]\u001b[0m\u001b[1;33m)\u001b[0m\u001b[1;33m\u001b[0m\u001b[1;33m\u001b[0m\u001b[0m\n\u001b[1;32m---> 31\u001b[1;33m \u001b[0mxmin\u001b[0m\u001b[1;33m,\u001b[0m\u001b[0merr\u001b[0m\u001b[1;33m,\u001b[0m\u001b[0mloop\u001b[0m\u001b[1;33m=\u001b[0m\u001b[0mgolden2D\u001b[0m\u001b[1;33m(\u001b[0m\u001b[0mx\u001b[0m\u001b[1;33m,\u001b[0m\u001b[0mdir\u001b[0m\u001b[1;33m,\u001b[0m\u001b[0mTOL\u001b[0m\u001b[1;33m)\u001b[0m\u001b[1;33m\u001b[0m\u001b[1;33m\u001b[0m\u001b[0m\n\u001b[0m\u001b[0;32m     32\u001b[0m \u001b[1;33m\u001b[0m\u001b[0m\n\u001b[0;32m     33\u001b[0m \u001b[0mprint\u001b[0m\u001b[1;33m(\u001b[0m\u001b[0mxmin\u001b[0m\u001b[1;33m,\u001b[0m \u001b[0merr\u001b[0m\u001b[1;33m,\u001b[0m \u001b[0mloop\u001b[0m\u001b[1;33m)\u001b[0m\u001b[1;33m\u001b[0m\u001b[1;33m\u001b[0m\u001b[0m\n",
      "\u001b[1;32m<ipython-input-96-73b982c49593>\u001b[0m in \u001b[0;36mgolden2D\u001b[1;34m(x, dr, TOL)\u001b[0m\n\u001b[0;32m     17\u001b[0m         \u001b[1;32mif\u001b[0m\u001b[1;33m(\u001b[0m\u001b[0mf2\u001b[0m\u001b[1;33m>\u001b[0m\u001b[0mf1\u001b[0m\u001b[1;33m)\u001b[0m\u001b[1;33m:\u001b[0m\u001b[1;33m\u001b[0m\u001b[1;33m\u001b[0m\u001b[0m\n\u001b[0;32m     18\u001b[0m             \u001b[0mb\u001b[0m\u001b[1;33m=\u001b[0m\u001b[0mx2\u001b[0m\u001b[1;33m\u001b[0m\u001b[1;33m\u001b[0m\u001b[0m\n\u001b[1;32m---> 19\u001b[1;33m             \u001b[0mgolden2D\u001b[0m\u001b[1;33m(\u001b[0m\u001b[0mx\u001b[0m\u001b[1;33m,\u001b[0m\u001b[0mdr\u001b[0m\u001b[1;33m,\u001b[0m\u001b[0mTOL\u001b[0m\u001b[1;33m)\u001b[0m\u001b[1;33m\u001b[0m\u001b[1;33m\u001b[0m\u001b[0m\n\u001b[0m\u001b[0;32m     20\u001b[0m         \u001b[1;32melse\u001b[0m\u001b[1;33m:\u001b[0m\u001b[1;33m\u001b[0m\u001b[1;33m\u001b[0m\u001b[0m\n\u001b[0;32m     21\u001b[0m             \u001b[0ma\u001b[0m\u001b[1;33m=\u001b[0m\u001b[0mx1\u001b[0m\u001b[1;33m\u001b[0m\u001b[1;33m\u001b[0m\u001b[0m\n",
      "... last 1 frames repeated, from the frame below ...\n",
      "\u001b[1;32m<ipython-input-96-73b982c49593>\u001b[0m in \u001b[0;36mgolden2D\u001b[1;34m(x, dr, TOL)\u001b[0m\n\u001b[0;32m     17\u001b[0m         \u001b[1;32mif\u001b[0m\u001b[1;33m(\u001b[0m\u001b[0mf2\u001b[0m\u001b[1;33m>\u001b[0m\u001b[0mf1\u001b[0m\u001b[1;33m)\u001b[0m\u001b[1;33m:\u001b[0m\u001b[1;33m\u001b[0m\u001b[1;33m\u001b[0m\u001b[0m\n\u001b[0;32m     18\u001b[0m             \u001b[0mb\u001b[0m\u001b[1;33m=\u001b[0m\u001b[0mx2\u001b[0m\u001b[1;33m\u001b[0m\u001b[1;33m\u001b[0m\u001b[0m\n\u001b[1;32m---> 19\u001b[1;33m             \u001b[0mgolden2D\u001b[0m\u001b[1;33m(\u001b[0m\u001b[0mx\u001b[0m\u001b[1;33m,\u001b[0m\u001b[0mdr\u001b[0m\u001b[1;33m,\u001b[0m\u001b[0mTOL\u001b[0m\u001b[1;33m)\u001b[0m\u001b[1;33m\u001b[0m\u001b[1;33m\u001b[0m\u001b[0m\n\u001b[0m\u001b[0;32m     20\u001b[0m         \u001b[1;32melse\u001b[0m\u001b[1;33m:\u001b[0m\u001b[1;33m\u001b[0m\u001b[1;33m\u001b[0m\u001b[0m\n\u001b[0;32m     21\u001b[0m             \u001b[0ma\u001b[0m\u001b[1;33m=\u001b[0m\u001b[0mx1\u001b[0m\u001b[1;33m\u001b[0m\u001b[1;33m\u001b[0m\u001b[0m\n",
      "\u001b[1;31mRecursionError\u001b[0m: maximum recursion depth exceeded while calling a Python object"
     ]
    }
   ],
   "source": [
    "def func(x): \n",
    "    return 100*(x[1]-x[0]**2)**2+(1-x[0])**2\n",
    "    \n",
    "def golden2D(x,dr,TOL): \n",
    "    R,err,loop=0.61803399,10,-1\n",
    "    grad =([-400*x[0]*(x[1]-x[0]**2)-2*(1-x[0]), 200*(x[1]-x[0]**2)])\n",
    "    A    = np.abs(grad)\n",
    "    dr   = grad/A\n",
    "    a= x-dr\n",
    "    b= x+dr\n",
    "    while(err > TOL):\n",
    "        loop += 1\n",
    "        x1= b-R*(b-a) \n",
    "        x2= a+R*(b-a) \n",
    "        f1=func(x1) \n",
    "        f2=func(x2) \n",
    "        if(f2>f1): \n",
    "            b=x2\n",
    "            golden2D(x,dr,TOL)\n",
    "        else: \n",
    "            a=x1 \n",
    "            golden2D(x,dr,TOL)\n",
    "        err=sum((a-b)**2) \n",
    "        err=np.sqrt(err) \n",
    "    xmin=a \n",
    "    return xmin,err,loop\n",
    "\n",
    "TOL=1.e-5 \n",
    "x=np.array([-2,2]) \n",
    "dir=np.array([0.447, 0.894]) \n",
    "xmin,err,loop=golden2D(x,dir,TOL)\n",
    "\n",
    "print(xmin, err, loop)"
   ]
  },
  {
   "cell_type": "code",
   "execution_count": null,
   "metadata": {},
   "outputs": [],
   "source": []
  }
 ],
 "metadata": {
  "kernelspec": {
   "display_name": "Python 3",
   "language": "python",
   "name": "python3"
  },
  "language_info": {
   "codemirror_mode": {
    "name": "ipython",
    "version": 3
   },
   "file_extension": ".py",
   "mimetype": "text/x-python",
   "name": "python",
   "nbconvert_exporter": "python",
   "pygments_lexer": "ipython3",
   "version": "3.7.2"
  }
 },
 "nbformat": 4,
 "nbformat_minor": 2
}
