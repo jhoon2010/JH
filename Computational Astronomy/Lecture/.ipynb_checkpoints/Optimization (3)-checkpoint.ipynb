{
 "cells": [
  {
   "cell_type": "markdown",
   "metadata": {},
   "source": [
    "# Optimization 3"
   ]
  },
  {
   "cell_type": "code",
   "execution_count": 1,
   "metadata": {},
   "outputs": [],
   "source": [
    "import numpy as np\n",
    "import matplotlib.pyplot as plt"
   ]
  },
  {
   "cell_type": "code",
   "execution_count": 2,
   "metadata": {},
   "outputs": [],
   "source": [
    "def f(x):\n",
    "    return 2 * x[0]**2 + x[1]**2 - 2 * x[0] * x[1] + np.abs(x[0] - 3) + np.abs(x[1] - 2)"
   ]
  },
  {
   "cell_type": "code",
   "execution_count": 3,
   "metadata": {},
   "outputs": [],
   "source": [
    "def golden2D(f, x, dr, TOL):\n",
    "    R,err,loop=0.61803399,10,-1 \n",
    "    a= x-dr \n",
    "    b= x+dr \n",
    "    while(err > TOL): \n",
    "        loop += 1 \n",
    "        x1= b-R*(b-a) \n",
    "        x2= a+R*(b-a) \n",
    "        f1=f(x1) \n",
    "        f2=f(x2) \n",
    "        if(f2>f1): b=x2 \n",
    "        else: a=x1 \n",
    "        err = sum((a-b)**2)\n",
    "        err = np.sqrt(err)\n",
    "    xmin=a \n",
    "    return xmin"
   ]
  },
  {
   "cell_type": "code",
   "execution_count": 4,
   "metadata": {},
   "outputs": [
    {
     "data": {
      "text/plain": [
       "array([0.24999531, 0.        ])"
      ]
     },
     "execution_count": 4,
     "metadata": {},
     "output_type": "execute_result"
    }
   ],
   "source": [
    "xini = np.array([0,0])\n",
    "dr1  = np.array([1,0])\n",
    "TOL  = 10**-5\n",
    "golden2D(f, xini,dr1,TOL)"
   ]
  },
  {
   "cell_type": "code",
   "execution_count": 10,
   "metadata": {},
   "outputs": [],
   "source": [
    "def powell(f, xini,dr1,dr2,TOL, cnt):\n",
    "    x1 = golden2D(f, xini,dr1,TOL)\n",
    "    x2 = golden2D(f, x1, dr2, TOL)\n",
    "    dr_new = x2-xini\n",
    "    amp   = np.sqrt(dr_new[0]**2+dr_new[0]**2)\n",
    "    dr_new = dr_new / amp\n",
    "    x3 = golden2D(f, xini, dr_new, TOL)\n",
    "    err = np.sqrt((x3[0]-xini[0])**2+(x3[1]-xini[1])**2)\n",
    "    if(err < TOL):\n",
    "        print(x3, cnt)\n",
    "        return 0\n",
    "    xini = x3\n",
    "    dr1  = dr2\n",
    "    dr2  = dr_new\n",
    "    cnt  = cnt + 1\n",
    "    powell(f, x3, dr1, dr2, TOL, cnt)"
   ]
  },
  {
   "cell_type": "code",
   "execution_count": 11,
   "metadata": {},
   "outputs": [
    {
     "name": "stdout",
     "output_type": "stream",
     "text": [
      "[0.99999885 1.50000248] 3\n"
     ]
    }
   ],
   "source": [
    "xini = np.array([0,0])\n",
    "dr1  = np.array([1,0])\n",
    "dr2  = np.array([0,1])\n",
    "TOL  = 10**(-5)\n",
    "powell(f, xini,dr1,dr2,TOL,1)"
   ]
  },
  {
   "cell_type": "code",
   "execution_count": 39,
   "metadata": {},
   "outputs": [],
   "source": [
    "def g(x):\n",
    "    return 100*(x[1] - x[0]**2)**2+(1-x[0])**2"
   ]
  },
  {
   "cell_type": "code",
   "execution_count": 13,
   "metadata": {},
   "outputs": [
    {
     "name": "stdout",
     "output_type": "stream",
     "text": [
      "[0.99999512 0.999989  ] 13\n"
     ]
    }
   ],
   "source": [
    "xini = np.array([-2,2])\n",
    "dr1  = np.array([1,0])\n",
    "dr2  = np.array([0,1])\n",
    "TOL  = 10**(-5)\n",
    "powell(g, xini,dr1,dr2,TOL,1)"
   ]
  },
  {
   "cell_type": "code",
   "execution_count": 51,
   "metadata": {},
   "outputs": [],
   "source": [
    "def gradf(x):\n",
    "    return np.array([4*x[0]-2*x[1]-1,2*x[1]-2*x[0]-1])"
   ]
  },
  {
   "cell_type": "code",
   "execution_count": 70,
   "metadata": {},
   "outputs": [],
   "source": [
    "def con(f, gradf, xini,dr1,TOL, cnt):\n",
    "    dr1 = gradf(xini)\n",
    "    amp = np.sqrt(dr1[0]**2+dr1[1]**2)\n",
    "    dr1 = gradf(xini)/amp\n",
    "    x1  = golden2D(f, xini, dr1,TOL)\n",
    "    lam = (np.sum(gradf(x1)[0]**2+gradf(x1)[1]**2))/(np.sum(gradf(xini)[0]**2+gradf(xini)[1]**2))\n",
    "    dr2 = np.array([gradf(x1)[0] + lam * dr1[0],gradf(x1)[1] + lam * dr1[1]])\n",
    "    amp = np.sqrt(dr2[0]**2+dr2[1]**2)\n",
    "    dr2 = dr2 / amp\n",
    "    x2  = golden2D(f, x1, dr2, TOL)\n",
    "    err = np.sqrt((x2[0]-x1[0])**2+(x2[1]-x1[1])**2)\n",
    "    print(err)\n",
    "    if(err < TOL):\n",
    "        print(x2, cnt)\n",
    "        return 0\n",
    "    x1  = x2\n",
    "    dr1 = dr2\n",
    "    cnt = cnt +1\n",
    "    con(f, gradf, x1, dr1, TOL, cnt)"
   ]
  },
  {
   "cell_type": "code",
   "execution_count": 77,
   "metadata": {
    "scrolled": true
   },
   "outputs": [
    {
     "name": "stdout",
     "output_type": "stream",
     "text": [
      "0.5000000503364121\n",
      "0.25671994659800823\n",
      "0.04818411670201568\n",
      "0.0007443934049389945\n",
      "5.9069723957403825e-05\n",
      "2.8873323816323317e-05\n",
      "1.327902781251256e-05\n",
      "6.5154662781545644e-06\n",
      "3.1336855410138936e-06\n",
      "1.5511672789140455e-06\n",
      "7.898614755634964e-07\n",
      "3.7925524925006747e-07\n",
      "1.8539328531819973e-07\n",
      "6.558000187312437e-08\n",
      "[0.99984857 1.49969806] 14\n"
     ]
    }
   ],
   "source": [
    "xini = np.array([0,0])\n",
    "dr1  = np.array([1,0])\n",
    "TOL  = 10**(-7)\n",
    "cnt  = 1\n",
    "con(f,gradf,xini,dr1,TOL,cnt)"
   ]
  },
  {
   "cell_type": "code",
   "execution_count": 72,
   "metadata": {},
   "outputs": [],
   "source": [
    "def gradg(x):\n",
    "    return np.array([-400*x[0]*(x[1]-x[0]**2)-2*(1-x[0]),200*(x[1]-x[0]**2)])"
   ]
  },
  {
   "cell_type": "code",
   "execution_count": 74,
   "metadata": {
    "scrolled": false
   },
   "outputs": [
    {
     "name": "stdout",
     "output_type": "stream",
     "text": [
      "0.06982825434279906\n",
      "0.37657164367857787\n",
      "0.05556141273891598\n",
      "0.053094124756276\n",
      "0.05298862300358154\n",
      "0.05363157715760129\n",
      "0.05452919918000472\n",
      "0.05551658929120773\n",
      "0.05653368848908909\n",
      "0.05755475379807783\n",
      "0.058566646018714405\n",
      "0.05956039317641904\n",
      "0.060523798249046065\n",
      "0.0614413878837479\n",
      "0.06229365531776457\n",
      "0.06303878867475608\n",
      "0.06360498902496613\n",
      "0.0638252488777772\n",
      "0.06322642442314286\n",
      "0.0597064673019473\n",
      "0.031712660154975515\n",
      "0.00046546496658084814\n",
      "2.3525976835128826e-08\n",
      "2.944979324031164e-11\n",
      "[0.99994925 0.9998981 ] 24\n"
     ]
    }
   ],
   "source": [
    "xini = np.array([-1,-0.5])\n",
    "dr1  = np.array([1,0])\n",
    "TOL  = 10**(-10)\n",
    "cnt  = 1\n",
    "con(g,gradg,xini,dr1,TOL,cnt)"
   ]
  },
  {
   "cell_type": "code",
   "execution_count": null,
   "metadata": {},
   "outputs": [],
   "source": []
  },
  {
   "cell_type": "code",
   "execution_count": null,
   "metadata": {},
   "outputs": [],
   "source": [
    "ii"
   ]
  }
 ],
 "metadata": {
  "kernelspec": {
   "display_name": "Python 3",
   "language": "python",
   "name": "python3"
  },
  "language_info": {
   "codemirror_mode": {
    "name": "ipython",
    "version": 3
   },
   "file_extension": ".py",
   "mimetype": "text/x-python",
   "name": "python",
   "nbconvert_exporter": "python",
   "pygments_lexer": "ipython3",
   "version": "3.7.2"
  }
 },
 "nbformat": 4,
 "nbformat_minor": 2
}
