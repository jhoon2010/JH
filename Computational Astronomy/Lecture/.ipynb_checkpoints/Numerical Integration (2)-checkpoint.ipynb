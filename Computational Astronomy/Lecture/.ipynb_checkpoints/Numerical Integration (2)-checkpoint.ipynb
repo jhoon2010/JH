{
 "cells": [
  {
   "cell_type": "markdown",
   "metadata": {},
   "source": [
    "# Numerical integration"
   ]
  },
  {
   "cell_type": "code",
   "execution_count": 2,
   "metadata": {},
   "outputs": [],
   "source": [
    "import numpy as np\n",
    "import matplotlib.pyplot as plt"
   ]
  },
  {
   "cell_type": "code",
   "execution_count": 11,
   "metadata": {},
   "outputs": [
    {
     "name": "stdout",
     "output_type": "stream",
     "text": [
      "0 -0.932469514203152 0.17132449237916975\n",
      "1 -0.6612093864662645 0.36076157304813894\n",
      "2 -0.23861918608319693 0.46791393457269137\n",
      "3 0.23861918608319693 0.46791393457269137\n",
      "4 0.6612093864662645 0.36076157304813894\n",
      "5 0.932469514203152 0.17132449237916975\n"
     ]
    }
   ],
   "source": [
    "deg=6\n",
    "x,w=np.polynomial.legendre.leggauss(deg)\n",
    "for i in range(6):\n",
    "    print (i,x[i],w[i])"
   ]
  },
  {
   "cell_type": "code",
   "execution_count": 13,
   "metadata": {},
   "outputs": [
    {
     "name": "stdout",
     "output_type": "stream",
     "text": [
      "1\n",
      "2\n",
      "4\n",
      "8\n",
      "16\n",
      "1.682941969615793\n"
     ]
    }
   ],
   "source": [
    "a, b=-1, 1\n",
    "for i in range(0,5):\n",
    "    n=2**i\n",
    "    x,w=np.polynomial.legendre.leggauss(n)\n",
    "    gauss=0\n",
    "    for j in range(0,n):\n",
    "        gauss+=w[j]*np.cos(x[j])\n",
    "\n",
    "print(gauss)"
   ]
  },
  {
   "cell_type": "code",
   "execution_count": 3,
   "metadata": {},
   "outputs": [
    {
     "data": {
      "text/plain": [
       "(1.6829419696157932, 1.8684409237754643e-14)"
      ]
     },
     "execution_count": 3,
     "metadata": {},
     "output_type": "execute_result"
    }
   ],
   "source": [
    "from scipy import integrate\n",
    "f = lambda x : np.cos(x)\n",
    "integrate.quad(f, -1, 1)"
   ]
  },
  {
   "cell_type": "code",
   "execution_count": 48,
   "metadata": {},
   "outputs": [
    {
     "name": "stdout",
     "output_type": "stream",
     "text": [
      "0.19225935773279604\n"
     ]
    }
   ],
   "source": [
    "a=1\n",
    "b=1.5\n",
    "f=lambda x: x**2*np.log(x)\n",
    "\n",
    "for i in range(0,5):\n",
    "    n=2**i\n",
    "    x,w=np.polynomial.legendre.leggauss(n)\n",
    "    gauss=0\n",
    "    for j in range(0,n):\n",
    "            gauss+=w[j]*(f(((b+a)+x[j]*(b-a))*0.5))*0.25\n",
    "    \n",
    "print(gauss)"
   ]
  },
  {
   "cell_type": "code",
   "execution_count": 52,
   "metadata": {},
   "outputs": [
    {
     "name": "stdout",
     "output_type": "stream",
     "text": [
      "0.7468241328124271\n"
     ]
    }
   ],
   "source": [
    "a=0\n",
    "b=1\n",
    "f=lambda x: np.exp(-x**2)\n",
    "\n",
    "for i in range(0,5):\n",
    "    n=2**i\n",
    "    x,w=np.polynomial.legendre.leggauss(n)\n",
    "    gauss=0\n",
    "    for j in range(0,n):\n",
    "        gauss+=w[j]*(f(((b+a)+x[j]*(b-a))*0.5))*(b-a)*0.5\n",
    "        \n",
    "print(gauss)"
   ]
  },
  {
   "cell_type": "code",
   "execution_count": 53,
   "metadata": {},
   "outputs": [
    {
     "name": "stdout",
     "output_type": "stream",
     "text": [
      "-0.8201429362824724\n"
     ]
    }
   ],
   "source": [
    "a=0\n",
    "b=1\n",
    "f=lambda x: np.log(x)/(1+x)\n",
    "\n",
    "for i in range(0,5):\n",
    "    n=2**i\n",
    "    x,w=np.polynomial.legendre.leggauss(n)\n",
    "    gauss=0\n",
    "    for j in range(0,n):\n",
    "        gauss+=w[j]*(f(((b+a)+x[j]*(b-a))*0.5))*(b-a)*0.5\n",
    "        \n",
    "print(gauss)"
   ]
  },
  {
   "cell_type": "code",
   "execution_count": 87,
   "metadata": {},
   "outputs": [
    {
     "name": "stderr",
     "output_type": "stream",
     "text": [
      "c:\\users\\jhoon\\appdata\\local\\programs\\python\\python37\\lib\\site-packages\\ipykernel_launcher.py:3: RuntimeWarning: overflow encountered in exp\n",
      "  This is separate from the ipykernel package so we can avoid doing imports until\n"
     ]
    },
    {
     "name": "stdout",
     "output_type": "stream",
     "text": [
      "6.269134214250238\n"
     ]
    }
   ],
   "source": [
    "a=1\n",
    "b=2000\n",
    "f=lambda x: x**3/(np.exp(x)-1)\n",
    "\n",
    "for i in range(0,10):\n",
    "    n=2**i\n",
    "    x,w=np.polynomial.legendre.leggauss(n)\n",
    "    gauss=0\n",
    "    for j in range(0,n):\n",
    "        gauss+=w[j]*(f(((b+a)+x[j]*(b-a))*0.5))*(b-a)*0.5\n",
    "        \n",
    "print(gauss)"
   ]
  },
  {
   "cell_type": "code",
   "execution_count": null,
   "metadata": {},
   "outputs": [],
   "source": []
  },
  {
   "cell_type": "code",
   "execution_count": null,
   "metadata": {},
   "outputs": [],
   "source": []
  }
 ],
 "metadata": {
  "kernelspec": {
   "display_name": "Python 3",
   "language": "python",
   "name": "python3"
  },
  "language_info": {
   "codemirror_mode": {
    "name": "ipython",
    "version": 3
   },
   "file_extension": ".py",
   "mimetype": "text/x-python",
   "name": "python",
   "nbconvert_exporter": "python",
   "pygments_lexer": "ipython3",
   "version": "3.7.2"
  }
 },
 "nbformat": 4,
 "nbformat_minor": 2
}
