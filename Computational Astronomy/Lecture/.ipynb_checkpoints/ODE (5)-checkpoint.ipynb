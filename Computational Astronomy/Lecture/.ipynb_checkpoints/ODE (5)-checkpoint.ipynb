{
 "cells": [
  {
   "cell_type": "code",
   "execution_count": 1,
   "metadata": {},
   "outputs": [],
   "source": [
    "import numpy as np\n",
    "import matplotlib.pyplot as plt\n",
    "from scipy.integrate import odeint"
   ]
  },
  {
   "cell_type": "code",
   "execution_count": 27,
   "metadata": {},
   "outputs": [
    {
     "name": "stdout",
     "output_type": "stream",
     "text": [
      "1.5709999999999378\n",
      "1.5071712574858773\n",
      "-0.0427120550845313\n",
      "-0.08113924117524911\n",
      "0.0025512774972352307\n",
      "-4.5885931055507714e-05\n",
      "7.778267370624724e-08\n",
      "0.2529487404319547\n"
     ]
    }
   ],
   "source": [
    "tol    = 10**(-10)\n",
    "A1, A2 = 0, 0.01\n",
    "Bsol   = 0\n",
    "err    = 100\n",
    "\n",
    "def int(A):\n",
    "    x    = 0\n",
    "    xmax = 0.5 * np.pi\n",
    "    y    = 0\n",
    "    vy   = 1\n",
    "    dx   = 0.001\n",
    "    vy   = vy + 0.5 * (-1) * A * A * y\n",
    "    while(x <= xmax):\n",
    "        y  = y + vy * dx\n",
    "        vy = vy + (-1) * A * A * y\n",
    "        x = x + dx\n",
    "    return y\n",
    "\n",
    "def intplot(A):\n",
    "    x    = 0\n",
    "    xmax = 0.5 * np.pi\n",
    "    y    = 0\n",
    "    vy   = 1\n",
    "    dx   = 0.001\n",
    "    vy   = vy + 0.5 * (-1) * A * A * y\n",
    "    xlist, ylist = [], []\n",
    "    while(x <= xmax):\n",
    "        xlist.append(x)\n",
    "        ylist.append(y)\n",
    "        y  = y + vy * dx\n",
    "        vy = vy + (-1) * A * A * y\n",
    "        x = x + dx\n",
    "    return xlist, ylist\n",
    "\n",
    "\n",
    "while(np.abs(err) > tol):\n",
    "    B1  = integrate(A1)\n",
    "    print(B1)\n",
    "    B2  = integrate(A2)\n",
    "    err = Bsol - B2\n",
    "    if(np.abs(err) > tol):\n",
    "        yp = A2 + (A2 - A1)/(B2 - B1) * err\n",
    "        A1 = A2\n",
    "        A2 = yp\n",
    "    else:\n",
    "        print(yp)\n",
    "        \n",
    "xlist, ylist = intplot(yp)"
   ]
  },
  {
   "cell_type": "code",
   "execution_count": 28,
   "metadata": {},
   "outputs": [
    {
     "data": {
      "text/plain": [
       "[<matplotlib.lines.Line2D at 0x24b26a67748>]"
      ]
     },
     "execution_count": 28,
     "metadata": {},
     "output_type": "execute_result"
    },
    {
     "data": {
      "image/png": "[encoded data removed]",
      "text/plain": [
       "<Figure size 432x288 with 1 Axes>"
      ]
     },
     "metadata": {
      "needs_background": "light"
     },
     "output_type": "display_data"
    }
   ],
   "source": [
    "plt.plot(xlist, ylist)"
   ]
  },
  {
   "cell_type": "code",
   "execution_count": null,
   "metadata": {},
   "outputs": [],
   "source": []
  }
 ],
 "metadata": {
  "kernelspec": {
   "display_name": "Python 3",
   "language": "python",
   "name": "python3"
  }
 },
 "nbformat": 4,
 "nbformat_minor": 2
}
