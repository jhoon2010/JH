{
 "cells": [
  {
   "cell_type": "code",
   "execution_count": 1,
   "metadata": {},
   "outputs": [],
   "source": [
    "import numpy as np\n",
    "import matplotlib.pyplot as plt"
   ]
  },
  {
   "cell_type": "code",
   "execution_count": 2,
   "metadata": {},
   "outputs": [],
   "source": [
    "def g(y): # 중력가속도에 대한 함수\n",
    "    return 9.8 / (1 + y / 6400000)**2\n",
    "\n",
    "def rho(y): # 공기 밀도에 대한 함수\n",
    "    return 10**(-0.05 * y + 0.11)"
   ]
  },
  {
   "cell_type": "code",
   "execution_count": 3,
   "metadata": {
    "scrolled": false
   },
   "outputs": [
    {
     "name": "stdout",
     "output_type": "stream",
     "text": [
      "2956.3 (s) 8935.3 (km)\n"
     ]
    },
    {
     "data": {
      "text/plain": [
       "[<matplotlib.lines.Line2D at 0x1b6f49eea20>]"
      ]
     },
     "execution_count": 3,
     "metadata": {},
     "output_type": "execute_result"
    },
    {
     "data": {
      "image/png": "[encoded data removed]",
      "text/plain": [
       "<Figure size 432x288 with 1 Axes>"
      ]
     },
     "metadata": {
      "needs_background": "light"
     },
     "output_type": "display_data"
    }
   ],
   "source": [
    "# 변수 및 상수 입력\n",
    "r = 0.2\n",
    "C = 0.2\n",
    "t = 0\n",
    "y = 0\n",
    "u = 4000\n",
    "v = 0\n",
    "m = 100000\n",
    "alpha = 900\n",
    "dt = 0.1\n",
    "tlist, ylist = [], []\n",
    "\n",
    "# 미분 방정식 첫 번째 step\n",
    "dv = ((-1) * g(y) + u * alpha / m - 0.5 * C * rho(y) * np.pi * (r**2) * (v**2) / m) * dt\n",
    "dy = v * dt\n",
    "dm = (-1) * alpha * dt\n",
    "v = v + dv\n",
    "y = y + dy\n",
    "m = m + dm\n",
    "t = t + dt\n",
    "\n",
    "# 미분 방정식 풀이\n",
    "while(t <= 100): # 연료 완전 소진 전\n",
    "    tlist.append(t)\n",
    "    ylist.append(y)\n",
    "    dv = ((-1) * g(y) + u * alpha / m - 0.5 * C * rho(y) * np.pi * (r**2) * (v**2) / m) * dt\n",
    "    v = v + dv\n",
    "    dy = v * dt\n",
    "    y = y + dy\n",
    "    m = m + dm\n",
    "    t = t + dt\n",
    "while(v >= 0): # 연료 완전 소진 후\n",
    "    tlist.append(t)\n",
    "    ylist.append(y)\n",
    "    dv = ((-1) * g(y) - 0.5 * C * rho(y) * np.pi * (r**2) * (v**2) / m) * dt\n",
    "    v = v + dv\n",
    "    dy = v * dt\n",
    "    y = y + dy\n",
    "    t = t + dt\n",
    "\n",
    "print('{0:.1f} (s) {1:.1f} (km)'. format(t, y / 1000)) # 최고점 높이 및 도달 시간 출력\n",
    "plt.plot(tlist, ylist)"
   ]
  },
  {
   "cell_type": "code",
   "execution_count": null,
   "metadata": {},
   "outputs": [],
   "source": []
  }
 ],
 "metadata": {
  "kernelspec": {
   "display_name": "Python 3",
   "language": "python",
   "name": "python3"
  },
  "language_info": {
   "codemirror_mode": {
    "name": "ipython",
    "version": 3
   },
   "file_extension": ".py",
   "mimetype": "text/x-python",
   "name": "python",
   "nbconvert_exporter": "python",
   "pygments_lexer": "ipython3",
   "version": "3.7.2"
  }
 },
 "nbformat": 4,
 "nbformat_minor": 2
}
