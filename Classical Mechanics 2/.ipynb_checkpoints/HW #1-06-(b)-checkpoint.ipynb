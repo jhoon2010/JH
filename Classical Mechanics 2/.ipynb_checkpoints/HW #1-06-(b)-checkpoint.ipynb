{
 "cells": [
  {
   "cell_type": "code",
   "execution_count": 1,
   "metadata": {},
   "outputs": [],
   "source": [
    "import numpy as np\n",
    "import matplotlib.pyplot as plt"
   ]
  },
  {
   "cell_type": "code",
   "execution_count": 2,
   "metadata": {
    "scrolled": false
   },
   "outputs": [
    {
     "name": "stdout",
     "output_type": "stream",
     "text": [
      "412.2 s, 949.3 km\n"
     ]
    },
    {
     "data": {
      "text/plain": [
       "[<matplotlib.lines.Line2D at 0x29cd1dee828>]"
      ]
     },
     "execution_count": 2,
     "metadata": {},
     "output_type": "execute_result"
    },
    {
     "data": {
      "image/png": "[encoded data removed]",
      "text/plain": [
       "<Figure size 432x288 with 1 Axes>"
      ]
     },
     "metadata": {
      "needs_background": "light"
     },
     "output_type": "display_data"
    }
   ],
   "source": [
    "# 변수 및 상수 입력\n",
    "r = 0.2\n",
    "C = 0.2\n",
    "rho = 1.3\n",
    "t = 0\n",
    "y = 0\n",
    "u = 4000\n",
    "v = 0\n",
    "m = 100000\n",
    "alpha = 900\n",
    "dt = 0.1\n",
    "g = 9.8\n",
    "tlist, ylist = [], []\n",
    "\n",
    "# 미분 방정식 첫 번째 step\n",
    "dv = ((-1) * g + u * alpha / m - 0.5 * C * rho * np.pi * (r**2) * (v**2) / m) * dt\n",
    "dy = v * dt\n",
    "dm = (-1) * alpha * dt\n",
    "v = v + dv\n",
    "y = y + dy\n",
    "m = m + dm\n",
    "t = t + dt\n",
    "\n",
    "# 미분 방정식 풀이\n",
    "while(t <= 100): # 연료 완전 소진 전\n",
    "    tlist.append(t)\n",
    "    ylist.append(y)\n",
    "    dv = ((-1) * g + u * alpha / m - 0.5 * C * rho * np.pi * (r**2) * (v**2) / m) * dt\n",
    "    v = v + dv\n",
    "    dy = v * dt\n",
    "    y = y + dy\n",
    "    m = m + dm\n",
    "    t = t + dt\n",
    "while(v >= 0): # 연료 완전 소진 후\n",
    "    tlist.append(t)\n",
    "    ylist.append(y)\n",
    "    dv = ((-1) * g - 0.5 * C * rho * np.pi * (r**2) * (v**2) / m) * dt\n",
    "    v = v + dv\n",
    "    dy = v * dt\n",
    "    y = y + dy\n",
    "    t = t + dt\n",
    "\n",
    "print('{0:.1f} s, {1:.1f} km'. format(t, y / 1000)) # 최고점 높이 및 도달 시간 출력\n",
    "plt.plot(tlist, ylist)"
   ]
  }
 ],
 "metadata": {
  "kernelspec": {
   "display_name": "Python 3",
   "language": "python",
   "name": "python3"
  },
  "language_info": {
   "codemirror_mode": {
    "name": "ipython",
    "version": 3
   },
   "file_extension": ".py",
   "mimetype": "text/x-python",
   "name": "python",
   "nbconvert_exporter": "python",
   "pygments_lexer": "ipython3",
   "version": "3.7.2"
  }
 },
 "nbformat": 4,
 "nbformat_minor": 2
}
