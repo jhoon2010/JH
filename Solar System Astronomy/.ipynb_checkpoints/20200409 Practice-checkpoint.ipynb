{
 "cells": [
  {
   "cell_type": "markdown",
   "metadata": {},
   "source": [
    "# 2018-11798 Park Jeong Hoon"
   ]
  },
  {
   "cell_type": "code",
   "execution_count": 1,
   "metadata": {},
   "outputs": [],
   "source": [
    "import numpy as np"
   ]
  },
  {
   "cell_type": "code",
   "execution_count": 2,
   "metadata": {},
   "outputs": [],
   "source": [
    "# Question 1"
   ]
  },
  {
   "cell_type": "code",
   "execution_count": 3,
   "metadata": {},
   "outputs": [],
   "source": [
    "import datetime\n",
    "import math\n",
    "\n",
    "def get_julian(date):\n",
    "    julian_datetime = 367 * date.year - int((7 * (date.year + int((date.month + 9) / 12.0))) / 4.0) + int(\n",
    "        (275 * date.month) / 9.0) + date.day + 1721013.5 + (\n",
    "                          date.hour + date.minute / 60.0 + date.second / math.pow(60,\n",
    "                                                                                  2)) / 24.0 - 0.5 * math.copysign(\n",
    "        1, 100 * date.year + date.month - 190002.5) + 0.5\n",
    "\n",
    "    return julian_datetime"
   ]
  },
  {
   "cell_type": "code",
   "execution_count": 4,
   "metadata": {},
   "outputs": [
    {
     "data": {
      "text/plain": [
       "2458948.625"
      ]
     },
     "execution_count": 4,
     "metadata": {},
     "output_type": "execute_result"
    }
   ],
   "source": [
    "# KST = GMT + 9\n",
    "# therefore, 2020/04/09 12:00 KST = 2020/04/09 03:00 GMT\n",
    "example_datetime = datetime.datetime(2020, 4, 9, 3, 0, 0)\n",
    "get_julian(example_datetime)"
   ]
  },
  {
   "cell_type": "code",
   "execution_count": 5,
   "metadata": {},
   "outputs": [],
   "source": [
    "# Question 2"
   ]
  },
  {
   "cell_type": "code",
   "execution_count": 6,
   "metadata": {},
   "outputs": [
    {
     "name": "stdout",
     "output_type": "stream",
     "text": [
      "51.89099999982864\n"
     ]
    }
   ],
   "source": [
    "t1 = datetime.datetime(2020,4,9,3,0,0) # 2020/04/09 12:00 KST\n",
    "t2 = datetime.datetime(2020,5,31,0,0,0)\n",
    "g1 = get_julian(t1)\n",
    "g2 = get_julian(t2) + 0.016\n",
    "print(g2-g1)"
   ]
  },
  {
   "cell_type": "code",
   "execution_count": 7,
   "metadata": {},
   "outputs": [],
   "source": [
    "# Question 3"
   ]
  },
  {
   "cell_type": "code",
   "execution_count": 8,
   "metadata": {},
   "outputs": [],
   "source": [
    "e = 0.99924\n",
    "T = 2235806.378 # period\n",
    "Tp = 2459000.515404234206 # time of perihelion passage\n",
    "t = get_julian(t1)"
   ]
  },
  {
   "cell_type": "code",
   "execution_count": 9,
   "metadata": {},
   "outputs": [
    {
     "data": {
      "text/plain": [
       "-0.00836"
      ]
     },
     "execution_count": 9,
     "metadata": {},
     "output_type": "execute_result"
    }
   ],
   "source": [
    "# Mean anomaly\n",
    "n = 360 / T # degree / day\n",
    "M = n * (t - Tp) # degree\n",
    "round(M, 5)"
   ]
  },
  {
   "cell_type": "code",
   "execution_count": 10,
   "metadata": {},
   "outputs": [],
   "source": [
    "M = M * np.pi / 180 # convert to radian"
   ]
  },
  {
   "cell_type": "code",
   "execution_count": 11,
   "metadata": {},
   "outputs": [
    {
     "name": "stdout",
     "output_type": "stream",
     "text": [
      "-4.58053290254352\n"
     ]
    }
   ],
   "source": [
    "# Solving Kepler's equation\n",
    "TOL = 10**(-10)\n",
    "err = 1\n",
    "E = 1\n",
    "while(err > TOL):\n",
    "    x = E\n",
    "    E = x - (x - e * np.sin(x) - M)/(1 - e * np.cos(x))\n",
    "    err = np.abs(x - E)\n",
    "print(E * 180 / np.pi)"
   ]
  },
  {
   "cell_type": "code",
   "execution_count": 12,
   "metadata": {},
   "outputs": [],
   "source": [
    "E = E * 180 / np.pi"
   ]
  },
  {
   "cell_type": "code",
   "execution_count": 13,
   "metadata": {},
   "outputs": [
    {
     "data": {
      "text/plain": [
       "-4.58"
      ]
     },
     "execution_count": 13,
     "metadata": {},
     "output_type": "execute_result"
    }
   ],
   "source": [
    "round(E, 2) # deg"
   ]
  },
  {
   "cell_type": "code",
   "execution_count": 14,
   "metadata": {},
   "outputs": [],
   "source": [
    "# Question 4"
   ]
  },
  {
   "cell_type": "code",
   "execution_count": 17,
   "metadata": {},
   "outputs": [],
   "source": [
    "E = E * np.pi / 180 # conver to radian"
   ]
  },
  {
   "cell_type": "code",
   "execution_count": 18,
   "metadata": {
    "scrolled": true
   },
   "outputs": [],
   "source": [
    "a = 334.6992523709083\n",
    "omg = (177.4076145113976) * np.pi / 180\n",
    "i = (45.38415667539778) * np.pi / 180\n",
    "OMG = (120.5723476981771) * np.pi / 180\n",
    "cf = (np.cos(E) - e)/(1 - e * np.cos(E))\n",
    "f = 2 * np.pi - np.arccos(cf) # true anomaly [rad]"
   ]
  },
  {
   "cell_type": "code",
   "execution_count": 19,
   "metadata": {},
   "outputs": [
    {
     "name": "stdout",
     "output_type": "stream",
     "text": [
      "1.32256506911943\n"
     ]
    }
   ],
   "source": [
    "r = a * (1 - e**2) / (1 + e * cf)\n",
    "print(r)"
   ]
  },
  {
   "cell_type": "code",
   "execution_count": 20,
   "metadata": {},
   "outputs": [],
   "source": [
    "P1 = np.array([[np.cos(omg), (-1)*np.sin(omg), 0],[np.sin(omg), np.cos(omg),0],[0,0,1]])\n",
    "P2 = np.array([[1,0,0],[0,np.cos(i),(-1)*np.sin(i)],[0,np.sin(i),np.cos(i)]])\n",
    "P3 = np.array([[np.cos(OMG),(-1)*np.sin(OMG),0],[np.sin(OMG),np.cos(OMG),0],[0,0,1]])"
   ]
  },
  {
   "cell_type": "code",
   "execution_count": 21,
   "metadata": {},
   "outputs": [
    {
     "name": "stdout",
     "output_type": "stream",
     "text": [
      "[-0.81463465 -1.04189671  0.        ]\n",
      "[-1.04501332  0.38259004  0.71466802]\n"
     ]
    }
   ],
   "source": [
    "R = np.array([r * np.cos(f), r * np.sin(f), 0])\n",
    "print(R)\n",
    "SOL = P1.dot(R)\n",
    "SOL = P2.dot(SOL)\n",
    "SOL = P3.dot(SOL)\n",
    "print(SOL)"
   ]
  },
  {
   "cell_type": "code",
   "execution_count": 22,
   "metadata": {
    "scrolled": false
   },
   "outputs": [
    {
     "name": "stdout",
     "output_type": "stream",
     "text": [
      "-1.0450133222582425 0.3825900421095564 0.7146680194581825\n"
     ]
    }
   ],
   "source": [
    "X = r * (np.cos(OMG) * np.cos(omg + f) - np.sin(OMG) * np.sin(omg + f) * np.cos(i))\n",
    "Y = r * (np.sin(OMG) * np.cos(omg + f) + np.cos(OMG) * np.sin(omg + f) * np.cos(i))\n",
    "Z = r * (np.sin(omg + f) * np.sin(i))\n",
    "print(X,Y,Z)"
   ]
  }
 ],
 "metadata": {
  "kernelspec": {
   "display_name": "Python 3",
   "language": "python",
   "name": "python3"
  },
  "language_info": {
   "codemirror_mode": {
    "name": "ipython",
    "version": 3
   },
   "file_extension": ".py",
   "mimetype": "text/x-python",
   "name": "python",
   "nbconvert_exporter": "python",
   "pygments_lexer": "ipython3",
   "version": "3.7.2"
  }
 },
 "nbformat": 4,
 "nbformat_minor": 2
}
