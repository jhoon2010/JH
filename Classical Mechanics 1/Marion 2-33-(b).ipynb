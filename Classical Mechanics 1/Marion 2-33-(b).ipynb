{
 "cells": [
  {
   "cell_type": "code",
   "execution_count": 1,
   "metadata": {},
   "outputs": [],
   "source": [
    "import numpy as np\n",
    "import matplotlib.pyplot as plt"
   ]
  },
  {
   "cell_type": "code",
   "execution_count": 2,
   "metadata": {},
   "outputs": [],
   "source": [
    "def rk4(f, r0, h, tend):\n",
    "    pt, pr= [], []\n",
    "    t, r=0, np.array(r0,dtype=float)\n",
    "    \n",
    "    while t<= tend:\n",
    "        pt.append(t)\n",
    "        pr.append(r.copy())\n",
    "        \n",
    "        k1=f(t,r)\n",
    "        k2=f(t+h/2,r+h/2*k1)\n",
    "        k3=f(t+h/2,r+h/2*k2)\n",
    "        k4=f(t+h,r+h*k3)\n",
    "        r+=(h/6)*(k1+2*k2+2*k3+k4)\n",
    "        t+=h\n",
    "    return np.array(pt), np.array(pr)\n",
    "\n",
    "def fdrag(t,r):\n",
    "    py, vy, ay=r\n",
    "    coe=0.3072\n",
    "    \n",
    "    dy=vy\n",
    "    ddy=-9.8+coe*vy*vy\n",
    "    dddy=2*coe*vy*ay\n",
    "    \n",
    "    return np.array([dy, ddy, dddy])"
   ]
  },
  {
   "cell_type": "code",
   "execution_count": 3,
   "metadata": {},
   "outputs": [
    {
     "data": {
      "text/plain": [
       "Text(0.5, 1.0, 'y vs. time')"
      ]
     },
     "execution_count": 3,
     "metadata": {},
     "output_type": "execute_result"
    },
    {
     "data": {
      "image/png": "[encoded data removed]",
      "text/plain": [
       "<Figure size 432x288 with 1 Axes>"
      ]
     },
     "metadata": {
      "needs_background": "light"
     },
     "output_type": "display_data"
    }
   ],
   "source": [
    "r0=[100,0,-9.8]\n",
    "tout,rout=rk4(fdrag,r0,0.01,20)\n",
    "x=0\n",
    "fig1, ax1=plt.subplots()\n",
    "ax1.plot(tout,rout[:,0],'r')\n",
    "ax1.grid()\n",
    "plt.xlim(0,30)\n",
    "plt.ylim(0,110)\n",
    "ax1.set_title('y vs. time')"
   ]
  },
  {
   "cell_type": "code",
   "execution_count": 4,
   "metadata": {},
   "outputs": [
    {
     "data": {
      "text/plain": [
       "Text(0.5, 1.0, 'y vs. vy')"
      ]
     },
     "execution_count": 4,
     "metadata": {},
     "output_type": "execute_result"
    },
    {
     "data": {
      "image/png": "[encoded data removed]",
      "text/plain": [
       "<Figure size 432x288 with 1 Axes>"
      ]
     },
     "metadata": {
      "needs_background": "light"
     },
     "output_type": "display_data"
    }
   ],
   "source": [
    "r0=[100,0,-9.8]\n",
    "tout,rout=rk4(fdrag,r0,0.01,20)\n",
    "x=0\n",
    "fig1, ax1=plt.subplots()\n",
    "ax1.plot(tout,rout[:,1],'r')\n",
    "ax1.grid()\n",
    "plt.xlim(0,30)\n",
    "plt.ylim(-70,0)\n",
    "ax1.set_title('y vs. vy')"
   ]
  },
  {
   "cell_type": "code",
   "execution_count": 5,
   "metadata": {},
   "outputs": [
    {
     "data": {
      "text/plain": [
       "Text(0.5, 1.0, 'y vs. ay')"
      ]
     },
     "execution_count": 5,
     "metadata": {},
     "output_type": "execute_result"
    },
    {
     "data": {
      "image/png": "[encoded data removed]",
      "text/plain": [
       "<Figure size 432x288 with 1 Axes>"
      ]
     },
     "metadata": {
      "needs_background": "light"
     },
     "output_type": "display_data"
    }
   ],
   "source": [
    "r0=[100,0,-9.8]\n",
    "tout,rout=rk4(fdrag,r0,0.01,20)\n",
    "x=0\n",
    "fig1, ax1=plt.subplots()\n",
    "ax1.plot(tout,rout[:,2],'r')\n",
    "ax1.grid()\n",
    "plt.xlim(0,10)\n",
    "plt.ylim(-20,0)\n",
    "ax1.set_title('y vs. ay')"
   ]
  }
 ],
 "metadata": {
  "kernelspec": {
   "display_name": "Python 3",
   "language": "python",
   "name": "python3"
  },
  "language_info": {
   "codemirror_mode": {
    "name": "ipython",
    "version": 3
   },
   "file_extension": ".py",
   "mimetype": "text/x-python",
   "name": "python",
   "nbconvert_exporter": "python",
   "pygments_lexer": "ipython3",
   "version": "3.7.2"
  }
 },
 "nbformat": 4,
 "nbformat_minor": 2
}
