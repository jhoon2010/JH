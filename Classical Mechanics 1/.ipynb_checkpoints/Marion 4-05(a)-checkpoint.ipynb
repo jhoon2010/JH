{
 "cells": [
  {
   "cell_type": "markdown",
   "metadata": {},
   "source": [
    "# Problem 1"
   ]
  },
  {
   "cell_type": "code",
   "execution_count": 2,
   "metadata": {},
   "outputs": [],
   "source": [
    "import numpy as np\n",
    "import matplotlib.pyplot as plt"
   ]
  },
  {
   "cell_type": "code",
   "execution_count": 8,
   "metadata": {},
   "outputs": [],
   "source": [
    "def f(x):\n",
    "    return x**2+x+1\n",
    "def arctan(x):\n",
    "    return np.arctan(x)\n",
    "\n",
    "\n",
    "def find_root(x): # 초기값 대입\n",
    "    TOL=10**(-7) # 용인 가능한 오차 값\n",
    "    err=1\n",
    "    x1=x\n",
    "    while(err>TOL): # 오차가 허용 범위 밖일 때\n",
    "        x2=arctan(f(x1)) # succesive approximation\n",
    "        err=np.abs(x1-x2) # 다시 오차 계산\n",
    "        print('{:5f} {:5f} {:5f} {:5f}'.format(x1,f(x1),x2,err))\n",
    "        x1=x2"
   ]
  },
  {
   "cell_type": "code",
   "execution_count": 11,
   "metadata": {},
   "outputs": [
    {
     "name": "stdout",
     "output_type": "stream",
     "text": [
      "1.178097 3.566010 1.297393 0.119296\n",
      "1.297393 3.980622 1.324673 0.027279\n",
      "1.324673 4.079430 1.330404 0.005732\n",
      "1.330404 4.100380 1.331586 0.001182\n",
      "1.331586 4.104707 1.331829 0.000243\n",
      "1.331829 4.105597 1.331879 0.000050\n",
      "1.331879 4.105779 1.331889 0.000010\n",
      "1.331889 4.105817 1.331891 0.000002\n",
      "1.331891 4.105824 1.331891 0.000000\n",
      "1.331891 4.105826 1.331891 0.000000\n"
     ]
    }
   ],
   "source": [
    "find_root(0.375*np.pi) # 3*pi/8 을 초기값으로"
   ]
  },
  {
   "cell_type": "code",
   "execution_count": 4,
   "metadata": {
    "scrolled": true
   },
   "outputs": [
    {
     "data": {
      "text/plain": [
       "(0, 5)"
      ]
     },
     "execution_count": 4,
     "metadata": {},
     "output_type": "execute_result"
    },
    {
     "data": {
      "image/png": "[encoded data removed]",
      "text/plain": [
       "<Figure size 432x288 with 1 Axes>"
      ]
     },
     "metadata": {
      "needs_background": "light"
     },
     "output_type": "display_data"
    }
   ],
   "source": [
    "t=np.arange(0,1.56,0.01)\n",
    "plt.plot(t,f(t),'r')\n",
    "plt.plot(t,np.tan(t),'b')\n",
    "plt.ylim(0,5)"
   ]
  }
 ],
 "metadata": {
  "kernelspec": {
   "display_name": "Python 3",
   "language": "python",
   "name": "python3"
  },
  "language_info": {
   "codemirror_mode": {
    "name": "ipython",
    "version": 3
   },
   "file_extension": ".py",
   "mimetype": "text/x-python",
   "name": "python",
   "nbconvert_exporter": "python",
   "pygments_lexer": "ipython3",
   "version": "3.7.2"
  }
 },
 "nbformat": 4,
 "nbformat_minor": 2
}
