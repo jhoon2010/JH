{
 "cells": [
  {
   "cell_type": "code",
   "execution_count": 1,
   "metadata": {},
   "outputs": [],
   "source": [
    "import numpy as np\n",
    "import matplotlib.pyplot as plt"
   ]
  },
  {
   "cell_type": "code",
   "execution_count": 2,
   "metadata": {},
   "outputs": [],
   "source": [
    "def rk4(f, r0, h, tend): # runge-kutta method : 함수, 초기 값, # of steps, 종료 시간을 입력 받음.\n",
    "    pt, pr= [], [] # 시간과 값을 저장하는 리스트\n",
    "    t, r=0, np.array(r0,dtype=float)\n",
    "    \n",
    "    while t<= tend:\n",
    "        pt.append(t)\n",
    "        pr.append(r.copy())\n",
    "        \n",
    "        k1=f(t,r)\n",
    "        k2=f(t+h/2,r+h/2*k1)\n",
    "        k3=f(t+h/2,r+h/2*k2)\n",
    "        k4=f(t+h,r+h*k3)\n",
    "        r+=(h/6)*(k1+2*k2+2*k3+k4)\n",
    "        t+=h\n",
    "    return np.array(pt), np.array(pr)\n",
    "\n",
    "def fdrag(t,r): # 운동방정식\n",
    "    px, py, vx , vy=r # 위치 벡터와 속도 벡터를 변수로 함.\n",
    "    coe=0.00347 # coefficient : 저항력 앞의 상수를 계산한 값.\n",
    "    \n",
    "    dx=vx\n",
    "    dy=vy\n",
    "    ddx=-coe*vx*np.sqrt(vx**2+vy**2)\n",
    "    ddy=-9.8-coe*vy*np.sqrt(vx**2+vy**2)\n",
    "    \n",
    "    # 중력 방향을 - , 중력 반대 방향을 + 로 설정하였음.\n",
    "    \n",
    "    return np.array([dx, dy, ddx, ddy])"
   ]
  },
  {
   "cell_type": "code",
   "execution_count": 3,
   "metadata": {},
   "outputs": [
    {
     "data": {
      "text/plain": [
       "Text(0.5, 1.0, 'Trace of projectile')"
      ]
     },
     "execution_count": 3,
     "metadata": {},
     "output_type": "execute_result"
    },
    {
     "data": {
      "image/png": "[encoded data removed]",
      "text/plain": [
       "<Figure size 432x288 with 1 Axes>"
      ]
     },
     "metadata": {
      "needs_background": "light"
     },
     "output_type": "display_data"
    }
   ],
   "source": [
    "fig1, ax1=plt.subplots()\n",
    "\n",
    "x=np.arange(0,250)\n",
    "plt.plot(x,80-4.9*x**2*0.00050726,'b') # 이 그래프는 공기 저항이 없는 상황에 대한 궤적.\n",
    "\n",
    "r0=[33,80,44.4,0]\n",
    "tout,rout=rk4(fdrag,r0,0.01,5) # rk4 에서 반환되는 값을 각각 시간, 결과로 저장함.\n",
    "\n",
    "\n",
    "ax1.plot(rout[:,0],rout[:,1],'r') # 결과의 첫 번째 원소 = x 위치, 두 번째 원소 = y 위치 로 그래프를 그림.\n",
    "\n",
    "plt.plot(210,0,'go',ms=10) # cattle 의 위치를 x=210m 로 설정함. 다른 좌표들 모두 이를 기준으로 함.\n",
    "ax1.grid()\n",
    "ax1.set_aspect(1)\n",
    "plt.xlim(0,250)\n",
    "plt.ylim(0,90)\n",
    "ax1.set_title('Trace of projectile')"
   ]
  },
  {
   "cell_type": "code",
   "execution_count": 4,
   "metadata": {
    "scrolled": true
   },
   "outputs": [
    {
     "data": {
      "text/plain": [
       "Text(0.5, 1.0, 'Trace of projectile')"
      ]
     },
     "execution_count": 4,
     "metadata": {},
     "output_type": "execute_result"
    },
    {
     "data": {
      "image/png": "[encoded data removed]",
      "text/plain": [
       "<Figure size 432x288 with 1 Axes>"
      ]
     },
     "metadata": {
      "needs_background": "light"
     },
     "output_type": "display_data"
    }
   ],
   "source": [
    "x=np.arange(0,250)\n",
    "r0=[0,80,44.4,0]\n",
    "tout,rout=rk4(fdrag,r0,0.01,5)\n",
    "\n",
    "\n",
    "fig1, ax1=plt.subplots()\n",
    "ax1.plot(rout[:,0],rout[:,1],'r')\n",
    "plt.plot(x,80-4.9*x**2*0.00050726,'b')\n",
    "plt.plot(210,0,'go',ms=10)\n",
    "ax1.grid()\n",
    "ax1.set_aspect(1)\n",
    "plt.xlim(0,250)\n",
    "plt.ylim(0,90)\n",
    "ax1.set_title('Trace of projectile')"
   ]
  }
 ],
 "metadata": {
  "kernelspec": {
   "display_name": "Python 3",
   "language": "python",
   "name": "python3"
  },
  "language_info": {
   "codemirror_mode": {
    "name": "ipython",
    "version": 3
   },
   "file_extension": ".py",
   "mimetype": "text/x-python",
   "name": "python",
   "nbconvert_exporter": "python",
   "pygments_lexer": "ipython3",
   "version": "3.7.2"
  }
 },
 "nbformat": 4,
 "nbformat_minor": 2
}
