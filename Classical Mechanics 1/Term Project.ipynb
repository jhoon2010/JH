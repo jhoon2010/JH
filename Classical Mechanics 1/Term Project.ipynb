{
 "cells": [
  {
   "cell_type": "code",
   "execution_count": 1,
   "metadata": {},
   "outputs": [],
   "source": [
    "import numpy as np\n",
    "import matplotlib.pyplot as plt"
   ]
  },
  {
   "cell_type": "code",
   "execution_count": 2,
   "metadata": {},
   "outputs": [],
   "source": [
    "# 체공시간을 찾기 위한 함수\n",
    "def f(T):\n",
    "    k = 0.3 * 0.145\n",
    "    g = 9.8\n",
    "    v = 190 * 1000 / 3600\n",
    "    theta = 30 * np.pi / 180\n",
    "    return T - (k * v * np.sin(theta) + g)/(g * k) * (1 - np.exp(-1 * k * T))"
   ]
  },
  {
   "cell_type": "code",
   "execution_count": 3,
   "metadata": {},
   "outputs": [
    {
     "name": "stdout",
     "output_type": "stream",
     "text": [
      "5.190340886959529\n"
     ]
    }
   ],
   "source": [
    "# 반발계수 변경 전 체공시간\n",
    "a = 0.1\n",
    "b = 20\n",
    "k = 0.3 * 0.145\n",
    "g = 9.8\n",
    "v = 190 * 1000 / 3600\n",
    "theta = 30 * np.pi / 180\n",
    "err = 1\n",
    "TOL = 10**(-10)\n",
    "while(err > TOL):\n",
    "    c = (a + b) * 0.5\n",
    "    err = np.abs(a-b)\n",
    "    if(err < TOL):\n",
    "        print(a)\n",
    "    else:\n",
    "        if((f(a) * f(c)) > 0):\n",
    "            a = c\n",
    "        else:\n",
    "            b = c"
   ]
  },
  {
   "cell_type": "code",
   "execution_count": 4,
   "metadata": {},
   "outputs": [
    {
     "name": "stdout",
     "output_type": "stream",
     "text": [
      "5.190340886959529\n"
     ]
    }
   ],
   "source": [
    "# 반발계수 변경 후 체공시간\n",
    "a = 0.1\n",
    "b = 20\n",
    "k = 0.3 * 0.145\n",
    "g = 9.8\n",
    "v = 190 * 1000 / 3600 + 0.063\n",
    "theta = 30 * np.pi / 180\n",
    "err = 1\n",
    "TOL = 10**(-10)\n",
    "while(err > TOL):\n",
    "    c = (a + b) * 0.5\n",
    "    err = np.abs(a-b)\n",
    "    if(err < TOL):\n",
    "        print(a)\n",
    "    else:\n",
    "        if((f(a) * f(c)) > 0):\n",
    "            a = c\n",
    "        else:\n",
    "            b = c"
   ]
  },
  {
   "cell_type": "code",
   "execution_count": 10,
   "metadata": {
    "scrolled": true
   },
   "outputs": [
    {
     "name": "stdout",
     "output_type": "stream",
     "text": [
      "156.86416496121595\n"
     ]
    }
   ],
   "source": [
    "# 속력의 제곱에 비례하는 저항력, 반발계수 변경 전 비거리\n",
    "x, y = 0, 0\n",
    "vx = 190 * 1000 / 3600 * np.cos(30 * np.pi / 180)\n",
    "vy = 190 * 1000 / 3600 * np.sin(30 * np.pi / 180)\n",
    "t = 0\n",
    "dt = 0.01\n",
    "c = 0.3\n",
    "rho = 1\n",
    "A = np.pi * (3.34 * 0.01)**2\n",
    "xlist, ylist, tlist = [], [], []\n",
    "v = np.sqrt(vx**2 + vy**2)\n",
    "theta = 30 * np.pi / 180\n",
    "vx = vx + 0.5 * dt * (-0.5 * c * rho * A * (v**2) * np.cos(theta)) / 0.145\n",
    "vy = vy + 0.5 * dt * ((-0.5 * c * rho * A * (v**2) * np.sin(theta)) / 0.145 - 9.8)\n",
    "while(y >= 0):\n",
    "    xlist.append(x)\n",
    "    ylist.append(y)\n",
    "    tlist.append(t)\n",
    "    v = np.sqrt(vx**2 + vy**2)\n",
    "    x = x + dt * vx\n",
    "    y = y + dt * vy\n",
    "    theta = np.arctan(vy / vx)\n",
    "    vx = vx + dt * (-0.5 * c * rho * A * (v**2) * np.cos(theta)) / 0.145\n",
    "    vy = vy + dt * ((-0.5 * c * rho * A * (v**2) * np.sin(theta)) / 0.145 - 9.8)\n",
    "    if(y < 0):\n",
    "        print(x)\n",
    "    t = t + dt\n"
   ]
  },
  {
   "cell_type": "code",
   "execution_count": 11,
   "metadata": {},
   "outputs": [
    {
     "name": "stdout",
     "output_type": "stream",
     "text": [
      "157.25186273829408\n"
     ]
    }
   ],
   "source": [
    "# 속력의 제곱에 비례하는 저항력, 반발계수 변경 후 비거리\n",
    "x, y = 0, 0\n",
    "vx = (190 * 1000 / 3600 + 0.063) * np.cos(30 * np.pi / 180)\n",
    "vy = (190 * 1000 / 3600 + 0.063) * np.sin(30 * np.pi / 180)\n",
    "t = 0\n",
    "dt = 0.01\n",
    "c = 0.3\n",
    "rho = 1\n",
    "A = np.pi * (3.34 * 0.01)**2\n",
    "xlist, ylist, tlist = [], [], []\n",
    "v = np.sqrt(vx**2 + vy**2)\n",
    "theta = 30 * np.pi / 180\n",
    "vx = vx + 0.5 * dt * (-0.5 * c * rho * A * (v**2) * np.cos(theta)) / 0.145\n",
    "vy = vy + 0.5 * dt * ((-0.5 * c * rho * A * (v**2) * np.sin(theta)) / 0.145 - 9.8)\n",
    "while(y >= 0):\n",
    "    xlist.append(x)\n",
    "    ylist.append(y)\n",
    "    tlist.append(t)\n",
    "    v = np.sqrt(vx**2 + vy**2)\n",
    "    x = x + dt * vx\n",
    "    y = y + dt * vy\n",
    "    theta = np.arctan(vy / vx)\n",
    "    vx = vx + dt * (-0.5 * c * rho * A * (v**2) * np.cos(theta)) / 0.145\n",
    "    vy = vy + dt * ((-0.5 * c * rho * A * (v**2) * np.sin(theta)) / 0.145 - 9.8)\n",
    "    if(y < 0):\n",
    "        print(x)\n",
    "    t = t + dt\n"
   ]
  },
  {
   "cell_type": "code",
   "execution_count": null,
   "metadata": {},
   "outputs": [],
   "source": []
  }
 ],
 "metadata": {
  "kernelspec": {
   "display_name": "Python 3",
   "language": "python",
   "name": "python3"
  },
  "language_info": {
   "codemirror_mode": {
    "name": "ipython",
    "version": 3
   },
   "file_extension": ".py",
   "mimetype": "text/x-python",
   "name": "python",
   "nbconvert_exporter": "python",
   "pygments_lexer": "ipython3",
   "version": "3.7.2"
  }
 },
 "nbformat": 4,
 "nbformat_minor": 2
}
