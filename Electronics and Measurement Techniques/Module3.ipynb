{
 "cells": [
  {
   "cell_type": "code",
   "execution_count": 23,
   "metadata": {
    "scrolled": true
   },
   "outputs": [
    {
     "name": "stdout",
     "output_type": "stream",
     "text": [
      "asdf0\n",
      "6.0 6.0063437340952275 -2.8835154978305634e-05 -1.419301950375924e-06\n",
      "6.0 6.006033549393749 -2.7425224517038278e-05 -2.8250456886183574e-07\n",
      "6.0 6.006003213869948 -2.7287335772490373e-05 4.854798426657263e-07\n",
      "6.0 6.005745335446854 -2.611516112206654e-05 1.4987734421739655e-06\n",
      "6.0 6.006418487602394 -2.9174943647243935e-05 2.5183032661711115e-06\n",
      "6.0 6.0058303596200195 -2.6501634636453862e-05 3.5495890367579847e-06\n",
      "6.0 6.00068607949406 -3.1185431548209197e-06 6.047820567014245e-06\n",
      "6.0 5.943477252224541 0.0002569215807975404 2.4068625204046907e-05\n",
      "6.0 5.818965174197592 0.0008228855718291291 5.9721120607129914e-05\n",
      "6.0 5.669670137940302 0.001501499372998627 0.00010230508664969418\n",
      "6.0 5.508150626773477 0.002235678969211467 0.0001467746481435747\n",
      "6.0 5.344709865765951 0.0029785915192456743 0.00019185604960263056\n",
      "6.0 5.179330384197212 0.0037303164354672187 0.00023987269597442511\n",
      "6.0 5.010068114406735 0.004499690389060296 0.0002883974752250008\n",
      "6.0 4.842557681409556 0.005261101448138381 0.0003364060808477735\n",
      "6.0 4.675611023269187 0.006019949894230968 0.0003832223203482669\n",
      "6.0 4.508299491777975 0.006780456855554661 0.0004309314279728192\n",
      "6.0 4.3427504383371005 0.007532952553013181 0.00048079144922928344\n",
      "6.0 4.178858403324556 0.008277916348524745 0.0005296957093742908\n",
      "6.0 4.012532749886072 0.009033942045972401 0.0005791555242413203\n",
      "6.0 3.851274875994329 0.009766932381843958 0.0006267096815901672\n",
      "6.0 3.692187500889279 0.01049005681413964 0.0006750787144512733\n",
      "6.0 3.5348366624616836 0.011205287897901439 0.0007246801579570147\n",
      "6.0 3.3764662221966106 0.011925153535469952 0.0007742100573724489\n",
      "6.0 3.223404604479788 0.012620888161455509 0.0008241257269810551\n",
      "6.0 3.070689012912283 0.013315049941307805 0.0008720064767332428\n",
      "6.0 2.9218628272636806 0.013991532603346906 0.0009209135498135508\n",
      "6.0 2.777217385033933 0.014649011886209396 0.0009710452581607277\n",
      "6.0 2.631791001597238 0.015310040901830736 0.001020289565031696\n",
      "6.0 2.4962290634366053 0.015926231529833614 0.0010703062349398972\n",
      "6.0 2.374049856013968 0.016481591563572873 0.0011192879834913197\n",
      "6.0 2.2795856701980144 0.016910974226372662 0.0011670623724445636\n",
      "6.0 2.203601589008518 0.017256356413597646 0.0012180214552901035\n",
      "6.0 2.141139210197465 0.017540276317284248 0.0012669667949053605\n",
      "6.0 2.0894662189597137 0.01777515355018312 0.001314102594470941\n",
      "6.0 2.0431091973831497 0.017985867284622047 0.0013628998038517429\n",
      "6.0 2.0022110347849393 0.01817176802370482 0.0014134157697759386\n",
      "6.0 1.964998876565594 0.018340914197429118 0.0014643248566770647\n",
      "6.0 1.933546550191629 0.018483879317310777 0.0015137118802088893\n",
      "6.0 1.9069332957504121 0.018604848655679945 0.001561632329500802\n"
     ]
    },
    {
     "data": {
      "image/png": "[encoded data removed]",
      "text/plain": [
       "<Figure size 720x720 with 1 Axes>"
      ]
     },
     "metadata": {
      "needs_background": "light"
     },
     "output_type": "display_data"
    }
   ],
   "source": [
    "import os\n",
    "from ctypes import *\n",
    "import time\n",
    "import sys\n",
    "import math\n",
    "import matplotlib.pyplot as plt\n",
    "import numpy as np\n",
    "os.chdir('C:/Users/jhoon/JH/Electronics and Measurement Techniques/module3')#import 장소.\n",
    "from dwfconstants import *\n",
    "if sys.platform.startswith(\"win\"):\n",
    "    dwf = cdll.dwf\n",
    "elif sys.platform.startswith(\"darwin\"):\n",
    "    dwf = cdll.LoadLibrary(\"/Library/Frameworks/dwf.framework/dwf\")\n",
    "else:\n",
    "    dwf = cdll.LoadLibrary(\"libdwf.so\")\n",
    "#dll 불러오기\n",
    "nSamples = 70000\n",
    "hzAcq= c_double(70000)# Acquired data per sec\n",
    "RTime = nSamples/hzAcq.value\n",
    "hdwf = c_int() #handle \n",
    "sts= c_byte() #AnalogIn status info\n",
    "cAvailable = c_int()\n",
    "cBufMax=c_int()\n",
    "cLost = c_int()\n",
    "cCorrupted = c_int()\n",
    "fLost =0 \n",
    "fCorrupted = 0\n",
    "R1=2000\n",
    "R2=220\n",
    "IC,IB,VCE=[],[],[]\n",
    "Vcc=8.0\n",
    "os.chdir('C:/Users/jhoon/JH/Electronics and Measurement Techniques')\n",
    "########################################################\n",
    "rgdSamples=(c_double*nSamples)() # Os1\n",
    "rgdSamples1=(c_double*nSamples)()  #Os2\n",
    "VBase=float(input('asdf'))\n",
    "WaveChannel=int(0)\n",
    "while VBase < 4.0:\n",
    "    dwf.FDwfDeviceOpen(c_int(-1), byref(hdwf))\n",
    "    if hdwf.value == hdwfNone.value:\n",
    "        print(\"failed to open device\")\n",
    "        quit;   \n",
    "\n",
    "    dwf.FDwfAnalogOutNodeEnableSet(hdwf, int(0), AnalogOutNodeCarrier, c_bool(True))\n",
    "    dwf.FDwfAnalogOutNodeFunctionSet(hdwf, WaveChannel, AnalogOutNodeCarrier, funcDC)\n",
    "    dwf.FDwfAnalogOutNodeOffsetSet(hdwf,WaveChannel,AnalogOutNodeCarrier, c_double(VBase))\n",
    "\n",
    "    dwf.FDwfAnalogOutNodeEnableSet(hdwf, int(1), AnalogOutNodeCarrier, c_bool(True))\n",
    "    dwf.FDwfAnalogOutNodeFunctionSet(hdwf, int(1), AnalogOutNodeCarrier, funcDC)\n",
    "    dwf.FDwfAnalogOutNodeOffsetSet(hdwf,int(1),AnalogOutNodeCarrier, c_double(Vcc))\n",
    "\n",
    "    dwf.FDwfAnalogInChannelEnableSet(hdwf, c_int(0), c_bool(True))\n",
    "    dwf.FDwfAnalogInChannelEnableSet(hdwf, c_int(1), c_bool(True))\n",
    "    dwf.FDwfAnalogInChannelRangeSet(hdwf, c_int(1), c_double(15))\n",
    "    dwf.FDwfAnalogInChannelRangeSet(hdwf,c_int(0), c_double(15))\n",
    "    dwf.FDwfAnalogInAcquisitionModeSet(hdwf, acqmodeRecord)\n",
    "    dwf.FDwfAnalogInFrequencySet(hdwf, hzAcq)\n",
    "    dwf.FDwfAnalogInRecordLengthSet(hdwf, c_double(RTime))\n",
    "#a=input('If the thing is connected, press any button')\n",
    "##########################################################\n",
    "    dwf.FDwfAnalogOutConfigure(hdwf,int(0),c_bool(True))\n",
    "    dwf.FDwfAnalogOutConfigure(hdwf,int(1),c_bool(True))\n",
    "    time.sleep(0.1)\n",
    "    dwf.FDwfAnalogInConfigure(hdwf, c_int(1), c_bool(True))\n",
    "#    time.sleep(0.5)\n",
    "    cSamples = 0\n",
    "    \n",
    "\n",
    "    while cSamples < nSamples:\n",
    "        dwf.FDwfAnalogInStatus(hdwf, c_int(1), byref(sts))\n",
    "#        if cSamples%100 ==0:\n",
    "#            print(datetime.now())\n",
    "        if cSamples == 0 and (sts == DwfStateConfig or sts == DwfStatePrefill or sts == DwfStateArmed) :\n",
    "            # Acquisition not yet started.\n",
    "            continue\n",
    "    \n",
    "        dwf.FDwfAnalogInStatusRecord(hdwf, byref(cAvailable), byref(cLost), byref(cCorrupted))\n",
    "        cSamples += cLost.value\n",
    "    \n",
    "        if cLost.value :\n",
    "            fLost = 1\n",
    "        if cCorrupted.value :\n",
    "            fCorrupted = 1\n",
    "    \n",
    "        if cAvailable.value==0 :\n",
    "            break;\n",
    "    \n",
    "        if cSamples+cAvailable.value > nSamples :\n",
    "            cAvailable = c_int(nSamples-cSamples)\n",
    "\n",
    "        dwf.FDwfAnalogInStatusData(hdwf, c_int(0), byref(rgdSamples, sizeof(c_double)*cSamples), cAvailable) # get channel 1 data\n",
    "        dwf.FDwfAnalogInStatusData(hdwf, c_int(1), byref(rgdSamples1, sizeof(c_double)*cSamples), cAvailable) # get channel 1 data\n",
    "\n",
    "        cSamples += cAvailable.value\n",
    "    dwf.FDwfAnalogOutReset(hdwf, WaveChannel)\n",
    "    dwf.FDwfDeviceCloseAll()    \n",
    "    if fLost:\n",
    "        print(\"Samples were lost! Reduce frequency\")\n",
    "        break;\n",
    "    if fCorrupted:\n",
    "        print(\"Samples could be corrupted! Reduce frequency\")\n",
    "        break;\n",
    "    V1=np.mean(rgdSamples)\n",
    "    V2=np.mean(rgdSamples1)\n",
    "    #Vce=Vcc - V2\n",
    "    Vbe=VBase-V1\n",
    "    Vce=Vcc-V2\n",
    "    #Ic=V2/R2 \n",
    "    Ib=V1/R1\n",
    "    Icc=V2/R2\n",
    "    Ic=Icc\n",
    "    VCE.append(Vce)\n",
    "    IC.append(Ic)\n",
    "    IB.append(Ib)\n",
    "    \n",
    "    VBase+=0.1\n",
    "    print(Vcc, Vce, Ic, Ib)\n",
    "np.savetxt('ex2_VCE11.txt',VCE)\n",
    "np.savetxt('ex2_IC11.txt',IC)\n",
    "np.savetxt('ex2_IB11.txt',IB)\n",
    "\n",
    "\n",
    "plt.figure(figsize=(10,10))\n",
    "plt.plot(IB,VCE,'o')\n",
    "plt.xlabel('V')\n",
    "plt.ylabel('A')\n",
    "plt.show()    "
   ]
  },
  {
   "cell_type": "code",
   "execution_count": 91,
   "metadata": {},
   "outputs": [],
   "source": [
    "import matplotlib.pyplot as plt\n",
    "import numpy as np\n",
    "import os\n",
    "os.chdir('C:/Users/jhoon/JH/Electronics and Measurement Techniques')"
   ]
  },
  {
   "cell_type": "code",
   "execution_count": 69,
   "metadata": {
    "scrolled": true
   },
   "outputs": [
    {
     "name": "stdout",
     "output_type": "stream",
     "text": [
      "[1.15554914e-04 1.11258766e-04 1.07524568e-04 1.03576427e-04\n",
      " 1.00176915e-04 9.66168007e-05 9.33787938e-05 9.02321806e-05\n",
      " 8.76313566e-05 8.52172477e-05 8.25329644e-05 8.04510473e-05\n",
      " 7.82223268e-05 7.63250816e-05 7.46689792e-05 7.34510047e-05\n",
      " 7.17917179e-05 7.05223410e-05 6.88010104e-05 6.76229478e-05]\n",
      "[-0.03719463 -0.03296388 -0.02418713 -0.01825719 -0.00893899 -0.00292579\n",
      "  0.00642971  0.01535181  0.03212466  0.04755569  0.06661057  0.08616358\n",
      "  0.10566316  0.1287108   0.15110027  0.17905102  0.20070677  0.2274312\n",
      "  0.25313193  0.27903576]\n"
     ]
    }
   ],
   "source": [
    "VCE16 = np.loadtxt('zVCE16.txt')\n",
    "IB16  = np.loadtxt('zIB16.txt')\n",
    "IC16  = np.loadtxt('zIC16.txt')\n",
    "print(IB16)\n",
    "print(IC16)"
   ]
  },
  {
   "cell_type": "code",
   "execution_count": 70,
   "metadata": {
    "scrolled": false
   },
   "outputs": [
    {
     "name": "stdout",
     "output_type": "stream",
     "text": [
      "[7.20146032e-05 6.79700003e-05 6.43154931e-05 6.00789207e-05\n",
      " 5.68688042e-05 5.35110617e-05 5.03354966e-05 4.76519829e-05\n",
      " 4.48034878e-05 4.23340225e-05 3.99704138e-05 3.75829483e-05\n",
      " 3.53975364e-05 3.35757627e-05 3.17615256e-05 3.02686000e-05\n",
      " 2.86420599e-05 2.73482955e-05 2.61024305e-05 2.50451118e-05]\n",
      "[-3.22830955e-02 -3.07307041e-02 -2.70009700e-02 -2.58680202e-02\n",
      " -1.94303244e-02 -1.42550446e-02 -7.99566564e-03  2.37801023e-05\n",
      "  1.02674940e-02  1.71896053e-02  3.14190980e-02  4.27461891e-02\n",
      "  5.56319284e-02  6.58850274e-02  8.21544554e-02  9.61423421e-02\n",
      "  1.09209527e-01  1.18944520e-01  1.34736511e-01  1.46520825e-01]\n"
     ]
    }
   ],
   "source": [
    "VCE17 = np.loadtxt('zVCE17.txt')\n",
    "IB17  = np.loadtxt('zIB17.txt')\n",
    "IC17  = np.loadtxt('zIC17.txt')\n",
    "print(IB17)\n",
    "print(IC17)"
   ]
  },
  {
   "cell_type": "code",
   "execution_count": 71,
   "metadata": {
    "scrolled": false
   },
   "outputs": [
    {
     "name": "stdout",
     "output_type": "stream",
     "text": [
      "[3.34036960e-05 2.97713473e-05 2.60248625e-05 2.30660261e-05\n",
      " 2.02110560e-05 1.74536894e-05 1.49662585e-05 1.29914717e-05\n",
      " 1.10819929e-05 9.80547754e-06 8.86845163e-06 7.58564699e-06\n",
      " 6.66276538e-06 6.18515019e-06 5.66762317e-06 5.21211341e-06\n",
      " 4.87628609e-06 4.78815629e-06 4.64926098e-06 4.28859491e-06]\n",
      "[-0.0240348   0.0213833   0.06665196  0.10831     0.15259948  0.20061051\n",
      "  0.25035201  0.2927907   0.33477434  0.38009666  0.42388416  0.46857046\n",
      "  0.51106377  0.55757006  0.5998107   0.64652178  0.69265362  0.73882277\n",
      "  0.78628056  0.83114398]\n"
     ]
    }
   ],
   "source": [
    "VCE18 = np.loadtxt('zVCE18.txt')\n",
    "IB18  = np.loadtxt('zIB18.txt')\n",
    "IC18 = np.loadtxt('zIC18.txt')\n",
    "print(IB18)\n",
    "print(IC18)"
   ]
  },
  {
   "cell_type": "code",
   "execution_count": 72,
   "metadata": {
    "scrolled": false
   },
   "outputs": [
    {
     "name": "stdout",
     "output_type": "stream",
     "text": [
      "[0.00015935 0.0001557  0.00015166 0.00014769 0.0001445  0.00014133\n",
      " 0.00013886 0.00013619 0.00013412 0.00013185 0.00012972 0.00012757\n",
      " 0.00012564 0.00012398 0.00012245 0.0001211  0.00011937 0.00011846\n",
      " 0.00011719 0.00011552]\n",
      "[-0.0346722  -0.02863229 -0.02185529 -0.01350833 -0.00332309  0.00953473\n",
      "  0.02348725  0.03868461  0.05594236  0.07824833  0.0955364   0.11607677\n",
      "  0.13983695  0.16725708  0.1974653   0.22053676  0.25096926  0.27871618\n",
      "  0.30895882  0.33740722]\n"
     ]
    }
   ],
   "source": [
    "VCE5 = np.loadtxt('zVCE5.txt')\n",
    "IB5  = np.loadtxt('zIB5.txt')\n",
    "IC5 = np.loadtxt('zIC5.txt')\n",
    "print(IB5)\n",
    "print(IC5)"
   ]
  },
  {
   "cell_type": "code",
   "execution_count": 89,
   "metadata": {
    "scrolled": false
   },
   "outputs": [
    {
     "data": {
      "image/png": "[encoded data removed]",
      "text/plain": [
       "<Figure size 432x288 with 1 Axes>"
      ]
     },
     "metadata": {
      "needs_background": "light"
     },
     "output_type": "display_data"
    }
   ],
   "source": [
    "plt.plot(VCE17, IC17, 'o')\n",
    "plt.plot(VCE16, IC16, 'o')\n",
    "plt.plot(VCE5, IC5, 'o')\n",
    "plt.text(0.05,0.3,'$I_B$ = 100μA', fontsize = 20)\n",
    "plt.text(0.12,0.25,'$I_B$ = 60μA', fontsize = 20)\n",
    "plt.text(0.12,0.01,'$I_B$ = 20μA', fontsize = 20)\n",
    "plt.xlabel('$V_{CE}$ (V)', fontsize = 20)\n",
    "plt.ylabel('$I_C$ (mA)', fontsize = 20)\n",
    "xtick_val = [0,0.08,0.16]\n",
    "ytick_val = [0,0.2,0.4]\n",
    "plt.xticks(xtick_val, fontsize = 20)\n",
    "plt.yticks(ytick_val, fontsize = 20)\n",
    "plt.show()"
   ]
  },
  {
   "cell_type": "code",
   "execution_count": 39,
   "metadata": {
    "scrolled": true
   },
   "outputs": [
    {
     "data": {
      "text/plain": [
       "[<matplotlib.lines.Line2D at 0x1e9a5962780>]"
      ]
     },
     "execution_count": 39,
     "metadata": {},
     "output_type": "execute_result"
    },
    {
     "data": {
      "image/png": "[encoded data removed]",
      "text/plain": [
       "<Figure size 432x288 with 1 Axes>"
      ]
     },
     "metadata": {
      "needs_background": "light"
     },
     "output_type": "display_data"
    }
   ],
   "source": [
    "plt.plot(IB17,'o')\n",
    "plt.plot(IB16,'o')\n",
    "plt.plot(IB18,'o')\n",
    "plt.plot(IB5,'o')"
   ]
  },
  {
   "cell_type": "code",
   "execution_count": 123,
   "metadata": {},
   "outputs": [
    {
     "name": "stdout",
     "output_type": "stream",
     "text": [
      "[0.50628116 0.50646889 0.50631716 0.50683133 0.50649134 0.50554665\n",
      " 0.50088053 0.44454535 0.32302436 0.20814829 0.17026298 0.1539755\n",
      " 0.14480983 0.13758061 0.13147136 0.12726685 0.12351265 0.11996255\n",
      " 0.11659711 0.11431453 0.11219761 0.11082033 0.10838396 0.10623543\n",
      " 0.10444077 0.102539   0.10120741 0.09891578 0.09683163 0.09551725\n",
      " 0.09476781 0.09334268 0.09210083 0.09034719 0.08894297 0.08926131\n",
      " 0.08895509 0.08756289 0.08697947 0.08574466]\n"
     ]
    }
   ],
   "source": [
    "VCE1 = np.loadtxt('ex2_VCE1.txt')\n",
    "IB1  = np.loadtxt('ex2_IB1.txt')\n",
    "IC1  = np.loadtxt('ex2_IC1.txt')\n",
    "print(VCE1)"
   ]
  },
  {
   "cell_type": "code",
   "execution_count": 122,
   "metadata": {},
   "outputs": [
    {
     "name": "stdout",
     "output_type": "stream",
     "text": [
      "[1.60573395 1.60505651 1.60484363 1.60556899 1.60473399 1.6044776\n",
      " 1.60013935 1.54276064 1.42018897 1.27404004 1.11625048 0.95656184\n",
      " 0.79624421 0.63345972 0.47443973 0.33010067 0.24679948 0.21483711\n",
      " 0.19710782 0.18515007 0.17659047 0.17097263 0.16718667 0.16201481\n",
      " 0.15893102 0.15535619 0.1531714  0.14976683 0.14678384 0.14476263\n",
      " 0.14297993 0.14163124 0.13834521 0.13672642 0.1357173  0.13426813\n",
      " 0.13380108 0.13259825 0.13076043 0.12909786]\n"
     ]
    }
   ],
   "source": [
    "VCE3 = np.loadtxt('ex2_VCE5.txt')\n",
    "IB3  = np.loadtxt('ex2_IB5.txt')\n",
    "IC3  = np.loadtxt('ex2_IC5.txt')\n",
    "print(VCE3)"
   ]
  },
  {
   "cell_type": "code",
   "execution_count": 121,
   "metadata": {},
   "outputs": [
    {
     "name": "stdout",
     "output_type": "stream",
     "text": [
      "[2.50537337 2.50497302 2.50517394 2.50458655 2.5050931  2.50466183\n",
      " 2.49913743 2.44237369 2.31943694 2.17293367 2.01341884 1.85244807\n",
      " 1.690141   1.52523259 1.36160918 1.20004197 1.03809898 0.87898932\n",
      " 0.72208107 0.56856267 0.44253435 0.34968531 0.28458093 0.2452609\n",
      " 0.22462978 0.2117132  0.2028097  0.19551059 0.18833658 0.18426585\n",
      " 0.17962484 0.17733389 0.17262389 0.16903128 0.16724566 0.16442181\n",
      " 0.16342413 0.16045829 0.15791995 0.1560724 ]\n"
     ]
    }
   ],
   "source": [
    "VCE7 = np.loadtxt('ex2_VCE7.txt')\n",
    "IB7  = np.loadtxt('ex2_IB7.txt')\n",
    "IC7 = np.loadtxt('ex2_IC7.txt')\n",
    "print(VCE7)"
   ]
  },
  {
   "cell_type": "code",
   "execution_count": 124,
   "metadata": {},
   "outputs": [
    {
     "data": {
      "image/png": "[encoded data removed]",
      "text/plain": [
       "<Figure size 432x288 with 1 Axes>"
      ]
     },
     "metadata": {
      "needs_background": "light"
     },
     "output_type": "display_data"
    }
   ],
   "source": [
    "plt.plot(IB1, VCE1, 'o')\n",
    "plt.plot(IB3, VCE3, 'o')\n",
    "plt.plot(IB7, VCE7, 'o')\n",
    "plt.text(0,2.5,'$I_c$ = 100μA', fontsize = 20)\n",
    "plt.text(0,1.6,'$I_c$ = 60μA', fontsize = 20)\n",
    "plt.text(0,0.5,'$I_c$ = 20μA', fontsize = 20)\n",
    "plt.xlabel('$I_B$', fontsize = 20)\n",
    "plt.ylabel('$V_{ce}$ (V)', fontsize = 20)\n",
    "xtick_val = [0,0.0008,0.0016]\n",
    "ytick_val = [0,1.25,2.5]\n",
    "plt.xticks(xtick_val, fontsize = 20)\n",
    "plt.yticks(ytick_val, fontsize = 20)\n",
    "plt.show()"
   ]
  },
  {
   "cell_type": "code",
   "execution_count": null,
   "metadata": {},
   "outputs": [],
   "source": []
  }
 ],
 "metadata": {
  "kernelspec": {
   "display_name": "Python 3",
   "language": "python",
   "name": "python3"
  },
  "language_info": {
   "codemirror_mode": {
    "name": "ipython",
    "version": 3
   },
   "file_extension": ".py",
   "mimetype": "text/x-python",
   "name": "python",
   "nbconvert_exporter": "python",
   "pygments_lexer": "ipython3",
   "version": "3.7.2"
  }
 },
 "nbformat": 4,
 "nbformat_minor": 2
}
