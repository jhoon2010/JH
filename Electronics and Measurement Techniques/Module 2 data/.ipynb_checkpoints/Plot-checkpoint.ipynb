{
 "cells": [
  {
   "cell_type": "code",
   "execution_count": 4,
   "metadata": {},
   "outputs": [],
   "source": [
    "import numpy as np\n",
    "import matplotlib.pyplot as plt"
   ]
  },
  {
   "cell_type": "code",
   "execution_count": 97,
   "metadata": {},
   "outputs": [],
   "source": [
    "a1 = np.loadtxt(\"1\\Ex1C_1funcSine10.txt\", skiprows = 900000)\n",
    "a2 = np.loadtxt(\"1\\Ex1C_1funcSine20.txt\", skiprows = 950000)\n",
    "a3 = np.loadtxt(\"1\\Ex1C_1funcSine40.txt\", skiprows = 975000)\n",
    "a4 = np.loadtxt(\"1\\Ex1C_1funcSine80.txt\", skiprows = 985000)\n",
    "a5 = np.loadtxt(\"1\\Ex1C_1funcSine160.txt\", skiprows = 985000)\n",
    "a6 = np.loadtxt(\"1\\Ex1C_1funcSine320.txt\", skiprows = 985000)\n",
    "a7 = np.loadtxt(\"1\\Ex1C_1funcSine640.txt\", skiprows = 985000)\n",
    "a8 = np.loadtxt(\"1\\Ex1C_1funcSine1280.txt\", skiprows = 990000)\n",
    "a9 = np.loadtxt(\"1\\Ex1C_1funcSine2560.txt\", skiprows = 990000)\n",
    "a10 = np.loadtxt(\"1\\Ex1C_1funcSine5120.txt\", skiprows = 990000)\n",
    "a11 = np.loadtxt(\"1\\Ex1C_1funcSine10240.txt\", skiprows = 990000)\n",
    "a12 = np.loadtxt(\"1\\Ex1C_1funcSine20480.txt\", skiprows = 990000)\n",
    "a13 = np.loadtxt(\"1\\Ex1C_1funcSine40960.txt\", skiprows = 990000)\n",
    "a14 = np.loadtxt(\"1\\Ex1C_1funcSine81920.txt\", skiprows = 990000)\n",
    "a15 = np.loadtxt(\"1\\Ex1C_1funcSine163840.txt\", skiprows = 990000)\n",
    "a16 = np.loadtxt(\"1\\Ex1C_1funcSine327680.txt\", skiprows = 990000)\n",
    "a17 = np.loadtxt(\"1\\Ex1C_1funcSine655360.txt\", skiprows = 990000)"
   ]
  },
  {
   "cell_type": "code",
   "execution_count": 98,
   "metadata": {},
   "outputs": [],
   "source": [
    "b1 = np.loadtxt(\"1\\Ex1C_2funcSine10.txt\", skiprows = 900000)\n",
    "b2 = np.loadtxt(\"1\\Ex1C_2funcSine20.txt\", skiprows = 950000)\n",
    "b3 = np.loadtxt(\"1\\Ex1C_2funcSine40.txt\", skiprows = 975000)\n",
    "b4 = np.loadtxt(\"1\\Ex1C_2funcSine80.txt\", skiprows = 985000)\n",
    "b5 = np.loadtxt(\"1\\Ex1C_2funcSine160.txt\", skiprows = 985000)\n",
    "b6 = np.loadtxt(\"1\\Ex1C_2funcSine320.txt\", skiprows = 985000)\n",
    "b7 = np.loadtxt(\"1\\Ex1C_2funcSine640.txt\", skiprows = 985000)\n",
    "b8 = np.loadtxt(\"1\\Ex1C_2funcSine1280.txt\", skiprows = 990000)\n",
    "b9 = np.loadtxt(\"1\\Ex1C_2funcSine2560.txt\", skiprows = 990000)\n",
    "b10 = np.loadtxt(\"1\\Ex1C_2funcSine5120.txt\", skiprows = 990000)\n",
    "b11 = np.loadtxt(\"1\\Ex1C_2funcSine10240.txt\", skiprows = 990000)\n",
    "b12 = np.loadtxt(\"1\\Ex1C_2funcSine20480.txt\", skiprows = 990000)\n",
    "b13 = np.loadtxt(\"1\\Ex1C_2funcSine40960.txt\", skiprows = 990000)\n",
    "b14 = np.loadtxt(\"1\\Ex1C_2funcSine81920.txt\", skiprows = 990000)\n",
    "b15 = np.loadtxt(\"1\\Ex1C_2funcSine163840.txt\", skiprows = 990000)\n",
    "b16 = np.loadtxt(\"1\\Ex1C_2funcSine327680.txt\", skiprows = 990000)\n",
    "b17 = np.loadtxt(\"1\\Ex1C_2funcSine655360.txt\", skiprows = 990000)"
   ]
  },
  {
   "cell_type": "code",
   "execution_count": 110,
   "metadata": {
    "scrolled": true
   },
   "outputs": [
    {
     "data": {
      "text/plain": [
       "26"
      ]
     },
     "execution_count": 110,
     "metadata": {},
     "output_type": "execute_result"
    }
   ],
   "source": [
    "fre = [81920,85920,89920,93920,97920,101920,105920,109920,113920,117920,121920,125920,129920,133920,137920,141920,145920,149920,153920,157920,161920,163840,165920,169920,171840,179840]\n",
    "len(fre)"
   ]
  },
  {
   "cell_type": "code",
   "execution_count": 99,
   "metadata": {},
   "outputs": [],
   "source": [
    "m1 = np.max(a1)\n",
    "m2 = np.max(a2)\n",
    "m3 = np.max(a3)\n",
    "m4 = np.max(a4)\n",
    "m5 = np.max(a5)\n",
    "m6 = np.max(a6)\n",
    "m7 = np.max(a7)\n",
    "m8 = np.max(a8)\n",
    "m9 = np.max(a9)\n",
    "m10 = np.max(a10)\n",
    "m11= np.max(a11)\n",
    "m12 = np.max(a12)\n",
    "m13 = np.max(a13)\n",
    "m14 = np.max(a14)\n",
    "m15 = np.max(a15)\n",
    "m16 = np.max(a16)\n",
    "m17 = np.max(a17)\n",
    "max1 = [m1,m2,m3,m4,m5,m6,m7,m8,m9,m10,m11,m12,m13,m14,m15,m16,m17]"
   ]
  },
  {
   "cell_type": "code",
   "execution_count": 100,
   "metadata": {},
   "outputs": [],
   "source": [
    "n1 = np.max(b1)\n",
    "n2 = np.max(b2)\n",
    "n3 = np.max(b3)\n",
    "n4 = np.max(b4)\n",
    "n5 = np.max(b5)\n",
    "n6 = np.max(b6)\n",
    "n7 = np.max(b7)\n",
    "n8 = np.max(b8)\n",
    "n9 = np.max(b9)\n",
    "n10 = np.max(b10)\n",
    "n11= np.max(b11)\n",
    "n12 = np.max(b12)\n",
    "n13 = np.max(b13)\n",
    "n14 = np.max(b14)\n",
    "n15 = np.max(b15)\n",
    "n16 = np.max(b16)\n",
    "n17 = np.max(b17)\n",
    "max2 = [n1,n2,n3,n4,n5,n6,n7,n8,n9,n10,n11,n12,n13,n14,n15,n16,n17]"
   ]
  },
  {
   "cell_type": "code",
   "execution_count": 101,
   "metadata": {
    "scrolled": false
   },
   "outputs": [
    {
     "data": {
      "image/png": "[encoded data removed]",
      "text/plain": [
       "<Figure size 432x288 with 1 Axes>"
      ]
     },
     "metadata": {
      "needs_background": "light"
     },
     "output_type": "display_data"
    }
   ],
   "source": [
    "plt.semilogx(fre, max1,'ro')\n",
    "plt.semilogx(fre, max2,'bo')\n",
    "plt.title('Frequecy sweep for Capcitor', fontsize = 20)\n",
    "plt.xlabel('Frquency (Hz)', fontsize = 20)\n",
    "plt.ylabel('Voltage (V)', fontsize = 20)\n",
    "xtick_val = [100, 10000, 1000000]\n",
    "ytick_val = [1, 2, 3]\n",
    "plt.xticks(xtick_val, fontsize = 20)\n",
    "plt.yticks(ytick_val, fontsize = 20)\n",
    "plt.show()"
   ]
  },
  {
   "cell_type": "code",
   "execution_count": 82,
   "metadata": {},
   "outputs": [],
   "source": [
    "a1 = np.loadtxt(\"1\\Ex1L_1funcSine10.txt\", skiprows = 900000)\n",
    "a2 = np.loadtxt(\"1\\Ex1L_1funcSine20.txt\", skiprows = 950000)\n",
    "a3 = np.loadtxt(\"1\\Ex1L_1funcSine40.txt\", skiprows = 975000)\n",
    "a4 = np.loadtxt(\"1\\Ex1L_1funcSine80.txt\", skiprows = 985000)\n",
    "a5 = np.loadtxt(\"1\\Ex1L_1funcSine160.txt\", skiprows = 985000)\n",
    "a6 = np.loadtxt(\"1\\Ex1L_1funcSine320.txt\", skiprows = 985000)\n",
    "a7 = np.loadtxt(\"1\\Ex1L_1funcSine640.txt\", skiprows = 985000)\n",
    "a8 = np.loadtxt(\"1\\Ex1L_1funcSine1280.txt\", skiprows = 990000)\n",
    "a9 = np.loadtxt(\"1\\Ex1L_1funcSine2560.txt\", skiprows = 990000)\n",
    "a10 = np.loadtxt(\"1\\Ex1L_1funcSine5120.txt\", skiprows = 990000)\n",
    "a11 = np.loadtxt(\"1\\Ex1L_1funcSine10240.txt\", skiprows = 990000)\n",
    "a12 = np.loadtxt(\"1\\Ex1L_1funcSine20480.txt\", skiprows = 990000)\n",
    "a13 = np.loadtxt(\"1\\Ex1L_1funcSine40960.txt\", skiprows = 990000)\n",
    "a14 = np.loadtxt(\"1\\Ex1L_1funcSine81920.txt\", skiprows = 990000)\n",
    "a15 = np.loadtxt(\"1\\Ex1L_1funcSine163840.txt\", skiprows = 990000)\n",
    "a16 = np.loadtxt(\"1\\Ex1L_1funcSine327680.txt\", skiprows = 990000)\n",
    "a17 = np.loadtxt(\"1\\Ex1L_1funcSine655360.txt\", skiprows = 990000)"
   ]
  },
  {
   "cell_type": "code",
   "execution_count": 83,
   "metadata": {},
   "outputs": [],
   "source": [
    "b1 = np.loadtxt(\"1\\Ex1L_2funcSine10.txt\", skiprows = 900000)\n",
    "b2 = np.loadtxt(\"1\\Ex1L_2funcSine20.txt\", skiprows = 950000)\n",
    "b3 = np.loadtxt(\"1\\Ex1L_2funcSine40.txt\", skiprows = 975000)\n",
    "b4 = np.loadtxt(\"1\\Ex1L_2funcSine80.txt\", skiprows = 985000)\n",
    "b5 = np.loadtxt(\"1\\Ex1L_2funcSine160.txt\", skiprows = 985000)\n",
    "b6 = np.loadtxt(\"1\\Ex1L_2funcSine320.txt\", skiprows = 985000)\n",
    "b7 = np.loadtxt(\"1\\Ex1L_2funcSine640.txt\", skiprows = 985000)\n",
    "b8 = np.loadtxt(\"1\\Ex1L_2funcSine1280.txt\", skiprows = 990000)\n",
    "b9 = np.loadtxt(\"1\\Ex1L_2funcSine2560.txt\", skiprows = 990000)\n",
    "b10 = np.loadtxt(\"1\\Ex1L_2funcSine5120.txt\", skiprows = 990000)\n",
    "b11 = np.loadtxt(\"1\\Ex1L_2funcSine10240.txt\", skiprows = 990000)\n",
    "b12 = np.loadtxt(\"1\\Ex1L_2funcSine20480.txt\", skiprows = 990000)\n",
    "b13 = np.loadtxt(\"1\\Ex1L_2funcSine40960.txt\", skiprows = 990000)\n",
    "b14 = np.loadtxt(\"1\\Ex1L_2funcSine81920.txt\", skiprows = 990000)\n",
    "b15 = np.loadtxt(\"1\\Ex1L_2funcSine163840.txt\", skiprows = 990000)\n",
    "b16 = np.loadtxt(\"1\\Ex1L_2funcSine327680.txt\", skiprows = 990000)\n",
    "b17 = np.loadtxt(\"1\\Ex1L_2funcSine655360.txt\", skiprows = 990000)"
   ]
  },
  {
   "cell_type": "code",
   "execution_count": 94,
   "metadata": {},
   "outputs": [],
   "source": [
    "m1 = np.max(a1)\n",
    "m2 = np.max(a2)\n",
    "m3 = np.max(a3)\n",
    "m4 = np.max(a4)\n",
    "m5 = np.max(a5)\n",
    "m6 = np.max(a6)\n",
    "m7 = np.max(a7)\n",
    "m8 = np.max(a8)\n",
    "m9 = np.max(a9)\n",
    "m10 = np.max(a10)\n",
    "m11= np.max(a11)\n",
    "m12 = np.max(a12)\n",
    "m13 = np.max(a13)\n",
    "m14 = np.max(a14)\n",
    "m15 = np.max(a15)\n",
    "m16 = np.max(a16)\n",
    "m17 = np.max(a17)\n",
    "max1 = [m1,m2,m3,m4,m5,m6,m7,m8,m9,m10,m11,m12,m13,m14,m15,m16,m17]"
   ]
  },
  {
   "cell_type": "code",
   "execution_count": 95,
   "metadata": {},
   "outputs": [],
   "source": [
    "n1 = np.max(b1)\n",
    "n2 = np.max(b2)\n",
    "n3 = np.max(b3)\n",
    "n4 = np.max(b4)\n",
    "n5 = np.max(b5)\n",
    "n6 = np.max(b6)\n",
    "n7 = np.max(b7)\n",
    "n8 = np.max(b8)\n",
    "n9 = np.max(b9)\n",
    "n10 = np.max(b10)\n",
    "n11= np.max(b11)\n",
    "n12 = np.max(b12)\n",
    "n13 = np.max(b13)\n",
    "n14 = np.max(b14)\n",
    "n15 = np.max(b15)\n",
    "n16 = np.max(b16)\n",
    "n17 = np.max(b17)\n",
    "max2 = [n1,n2,n3,n4,n5,n6,n7,n8,n9,n10,n11,n12,n13,n14,n15,n16,n17]"
   ]
  },
  {
   "cell_type": "code",
   "execution_count": 96,
   "metadata": {
    "scrolled": true
   },
   "outputs": [
    {
     "data": {
      "image/png": "[encoded data removed]",
      "text/plain": [
       "<Figure size 432x288 with 1 Axes>"
      ]
     },
     "metadata": {
      "needs_background": "light"
     },
     "output_type": "display_data"
    }
   ],
   "source": [
    "plt.semilogx(fre, max1,'ro')\n",
    "plt.semilogx(fre, max2,'bo')\n",
    "plt.title('Frequecy sweep for Inductor', fontsize = 20)\n",
    "plt.xlabel('Frquency (Hz)', fontsize = 20)\n",
    "plt.ylabel('Voltage (V)', fontsize = 20)\n",
    "xtick_val = [100, 10000, 1000000]\n",
    "ytick_val = [1, 2, 3]\n",
    "plt.xticks(xtick_val, fontsize = 20)\n",
    "plt.yticks(ytick_val, fontsize = 20)\n",
    "plt.show()"
   ]
  },
  {
   "cell_type": "code",
   "execution_count": 116,
   "metadata": {},
   "outputs": [],
   "source": [
    "fre = [81920,85920,89920,93920,97920,101920,105920,109920,113920,117920,121920,125920,129920,133920,137920,141920,145920,149920,153920,157920,161920,163840,165920,169920,171840]"
   ]
  },
  {
   "cell_type": "code",
   "execution_count": 102,
   "metadata": {},
   "outputs": [],
   "source": [
    "a1 = np.loadtxt(\"1\\Ex1R_1funcSine81920.txt\", skiprows = 990000)\n",
    "a2 = np.loadtxt(\"1\\Ex1R_1funcSine85920.txt\", skiprows = 990000)\n",
    "a3 = np.loadtxt(\"1\\Ex1R_1funcSine89920.txt\", skiprows = 990000)\n",
    "a4 = np.loadtxt(\"1\\Ex1R_1funcSine93920.txt\", skiprows = 990000)\n",
    "a5 = np.loadtxt(\"1\\Ex1R_1funcSine97920.txt\", skiprows = 990000)\n",
    "a6 = np.loadtxt(\"1\\Ex1R_1funcSine101920.txt\", skiprows = 990000)\n",
    "a7 = np.loadtxt(\"1\\Ex1R_1funcSine105920.txt\", skiprows = 990000)\n",
    "a8 = np.loadtxt(\"1\\Ex1R_1funcSine109920.txt\", skiprows = 990000)\n",
    "a9 = np.loadtxt(\"1\\Ex1R_1funcSine113920.txt\", skiprows = 990000)\n",
    "a10 = np.loadtxt(\"1\\Ex1R_1funcSine117920.txt\", skiprows = 990000)\n",
    "a11 = np.loadtxt(\"1\\Ex1R_1funcSine121920.txt\", skiprows = 990000)\n",
    "a12 = np.loadtxt(\"1\\Ex1R_1funcSine125920.txt\", skiprows = 990000)\n",
    "a13 = np.loadtxt(\"1\\Ex1R_1funcSine129920.txt\", skiprows = 990000)\n",
    "a14 = np.loadtxt(\"1\\Ex1R_1funcSine133920.txt\", skiprows = 990000)\n",
    "a15 = np.loadtxt(\"1\\Ex1R_1funcSine137920.txt\", skiprows = 990000)\n",
    "a16 = np.loadtxt(\"1\\Ex1R_1funcSine141920.txt\", skiprows = 990000)\n",
    "a17 = np.loadtxt(\"1\\Ex1R_1funcSine145920.txt\", skiprows = 990000)\n",
    "a18 = np.loadtxt(\"1\\Ex1R_1funcSine149920.txt\", skiprows = 990000)\n",
    "a19 = np.loadtxt(\"1\\Ex1R_1funcSine153920.txt\", skiprows = 990000)\n",
    "a20 = np.loadtxt(\"1\\Ex1R_1funcSine157920.txt\", skiprows = 990000)\n",
    "a21 = np.loadtxt(\"1\\Ex1R_1funcSine161920.txt\", skiprows = 990000)\n",
    "a22 = np.loadtxt(\"1\\Ex1R_1funcSine163840.txt\", skiprows = 990000)\n",
    "a23 = np.loadtxt(\"1\\Ex1R_1funcSine165920.txt\", skiprows = 990000)\n",
    "a24 = np.loadtxt(\"1\\Ex1R_1funcSine171840.txt\", skiprows = 990000)\n",
    "a25 = np.loadtxt(\"1\\Ex1R_1funcSine179840.txt\", skiprows = 990000)\n"
   ]
  },
  {
   "cell_type": "code",
   "execution_count": 112,
   "metadata": {},
   "outputs": [],
   "source": [
    "b1 = np.loadtxt(\"1\\Ex1R_2funcSine81920.txt\", skiprows = 990000)\n",
    "b2 = np.loadtxt(\"1\\Ex1R_2funcSine85920.txt\", skiprows = 990000)\n",
    "b3 = np.loadtxt(\"1\\Ex1R_2funcSine89920.txt\", skiprows = 990000)\n",
    "b4 = np.loadtxt(\"1\\Ex1R_2funcSine93920.txt\", skiprows = 990000)\n",
    "b5 = np.loadtxt(\"1\\Ex1R_2funcSine97920.txt\", skiprows = 990000)\n",
    "b6 = np.loadtxt(\"1\\Ex1R_2funcSine101920.txt\", skiprows = 990000)\n",
    "b7 = np.loadtxt(\"1\\Ex1R_2funcSine105920.txt\", skiprows = 990000)\n",
    "b8 = np.loadtxt(\"1\\Ex1R_2funcSine109920.txt\", skiprows = 990000)\n",
    "b9 = np.loadtxt(\"1\\Ex1R_2funcSine113920.txt\", skiprows = 990000)\n",
    "b10 = np.loadtxt(\"1\\Ex1R_2funcSine117920.txt\", skiprows = 990000)\n",
    "b11 = np.loadtxt(\"1\\Ex1R_2funcSine121920.txt\", skiprows = 990000)\n",
    "b12 = np.loadtxt(\"1\\Ex1R_2funcSine125920.txt\", skiprows = 990000)\n",
    "b13 = np.loadtxt(\"1\\Ex1R_2funcSine129920.txt\", skiprows = 990000)\n",
    "b14 = np.loadtxt(\"1\\Ex1R_2funcSine133920.txt\", skiprows = 990000)\n",
    "b15 = np.loadtxt(\"1\\Ex1R_2funcSine137920.txt\", skiprows = 990000)\n",
    "b16 = np.loadtxt(\"1\\Ex1R_2funcSine141920.txt\", skiprows = 990000)\n",
    "b17 = np.loadtxt(\"1\\Ex1R_2funcSine145920.txt\", skiprows = 990000)\n",
    "b18 = np.loadtxt(\"1\\Ex1R_2funcSine149920.txt\", skiprows = 990000)\n",
    "b19 = np.loadtxt(\"1\\Ex1R_2funcSine153920.txt\", skiprows = 990000)\n",
    "b20 = np.loadtxt(\"1\\Ex1R_2funcSine157920.txt\", skiprows = 990000)\n",
    "b21 = np.loadtxt(\"1\\Ex1R_2funcSine161920.txt\", skiprows = 990000)\n",
    "b22 = np.loadtxt(\"1\\Ex1R_2funcSine163840.txt\", skiprows = 990000)\n",
    "b23 = np.loadtxt(\"1\\Ex1R_2funcSine165920.txt\", skiprows = 990000)\n",
    "b24 = np.loadtxt(\"1\\Ex1R_2funcSine171840.txt\", skiprows = 990000)\n",
    "b25 = np.loadtxt(\"1\\Ex1R_2funcSine179840.txt\", skiprows = 990000)"
   ]
  },
  {
   "cell_type": "code",
   "execution_count": 113,
   "metadata": {},
   "outputs": [],
   "source": [
    "m1 = np.max(a1)\n",
    "m2 = np.max(a2)\n",
    "m3 = np.max(a3)\n",
    "m4 = np.max(a4)\n",
    "m5 = np.max(a5)\n",
    "m6 = np.max(a6)\n",
    "m7 = np.max(a7)\n",
    "m8 = np.max(a8)\n",
    "m9 = np.max(a9)\n",
    "m10 = np.max(a10)\n",
    "m11= np.max(a11)\n",
    "m12 = np.max(a12)\n",
    "m13 = np.max(a13)\n",
    "m14 = np.max(a14)\n",
    "m15 = np.max(a15)\n",
    "m16 = np.max(a16)\n",
    "m17 = np.max(a17)\n",
    "m18 = np.max(a18)\n",
    "m19 = np.max(a19)\n",
    "m20 = np.max(a20)\n",
    "m21 = np.max(a21)\n",
    "m22 = np.max(a22)\n",
    "m23 = np.max(a23)\n",
    "m24 = np.max(a24)\n",
    "m25 = np.max(a25)\n",
    "\n",
    "max1 = [m1,m2,m3,m4,m5,m6,m7,m8,m9,m10,m11,m12,m13,m14,m15,m16,m17,m18,m19,m20,m21,m22,m23,m24,m25]"
   ]
  },
  {
   "cell_type": "code",
   "execution_count": 114,
   "metadata": {},
   "outputs": [],
   "source": [
    "n1 = np.max(b1)\n",
    "n2 = np.max(b2)\n",
    "n3 = np.max(b3)\n",
    "n4 = np.max(b4)\n",
    "n5 = np.max(b5)\n",
    "n6 = np.max(b6)\n",
    "n7 = np.max(b7)\n",
    "n8 = np.max(b8)\n",
    "n9 = np.max(b9)\n",
    "n10 = np.max(b10)\n",
    "n11= np.max(b11)\n",
    "n12 = np.max(b12)\n",
    "n13 = np.max(b13)\n",
    "n14 = np.max(b14)\n",
    "n15 = np.max(b15)\n",
    "n16 = np.max(b16)\n",
    "n17 = np.max(b17)\n",
    "n18 = np.max(b18)\n",
    "n19 = np.max(b19)\n",
    "n20 = np.max(b20)\n",
    "n21 = np.max(b21)\n",
    "n22 = np.max(b22)\n",
    "n23 = np.max(b23)\n",
    "n24 = np.max(b24)\n",
    "n25 = np.max(b25)\n",
    "\n",
    "max2 = [n1,n2,n3,n4,n5,n6,n7,n8,n9,n10,n11,n12,n13,n14,n15,n16,n17,n18,n19,n20,n21,n22,n23,n24,n25]"
   ]
  },
  {
   "cell_type": "code",
   "execution_count": 118,
   "metadata": {
    "scrolled": true
   },
   "outputs": [
    {
     "data": {
      "image/png": "[encoded data removed]",
      "text/plain": [
       "<Figure size 432x288 with 1 Axes>"
      ]
     },
     "metadata": {
      "needs_background": "light"
     },
     "output_type": "display_data"
    }
   ],
   "source": [
    "plt.plot(fre, max1,'ro')\n",
    "plt.plot(fre, max2,'bo')\n",
    "plt.title('Frequecy sweep for resistor', fontsize = 20)\n",
    "plt.xlabel('Frquency (Hz)', fontsize = 20)\n",
    "plt.ylabel('Voltage (V)', fontsize = 20)\n",
    "xtick_val = [80000, 120000, 160000]\n",
    "ytick_val = [0, 1.5, 3]\n",
    "plt.xticks(xtick_val, fontsize = 20)\n",
    "plt.yticks(ytick_val, fontsize = 20)\n",
    "plt.show()"
   ]
  },
  {
   "cell_type": "code",
   "execution_count": null,
   "metadata": {},
   "outputs": [],
   "source": []
  }
 ],
 "metadata": {
  "kernelspec": {
   "display_name": "Python 3",
   "language": "python",
   "name": "python3"
  },
  "language_info": {
   "codemirror_mode": {
    "name": "ipython",
    "version": 3
   },
   "file_extension": ".py",
   "mimetype": "text/x-python",
   "name": "python",
   "nbconvert_exporter": "python",
   "pygments_lexer": "ipython3",
   "version": "3.7.2"
  }
 },
 "nbformat": 4,
 "nbformat_minor": 2
}
